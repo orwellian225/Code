{
 "cells": [
  {
   "cell_type": "markdown",
   "metadata": {},
   "source": [
    "# Ramsey Numbers\n",
    "\n",
    "#### Navigation\n",
    "* [Graphs](./Graphs.ipynb)\n",
    "* [Graphset Enumeration](./GraphsetEnumeration.ipynb)\n",
    "* [Subgraph Isomorphism - Subgraph Search](./SubgraphIsomorphism.ipynb)\n",
    "\n",
    "### Useful References\n",
    "\n",
    "* [Ramsey's Theorem](https://en.wikipedia.org/wiki/Ramsey%27s_theorem)\n",
    "\n",
    "### Problem"
   ]
  },
  {
   "cell_type": "code",
   "execution_count": 1,
   "metadata": {},
   "outputs": [],
   "source": [
    "import time\n",
    "from queue import LifoQueue\n",
    "from copy import deepcopy\n",
    "\n",
    "from graph import Graph\n",
    "\n",
    "import polars as pl"
   ]
  },
  {
   "cell_type": "code",
   "execution_count": 2,
   "metadata": {},
   "outputs": [
    {
     "data": {
      "text/html": [
       "<div><style>\n",
       ".dataframe > thead > tr,\n",
       ".dataframe > tbody > tr {\n",
       "  text-align: right;\n",
       "  white-space: pre-wrap;\n",
       "}\n",
       "</style>\n",
       "<small>shape: (16, 10)</small><table border=\"1\" class=\"dataframe\"><thead><tr><th>n</th><th>F</th><th>H</th><th>expected_result</th><th>linear_full_result</th><th>tree_reduced_enumeration_result</th><th>tree_search_result</th><th>linear_full_time_ms</th><th>tree_reduced_enumeration_time_ms</th><th>tree_search_time_ms</th></tr><tr><td>u64</td><td>object</td><td>object</td><td>bool</td><td>bool</td><td>bool</td><td>bool</td><td>f64</td><td>f64</td><td>f64</td></tr></thead><tbody><tr><td>3</td><td>1</td><td>0</td><td>true</td><td>null</td><td>null</td><td>null</td><td>0.0</td><td>0.0</td><td>0.0</td></tr><tr><td>3</td><td>111</td><td>000</td><td>false</td><td>null</td><td>null</td><td>null</td><td>0.0</td><td>0.0</td><td>0.0</td></tr><tr><td>3</td><td>111</td><td>000000</td><td>false</td><td>null</td><td>null</td><td>null</td><td>0.0</td><td>0.0</td><td>0.0</td></tr><tr><td>3</td><td>111</td><td>0000000000</td><td>false</td><td>null</td><td>null</td><td>null</td><td>0.0</td><td>0.0</td><td>0.0</td></tr><tr><td>4</td><td>1</td><td>0</td><td>true</td><td>null</td><td>null</td><td>null</td><td>0.0</td><td>0.0</td><td>0.0</td></tr><tr><td>&hellip;</td><td>&hellip;</td><td>&hellip;</td><td>&hellip;</td><td>&hellip;</td><td>&hellip;</td><td>&hellip;</td><td>&hellip;</td><td>&hellip;</td><td>&hellip;</td></tr><tr><td>5</td><td>111</td><td>0000000000</td><td>false</td><td>null</td><td>null</td><td>null</td><td>0.0</td><td>0.0</td><td>0.0</td></tr><tr><td>6</td><td>1</td><td>0</td><td>true</td><td>null</td><td>null</td><td>null</td><td>0.0</td><td>0.0</td><td>0.0</td></tr><tr><td>6</td><td>111</td><td>000</td><td>true</td><td>null</td><td>null</td><td>null</td><td>0.0</td><td>0.0</td><td>0.0</td></tr><tr><td>6</td><td>111</td><td>000000</td><td>false</td><td>null</td><td>null</td><td>null</td><td>0.0</td><td>0.0</td><td>0.0</td></tr><tr><td>6</td><td>111</td><td>0000000000</td><td>false</td><td>null</td><td>null</td><td>null</td><td>0.0</td><td>0.0</td><td>0.0</td></tr></tbody></table></div>"
      ],
      "text/plain": [
       "shape: (16, 10)\n",
       "┌─────┬────────┬────────────┬─────────────┬───┬─────────────┬────────────┬────────────┬────────────┐\n",
       "│ n   ┆ F      ┆ H          ┆ expected_re ┆ … ┆ tree_search ┆ linear_ful ┆ tree_reduc ┆ tree_searc │\n",
       "│ --- ┆ ---    ┆ ---        ┆ sult        ┆   ┆ _result     ┆ l_time_ms  ┆ ed_enumera ┆ h_time_ms  │\n",
       "│ u64 ┆ object ┆ object     ┆ ---         ┆   ┆ ---         ┆ ---        ┆ tion_time_ ┆ ---        │\n",
       "│     ┆        ┆            ┆ bool        ┆   ┆ bool        ┆ f64        ┆ …          ┆ f64        │\n",
       "│     ┆        ┆            ┆             ┆   ┆             ┆            ┆ ---        ┆            │\n",
       "│     ┆        ┆            ┆             ┆   ┆             ┆            ┆ f64        ┆            │\n",
       "╞═════╪════════╪════════════╪═════════════╪═══╪═════════════╪════════════╪════════════╪════════════╡\n",
       "│ 3   ┆ 1      ┆ 0          ┆ true        ┆ … ┆ null        ┆ 0.0        ┆ 0.0        ┆ 0.0        │\n",
       "│ 3   ┆ 111    ┆ 000        ┆ false       ┆ … ┆ null        ┆ 0.0        ┆ 0.0        ┆ 0.0        │\n",
       "│ 3   ┆ 111    ┆ 000000     ┆ false       ┆ … ┆ null        ┆ 0.0        ┆ 0.0        ┆ 0.0        │\n",
       "│ 3   ┆ 111    ┆ 0000000000 ┆ false       ┆ … ┆ null        ┆ 0.0        ┆ 0.0        ┆ 0.0        │\n",
       "│ 4   ┆ 1      ┆ 0          ┆ true        ┆ … ┆ null        ┆ 0.0        ┆ 0.0        ┆ 0.0        │\n",
       "│ …   ┆ …      ┆ …          ┆ …           ┆ … ┆ …           ┆ …          ┆ …          ┆ …          │\n",
       "│ 5   ┆ 111    ┆ 0000000000 ┆ false       ┆ … ┆ null        ┆ 0.0        ┆ 0.0        ┆ 0.0        │\n",
       "│ 6   ┆ 1      ┆ 0          ┆ true        ┆ … ┆ null        ┆ 0.0        ┆ 0.0        ┆ 0.0        │\n",
       "│ 6   ┆ 111    ┆ 000        ┆ true        ┆ … ┆ null        ┆ 0.0        ┆ 0.0        ┆ 0.0        │\n",
       "│ 6   ┆ 111    ┆ 000000     ┆ false       ┆ … ┆ null        ┆ 0.0        ┆ 0.0        ┆ 0.0        │\n",
       "│ 6   ┆ 111    ┆ 0000000000 ┆ false       ┆ … ┆ null        ┆ 0.0        ┆ 0.0        ┆ 0.0        │\n",
       "└─────┴────────┴────────────┴─────────────┴───┴─────────────┴────────────┴────────────┴────────────┘"
      ]
     },
     "execution_count": 2,
     "metadata": {},
     "output_type": "execute_result"
    }
   ],
   "source": [
    "frame_schema = {\n",
    "    \"n\": pl.UInt64,\n",
    "    \"F\": pl.Object,\n",
    "    \"H\": pl.Object,\n",
    "    \"expected_result\": pl.Boolean,\n",
    "    \"linear_full_result\": pl.Boolean,\n",
    "    \"tree_reduced_enumeration_result\": pl.Boolean,\n",
    "    \"tree_search_result\": pl.Boolean,\n",
    "    \"linear_full_time_ms\": pl.Float64,\n",
    "    \"tree_reduced_enumeration_time_ms\": pl.Float64,\n",
    "    \"tree_search_time_ms\": pl.Float64\n",
    "}\n",
    "\n",
    "data = []\n",
    "for n in range(3, 7):\n",
    "    data.append([ n, Graph.complete_n(2), Graph.empty_n(2), True, None, None, None, 0., 0., 0. ])\n",
    "    data.append([ n, Graph.complete_n(3), Graph.empty_n(3), n >= 6, None, None, None, 0., 0., 0. ])\n",
    "    data.append([ n, Graph.complete_n(3), Graph.empty_n(4), n >= 9, None, None, None, 0., 0., 0. ])\n",
    "    data.append([ n, Graph.complete_n(3), Graph.empty_n(5), n >= 14, None, None, None, 0., 0., 0. ])\n",
    "\n",
    "upper_ramsey_data = pl.DataFrame(\n",
    "    data=data,\n",
    "    schema=frame_schema,\n",
    "    orient=\"row\"\n",
    ")\n",
    "\n",
    "upper_ramsey_data"
   ]
  },
  {
   "cell_type": "code",
   "execution_count": 3,
   "metadata": {},
   "outputs": [],
   "source": [
    "def subgraph_search(G: Graph, H: Graph):\n",
    "    \"\"\"\n",
    "        Decide if H is in G\n",
    "            * return True if H in G\n",
    "            * return False if H not in G\n",
    "    \"\"\"\n",
    "\n",
    "    stack = LifoQueue()\n",
    "    stack.put([])\n",
    "\n",
    "    while not stack.empty():\n",
    "        item = stack.get()\n",
    "\n",
    "        if len(item) == H.properties.order:\n",
    "            local_result = True\n",
    "            for vert_a_H, vert_a_G in enumerate(item):\n",
    "                for vert_b_H, vert_b_G in enumerate(item[vert_a_H + 1:]):\n",
    "                    vert_b_H += vert_a_H + 1\n",
    "                    if vert_a_G == vert_b_G or H[vert_a_H][vert_b_H] == -1:\n",
    "                        continue\n",
    "\n",
    "                    local_result = local_result and (G[vert_a_G][vert_b_G] == H[vert_a_H][vert_b_H])\n",
    "\n",
    "            if local_result:\n",
    "                return True\n",
    "        else:\n",
    "            for i in range((item[-1] + 1) if len(item) > 0 else 0, G.properties.order):\n",
    "                new_item = deepcopy(item)\n",
    "                new_item.append(i)\n",
    "                stack.put(new_item)\n",
    "\n",
    "    return False"
   ]
  },
  {
   "cell_type": "code",
   "execution_count": 4,
   "metadata": {},
   "outputs": [],
   "source": [
    "def is_upper_ramsey_linear_full(n: int, F: Graph, H: Graph):\n",
    "    result = True\n",
    "    for i in range(0, int(2**(n*(n-1)/2))):\n",
    "        G = Graph.from_id(i, n)\n",
    "        result = result and (subgraph_search(G, F) or subgraph_search(G, H))\n",
    "\n",
    "    return result"
   ]
  },
  {
   "cell_type": "code",
   "execution_count": 5,
   "metadata": {},
   "outputs": [],
   "source": [
    "def is_upper_ramsey_tree_reduced_enumeration(n: int, F: Graph, H: Graph):\n",
    "    stack = LifoQueue()\n",
    "    result = True\n",
    "\n",
    "    for i in range(n):\n",
    "        new_item = []\n",
    "        for _ in range(i):\n",
    "            new_item.append(\"1\")\n",
    "        for _ in range(n - 1 - i):\n",
    "            new_item.append(\"0\")\n",
    "\n",
    "        stack.put(new_item)\n",
    "\n",
    "    while not stack.empty():\n",
    "        item = stack.get()\n",
    "\n",
    "        if len(item) < int(n*(n-1)/2):\n",
    "            item_left_child = deepcopy(item)\n",
    "            item_left_child.append('0')\n",
    "\n",
    "            item_right_child = deepcopy(item)\n",
    "            item_right_child.append('1')\n",
    "\n",
    "            stack.put(item_right_child)\n",
    "            stack.put(item_left_child)\n",
    "\n",
    "        else:\n",
    "            graph_id = int(\"\".join(item), base=2)\n",
    "            G = Graph.from_id(graph_id, n)\n",
    "            result = result and (subgraph_search(G, F) or subgraph_search(G, H))\n",
    "\n",
    "    return result\n"
   ]
  },
  {
   "cell_type": "code",
   "execution_count": 6,
   "metadata": {},
   "outputs": [],
   "source": [
    "def is_upper_ramsey_tree_search(n: int, F: Graph, H: Graph):\n",
    "    stack = LifoQueue()\n",
    "\n",
    "    for i in range(n):\n",
    "        new_item = []\n",
    "        for _ in range(i):\n",
    "            new_item.append(\"1\")\n",
    "        for _ in range(n - 1 - i):\n",
    "            new_item.append(\"0\")\n",
    "\n",
    "        stack.put(new_item)\n",
    "\n",
    "    while not stack.empty():\n",
    "        item = stack.get()\n",
    "        # print(item)\n",
    "        current_G = Graph.from_bitstring(\"\".join(item), n)\n",
    "        # print(\"Testing\\n\", current_G.matrix, \"\\n\", F.matrix, \"\\n\", H.matrix, f\"\\n H in G ({subgraph_search(current_G, H)}), F in G ({subgraph_search(current_G, F)})\")\n",
    "\n",
    "        if len(item) < int(n*(n-1)/2):\n",
    "            item_left_child = deepcopy(item)\n",
    "            item_left_child.append('0')\n",
    "\n",
    "            item_right_child = deepcopy(item)\n",
    "            item_right_child.append('1')\n",
    "\n",
    "            right_G = Graph.from_bitstring(\"\".join(item_right_child), n)\n",
    "            if not (subgraph_search(right_G, F) or subgraph_search(right_G, H)):\n",
    "                stack.put(item_right_child)\n",
    "\n",
    "            left_G = Graph.from_bitstring(\"\".join(item_left_child), n)\n",
    "            if not (subgraph_search(left_G, F) or subgraph_search(left_G, H)):\n",
    "                stack.put(item_left_child)\n",
    "        else:\n",
    "            graph_id = int(\"\".join(item), base=2)\n",
    "            G = Graph.from_id(graph_id, n)\n",
    "            if not(subgraph_search(G, F) or subgraph_search(G, H)):\n",
    "                return False\n",
    "\n",
    "    return True"
   ]
  },
  {
   "cell_type": "code",
   "execution_count": 7,
   "metadata": {},
   "outputs": [],
   "source": [
    "# Testing Brute Force\n",
    "test_data = []\n",
    "for row in upper_ramsey_data.iter_rows(named=True):\n",
    "    start_time = time.perf_counter()\n",
    "    row['linear_full_result'] = is_upper_ramsey_linear_full(row['n'], row['F'], row['H'])\n",
    "    end_time = time.perf_counter()\n",
    "    row['linear_full_time_ms'] = (end_time - start_time) * 1000\n",
    "    test_data.append(row)\n",
    "\n",
    "upper_ramsey_data = pl.DataFrame(\n",
    "    data=test_data,\n",
    "    schema=frame_schema,\n",
    "    orient=\"row\"\n",
    ")"
   ]
  },
  {
   "cell_type": "code",
   "execution_count": 8,
   "metadata": {},
   "outputs": [],
   "source": [
    "# Testing Optimised A\n",
    "test_data = []\n",
    "for row in upper_ramsey_data.iter_rows(named=True):\n",
    "    start_time = time.perf_counter()\n",
    "    row['tree_reduced_enumeration_result'] = is_upper_ramsey_tree_reduced_enumeration(row['n'], row['F'], row['H'])\n",
    "    end_time = time.perf_counter()\n",
    "    row['tree_reduced_enumeration_time_ms'] = (end_time - start_time) * 1000\n",
    "    test_data.append(row)\n",
    "\n",
    "upper_ramsey_data = pl.DataFrame(\n",
    "    data=test_data,\n",
    "    schema=frame_schema,\n",
    "    orient=\"row\"\n",
    ")"
   ]
  },
  {
   "cell_type": "code",
   "execution_count": 9,
   "metadata": {},
   "outputs": [],
   "source": [
    "# Testing Optimised B\n",
    "test_data = []\n",
    "for row in upper_ramsey_data.iter_rows(named=True):\n",
    "    start_time = time.perf_counter()\n",
    "    row['tree_search_result'] = is_upper_ramsey_tree_search(row['n'], row['F'], row['H'])\n",
    "    end_time = time.perf_counter()\n",
    "    row['tree_search_time_ms'] = (end_time - start_time) * 1000\n",
    "    test_data.append(row)\n",
    "\n",
    "upper_ramsey_data = pl.DataFrame(\n",
    "    data=test_data,\n",
    "    schema=frame_schema,\n",
    "    orient=\"row\"\n",
    ")"
   ]
  },
  {
   "cell_type": "code",
   "execution_count": 10,
   "metadata": {},
   "outputs": [
    {
     "data": {
      "text/html": [
       "<div><style>\n",
       ".dataframe > thead > tr,\n",
       ".dataframe > tbody > tr {\n",
       "  text-align: right;\n",
       "  white-space: pre-wrap;\n",
       "}\n",
       "</style>\n",
       "<small>shape: (16, 10)</small><table border=\"1\" class=\"dataframe\"><thead><tr><th>n</th><th>F</th><th>H</th><th>expected_result</th><th>linear_full_result</th><th>tree_reduced_enumeration_result</th><th>tree_search_result</th><th>linear_full_time_ms</th><th>tree_reduced_enumeration_time_ms</th><th>tree_search_time_ms</th></tr><tr><td>u64</td><td>object</td><td>object</td><td>bool</td><td>bool</td><td>bool</td><td>bool</td><td>f64</td><td>f64</td><td>f64</td></tr></thead><tbody><tr><td>3</td><td>1</td><td>0</td><td>true</td><td>true</td><td>true</td><td>true</td><td>2.1405</td><td>1.0095</td><td>2.256</td></tr><tr><td>3</td><td>111</td><td>000</td><td>false</td><td>false</td><td>false</td><td>false</td><td>1.3914</td><td>2.2662</td><td>0.9368</td></tr><tr><td>3</td><td>111</td><td>000000</td><td>false</td><td>false</td><td>false</td><td>false</td><td>0.7662</td><td>2.5034</td><td>0.6917</td></tr><tr><td>3</td><td>111</td><td>0000000000</td><td>false</td><td>false</td><td>false</td><td>false</td><td>0.6899</td><td>1.423</td><td>0.8395</td></tr><tr><td>4</td><td>1</td><td>0</td><td>true</td><td>true</td><td>true</td><td>true</td><td>14.9676</td><td>5.9991</td><td>1.5603</td></tr><tr><td>&hellip;</td><td>&hellip;</td><td>&hellip;</td><td>&hellip;</td><td>&hellip;</td><td>&hellip;</td><td>&hellip;</td><td>&hellip;</td><td>&hellip;</td><td>&hellip;</td></tr><tr><td>5</td><td>111</td><td>0000000000</td><td>false</td><td>false</td><td>false</td><td>false</td><td>107.6751</td><td>40.3782</td><td>11.192</td></tr><tr><td>6</td><td>1</td><td>0</td><td>true</td><td>true</td><td>true</td><td>true</td><td>6021.4442</td><td>1271.6724</td><td>2.4926</td></tr><tr><td>6</td><td>111</td><td>000</td><td>true</td><td>true</td><td>true</td><td>true</td><td>13466.9514</td><td>2619.7699</td><td>52.3649</td></tr><tr><td>6</td><td>111</td><td>000000</td><td>false</td><td>false</td><td>false</td><td>false</td><td>3363.7563</td><td>764.9699</td><td>22.6397</td></tr><tr><td>6</td><td>111</td><td>0000000000</td><td>false</td><td>false</td><td>false</td><td>false</td><td>3668.2039</td><td>791.6549</td><td>22.4172</td></tr></tbody></table></div>"
      ],
      "text/plain": [
       "shape: (16, 10)\n",
       "┌─────┬────────┬────────────┬─────────────┬───┬─────────────┬────────────┬────────────┬────────────┐\n",
       "│ n   ┆ F      ┆ H          ┆ expected_re ┆ … ┆ tree_search ┆ linear_ful ┆ tree_reduc ┆ tree_searc │\n",
       "│ --- ┆ ---    ┆ ---        ┆ sult        ┆   ┆ _result     ┆ l_time_ms  ┆ ed_enumera ┆ h_time_ms  │\n",
       "│ u64 ┆ object ┆ object     ┆ ---         ┆   ┆ ---         ┆ ---        ┆ tion_time_ ┆ ---        │\n",
       "│     ┆        ┆            ┆ bool        ┆   ┆ bool        ┆ f64        ┆ …          ┆ f64        │\n",
       "│     ┆        ┆            ┆             ┆   ┆             ┆            ┆ ---        ┆            │\n",
       "│     ┆        ┆            ┆             ┆   ┆             ┆            ┆ f64        ┆            │\n",
       "╞═════╪════════╪════════════╪═════════════╪═══╪═════════════╪════════════╪════════════╪════════════╡\n",
       "│ 3   ┆ 1      ┆ 0          ┆ true        ┆ … ┆ true        ┆ 2.1405     ┆ 1.0095     ┆ 2.256      │\n",
       "│ 3   ┆ 111    ┆ 000        ┆ false       ┆ … ┆ false       ┆ 1.3914     ┆ 2.2662     ┆ 0.9368     │\n",
       "│ 3   ┆ 111    ┆ 000000     ┆ false       ┆ … ┆ false       ┆ 0.7662     ┆ 2.5034     ┆ 0.6917     │\n",
       "│ 3   ┆ 111    ┆ 0000000000 ┆ false       ┆ … ┆ false       ┆ 0.6899     ┆ 1.423      ┆ 0.8395     │\n",
       "│ 4   ┆ 1      ┆ 0          ┆ true        ┆ … ┆ true        ┆ 14.9676    ┆ 5.9991     ┆ 1.5603     │\n",
       "│ …   ┆ …      ┆ …          ┆ …           ┆ … ┆ …           ┆ …          ┆ …          ┆ …          │\n",
       "│ 5   ┆ 111    ┆ 0000000000 ┆ false       ┆ … ┆ false       ┆ 107.6751   ┆ 40.3782    ┆ 11.192     │\n",
       "│ 6   ┆ 1      ┆ 0          ┆ true        ┆ … ┆ true        ┆ 6021.4442  ┆ 1271.6724  ┆ 2.4926     │\n",
       "│ 6   ┆ 111    ┆ 000        ┆ true        ┆ … ┆ true        ┆ 13466.9514 ┆ 2619.7699  ┆ 52.3649    │\n",
       "│ 6   ┆ 111    ┆ 000000     ┆ false       ┆ … ┆ false       ┆ 3363.7563  ┆ 764.9699   ┆ 22.6397    │\n",
       "│ 6   ┆ 111    ┆ 0000000000 ┆ false       ┆ … ┆ false       ┆ 3668.2039  ┆ 791.6549   ┆ 22.4172    │\n",
       "└─────┴────────┴────────────┴─────────────┴───┴─────────────┴────────────┴────────────┴────────────┘"
      ]
     },
     "execution_count": 10,
     "metadata": {},
     "output_type": "execute_result"
    }
   ],
   "source": [
    "upper_ramsey_data"
   ]
  },
  {
   "cell_type": "code",
   "execution_count": 11,
   "metadata": {},
   "outputs": [
    {
     "data": {
      "text/html": [
       "<div><style>\n",
       ".dataframe > thead > tr,\n",
       ".dataframe > tbody > tr {\n",
       "  text-align: right;\n",
       "  white-space: pre-wrap;\n",
       "}\n",
       "</style>\n",
       "<small>shape: (16, 10)</small><table border=\"1\" class=\"dataframe\"><thead><tr><th>n</th><th>F</th><th>H</th><th>expected_result</th><th>linear_full_result</th><th>tree_reduced_enumeration_result</th><th>tree_search_result</th><th>linear_full_time_ms</th><th>tree_reduced_enumeration_time_ms</th><th>tree_search_time_ms</th></tr><tr><td>u64</td><td>str</td><td>str</td><td>bool</td><td>bool</td><td>bool</td><td>bool</td><td>f64</td><td>f64</td><td>f64</td></tr></thead><tbody><tr><td>3</td><td>&quot;1&quot;</td><td>&quot;0&quot;</td><td>true</td><td>true</td><td>true</td><td>true</td><td>2.1405</td><td>1.0095</td><td>2.256</td></tr><tr><td>3</td><td>&quot;111&quot;</td><td>&quot;000&quot;</td><td>false</td><td>false</td><td>false</td><td>false</td><td>1.3914</td><td>2.2662</td><td>0.9368</td></tr><tr><td>3</td><td>&quot;111&quot;</td><td>&quot;000000&quot;</td><td>false</td><td>false</td><td>false</td><td>false</td><td>0.7662</td><td>2.5034</td><td>0.6917</td></tr><tr><td>3</td><td>&quot;111&quot;</td><td>&quot;0000000000&quot;</td><td>false</td><td>false</td><td>false</td><td>false</td><td>0.6899</td><td>1.423</td><td>0.8395</td></tr><tr><td>4</td><td>&quot;1&quot;</td><td>&quot;0&quot;</td><td>true</td><td>true</td><td>true</td><td>true</td><td>14.9676</td><td>5.9991</td><td>1.5603</td></tr><tr><td>&hellip;</td><td>&hellip;</td><td>&hellip;</td><td>&hellip;</td><td>&hellip;</td><td>&hellip;</td><td>&hellip;</td><td>&hellip;</td><td>&hellip;</td><td>&hellip;</td></tr><tr><td>5</td><td>&quot;111&quot;</td><td>&quot;0000000000&quot;</td><td>false</td><td>false</td><td>false</td><td>false</td><td>107.6751</td><td>40.3782</td><td>11.192</td></tr><tr><td>6</td><td>&quot;1&quot;</td><td>&quot;0&quot;</td><td>true</td><td>true</td><td>true</td><td>true</td><td>6021.4442</td><td>1271.6724</td><td>2.4926</td></tr><tr><td>6</td><td>&quot;111&quot;</td><td>&quot;000&quot;</td><td>true</td><td>true</td><td>true</td><td>true</td><td>13466.9514</td><td>2619.7699</td><td>52.3649</td></tr><tr><td>6</td><td>&quot;111&quot;</td><td>&quot;000000&quot;</td><td>false</td><td>false</td><td>false</td><td>false</td><td>3363.7563</td><td>764.9699</td><td>22.6397</td></tr><tr><td>6</td><td>&quot;111&quot;</td><td>&quot;0000000000&quot;</td><td>false</td><td>false</td><td>false</td><td>false</td><td>3668.2039</td><td>791.6549</td><td>22.4172</td></tr></tbody></table></div>"
      ],
      "text/plain": [
       "shape: (16, 10)\n",
       "┌─────┬─────┬────────────┬─────────────┬───┬─────────────┬─────────────┬─────────────┬─────────────┐\n",
       "│ n   ┆ F   ┆ H          ┆ expected_re ┆ … ┆ tree_search ┆ linear_full ┆ tree_reduce ┆ tree_search │\n",
       "│ --- ┆ --- ┆ ---        ┆ sult        ┆   ┆ _result     ┆ _time_ms    ┆ d_enumerati ┆ _time_ms    │\n",
       "│ u64 ┆ str ┆ str        ┆ ---         ┆   ┆ ---         ┆ ---         ┆ on_time_…   ┆ ---         │\n",
       "│     ┆     ┆            ┆ bool        ┆   ┆ bool        ┆ f64         ┆ ---         ┆ f64         │\n",
       "│     ┆     ┆            ┆             ┆   ┆             ┆             ┆ f64         ┆             │\n",
       "╞═════╪═════╪════════════╪═════════════╪═══╪═════════════╪═════════════╪═════════════╪═════════════╡\n",
       "│ 3   ┆ 1   ┆ 0          ┆ true        ┆ … ┆ true        ┆ 2.1405      ┆ 1.0095      ┆ 2.256       │\n",
       "│ 3   ┆ 111 ┆ 000        ┆ false       ┆ … ┆ false       ┆ 1.3914      ┆ 2.2662      ┆ 0.9368      │\n",
       "│ 3   ┆ 111 ┆ 000000     ┆ false       ┆ … ┆ false       ┆ 0.7662      ┆ 2.5034      ┆ 0.6917      │\n",
       "│ 3   ┆ 111 ┆ 0000000000 ┆ false       ┆ … ┆ false       ┆ 0.6899      ┆ 1.423       ┆ 0.8395      │\n",
       "│ 4   ┆ 1   ┆ 0          ┆ true        ┆ … ┆ true        ┆ 14.9676     ┆ 5.9991      ┆ 1.5603      │\n",
       "│ …   ┆ …   ┆ …          ┆ …           ┆ … ┆ …           ┆ …           ┆ …           ┆ …           │\n",
       "│ 5   ┆ 111 ┆ 0000000000 ┆ false       ┆ … ┆ false       ┆ 107.6751    ┆ 40.3782     ┆ 11.192      │\n",
       "│ 6   ┆ 1   ┆ 0          ┆ true        ┆ … ┆ true        ┆ 6021.4442   ┆ 1271.6724   ┆ 2.4926      │\n",
       "│ 6   ┆ 111 ┆ 000        ┆ true        ┆ … ┆ true        ┆ 13466.9514  ┆ 2619.7699   ┆ 52.3649     │\n",
       "│ 6   ┆ 111 ┆ 000000     ┆ false       ┆ … ┆ false       ┆ 3363.7563   ┆ 764.9699    ┆ 22.6397     │\n",
       "│ 6   ┆ 111 ┆ 0000000000 ┆ false       ┆ … ┆ false       ┆ 3668.2039   ┆ 791.6549    ┆ 22.4172     │\n",
       "└─────┴─────┴────────────┴─────────────┴───┴─────────────┴─────────────┴─────────────┴─────────────┘"
      ]
     },
     "execution_count": 11,
     "metadata": {},
     "output_type": "execute_result"
    }
   ],
   "source": [
    "# Convert subgraph objects to string\n",
    "new_F = upper_ramsey_data.select([\"F\"]).get_columns()[0].map_elements(lambda G: G.to_bitstring(), return_dtype=pl.String)\n",
    "new_H = upper_ramsey_data.select([\"H\"]).get_columns()[0].map_elements(lambda G: G.to_bitstring(), return_dtype=pl.String)\n",
    "upper_ramsey_data = upper_ramsey_data.with_columns(F = new_F)\n",
    "upper_ramsey_data = upper_ramsey_data.with_columns(H = new_H)\n",
    "\n",
    "upper_ramsey_data.write_csv(\"./data/upper_ramsey.csv\")\n",
    "upper_ramsey_data"
   ]
  }
 ],
 "metadata": {
  "kernelspec": {
   "display_name": "Python 3",
   "language": "python",
   "name": "python3"
  },
  "language_info": {
   "codemirror_mode": {
    "name": "ipython",
    "version": 3
   },
   "file_extension": ".py",
   "mimetype": "text/x-python",
   "name": "python",
   "nbconvert_exporter": "python",
   "pygments_lexer": "ipython3",
   "version": "3.11.9"
  }
 },
 "nbformat": 4,
 "nbformat_minor": 2
}
