{
 "cells": [
  {
   "cell_type": "markdown",
   "metadata": {},
   "source": [
    "# Ramsey Numbers\n",
    "\n",
    "#### Navigation\n",
    "* [Graphs](./Graphs.ipynb)\n",
    "* [Graphset Enumeration](./GraphsetEnumeration.ipynb)\n",
    "* [Subgraph Isomorphism - Subgraph Search](./SubgraphIsomorphism.ipynb)\n",
    "\n",
    "### Useful References\n",
    "\n",
    "* [Ramsey's Theorem](https://en.wikipedia.org/wiki/Ramsey%27s_theorem)\n",
    "\n",
    "### Problem"
   ]
  }
 ],
 "metadata": {
  "language_info": {
   "name": "python"
  }
 },
 "nbformat": 4,
 "nbformat_minor": 2
}
