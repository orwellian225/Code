{
 "cells": [
  {
   "cell_type": "markdown",
   "metadata": {},
   "source": [
    "# Ramsey Numbers\n",
    "\n",
    "### Useful References\n",
    "\n",
    "* [Ramsey's Theorem](https://en.wikipedia.org/wiki/Ramsey%27s_theorem)"
   ]
  }
 ],
 "metadata": {
  "language_info": {
   "name": "python"
  }
 },
 "nbformat": 4,
 "nbformat_minor": 2
}
