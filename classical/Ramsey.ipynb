{
 "cells": [
  {
   "cell_type": "markdown",
   "metadata": {},
   "source": [
    "# Ramsey Numbers\n",
    "\n",
    "#### Navigation\n",
    "* [Graphs](./Graphs.ipynb)\n",
    "* [Graphset Enumeration](./GraphsetEnumeration.ipynb)\n",
    "* [Subgraph Isomorphism - Subgraph Search](./SubgraphIsomorphism.ipynb)\n",
    "\n",
    "### Useful References\n",
    "\n",
    "* [Ramsey's Theorem](https://en.wikipedia.org/wiki/Ramsey%27s_theorem)\n",
    "\n",
    "### Problem"
   ]
  },
  {
   "cell_type": "code",
   "execution_count": 72,
   "metadata": {},
   "outputs": [],
   "source": [
    "import time\n",
    "from queue import LifoQueue\n",
    "from copy import deepcopy\n",
    "\n",
    "from graph import Graph\n",
    "\n",
    "import polars as pl\n",
    "import matplotlib.pyplot as plt"
   ]
  },
  {
   "cell_type": "code",
   "execution_count": 73,
   "metadata": {},
   "outputs": [
    {
     "data": {
      "text/html": [
       "<div><style>\n",
       ".dataframe > thead > tr,\n",
       ".dataframe > tbody > tr {\n",
       "  text-align: right;\n",
       "  white-space: pre-wrap;\n",
       "}\n",
       "</style>\n",
       "<small>shape: (16, 10)</small><table border=\"1\" class=\"dataframe\"><thead><tr><th>n</th><th>F</th><th>H</th><th>expected_result</th><th>linear_full_result</th><th>tree_reduced_enumeration_result</th><th>tree_search_result</th><th>linear_full_time_ms</th><th>tree_reduced_enumeration_time_ms</th><th>tree_search_time_ms</th></tr><tr><td>u64</td><td>object</td><td>object</td><td>bool</td><td>bool</td><td>bool</td><td>bool</td><td>f64</td><td>f64</td><td>f64</td></tr></thead><tbody><tr><td>3</td><td>1</td><td>0</td><td>true</td><td>null</td><td>null</td><td>null</td><td>0.0</td><td>0.0</td><td>0.0</td></tr><tr><td>3</td><td>111</td><td>000</td><td>false</td><td>null</td><td>null</td><td>null</td><td>0.0</td><td>0.0</td><td>0.0</td></tr><tr><td>3</td><td>111</td><td>000000</td><td>false</td><td>null</td><td>null</td><td>null</td><td>0.0</td><td>0.0</td><td>0.0</td></tr><tr><td>3</td><td>111</td><td>0000000000</td><td>false</td><td>null</td><td>null</td><td>null</td><td>0.0</td><td>0.0</td><td>0.0</td></tr><tr><td>4</td><td>1</td><td>0</td><td>true</td><td>null</td><td>null</td><td>null</td><td>0.0</td><td>0.0</td><td>0.0</td></tr><tr><td>&hellip;</td><td>&hellip;</td><td>&hellip;</td><td>&hellip;</td><td>&hellip;</td><td>&hellip;</td><td>&hellip;</td><td>&hellip;</td><td>&hellip;</td><td>&hellip;</td></tr><tr><td>5</td><td>111</td><td>0000000000</td><td>false</td><td>null</td><td>null</td><td>null</td><td>0.0</td><td>0.0</td><td>0.0</td></tr><tr><td>6</td><td>1</td><td>0</td><td>true</td><td>null</td><td>null</td><td>null</td><td>0.0</td><td>0.0</td><td>0.0</td></tr><tr><td>6</td><td>111</td><td>000</td><td>true</td><td>null</td><td>null</td><td>null</td><td>0.0</td><td>0.0</td><td>0.0</td></tr><tr><td>6</td><td>111</td><td>000000</td><td>false</td><td>null</td><td>null</td><td>null</td><td>0.0</td><td>0.0</td><td>0.0</td></tr><tr><td>6</td><td>111</td><td>0000000000</td><td>false</td><td>null</td><td>null</td><td>null</td><td>0.0</td><td>0.0</td><td>0.0</td></tr></tbody></table></div>"
      ],
      "text/plain": [
       "shape: (16, 10)\n",
       "┌─────┬────────┬────────────┬─────────────┬───┬─────────────┬────────────┬────────────┬────────────┐\n",
       "│ n   ┆ F      ┆ H          ┆ expected_re ┆ … ┆ tree_search ┆ linear_ful ┆ tree_reduc ┆ tree_searc │\n",
       "│ --- ┆ ---    ┆ ---        ┆ sult        ┆   ┆ _result     ┆ l_time_ms  ┆ ed_enumera ┆ h_time_ms  │\n",
       "│ u64 ┆ object ┆ object     ┆ ---         ┆   ┆ ---         ┆ ---        ┆ tion_time_ ┆ ---        │\n",
       "│     ┆        ┆            ┆ bool        ┆   ┆ bool        ┆ f64        ┆ …          ┆ f64        │\n",
       "│     ┆        ┆            ┆             ┆   ┆             ┆            ┆ ---        ┆            │\n",
       "│     ┆        ┆            ┆             ┆   ┆             ┆            ┆ f64        ┆            │\n",
       "╞═════╪════════╪════════════╪═════════════╪═══╪═════════════╪════════════╪════════════╪════════════╡\n",
       "│ 3   ┆ 1      ┆ 0          ┆ true        ┆ … ┆ null        ┆ 0.0        ┆ 0.0        ┆ 0.0        │\n",
       "│ 3   ┆ 111    ┆ 000        ┆ false       ┆ … ┆ null        ┆ 0.0        ┆ 0.0        ┆ 0.0        │\n",
       "│ 3   ┆ 111    ┆ 000000     ┆ false       ┆ … ┆ null        ┆ 0.0        ┆ 0.0        ┆ 0.0        │\n",
       "│ 3   ┆ 111    ┆ 0000000000 ┆ false       ┆ … ┆ null        ┆ 0.0        ┆ 0.0        ┆ 0.0        │\n",
       "│ 4   ┆ 1      ┆ 0          ┆ true        ┆ … ┆ null        ┆ 0.0        ┆ 0.0        ┆ 0.0        │\n",
       "│ …   ┆ …      ┆ …          ┆ …           ┆ … ┆ …           ┆ …          ┆ …          ┆ …          │\n",
       "│ 5   ┆ 111    ┆ 0000000000 ┆ false       ┆ … ┆ null        ┆ 0.0        ┆ 0.0        ┆ 0.0        │\n",
       "│ 6   ┆ 1      ┆ 0          ┆ true        ┆ … ┆ null        ┆ 0.0        ┆ 0.0        ┆ 0.0        │\n",
       "│ 6   ┆ 111    ┆ 000        ┆ true        ┆ … ┆ null        ┆ 0.0        ┆ 0.0        ┆ 0.0        │\n",
       "│ 6   ┆ 111    ┆ 000000     ┆ false       ┆ … ┆ null        ┆ 0.0        ┆ 0.0        ┆ 0.0        │\n",
       "│ 6   ┆ 111    ┆ 0000000000 ┆ false       ┆ … ┆ null        ┆ 0.0        ┆ 0.0        ┆ 0.0        │\n",
       "└─────┴────────┴────────────┴─────────────┴───┴─────────────┴────────────┴────────────┴────────────┘"
      ]
     },
     "execution_count": 73,
     "metadata": {},
     "output_type": "execute_result"
    }
   ],
   "source": [
    "frame_schema = {\n",
    "    \"n\": pl.UInt64,\n",
    "    \"F\": pl.Object,\n",
    "    \"H\": pl.Object,\n",
    "    \"expected_result\": pl.Boolean,\n",
    "    \"linear_full_result\": pl.Boolean,\n",
    "    \"tree_reduced_enumeration_result\": pl.Boolean,\n",
    "    \"tree_search_result\": pl.Boolean,\n",
    "    \"linear_full_time_ms\": pl.Float64,\n",
    "    \"tree_reduced_enumeration_time_ms\": pl.Float64,\n",
    "    \"tree_search_time_ms\": pl.Float64\n",
    "}\n",
    "\n",
    "data = []\n",
    "for n in range(3, 8):\n",
    "    data.append([ n, Graph.complete_n(2), Graph.empty_n(2), True, None, None, None, 0., 0., 0. ])\n",
    "    data.append([ n, Graph.complete_n(2), Graph.empty_n(3), True, None, None, None, 0., 0., 0. ])\n",
    "\n",
    "    data.append([ n, Graph.complete_n(3), Graph.empty_n(3), n >= 6, None, None, None, 0., 0., 0. ])\n",
    "    data.append([ n, Graph.complete_n(3), Graph.empty_n(4), n >= 9, None, None, None, 0., 0., 0. ])\n",
    "    data.append([ n, Graph.complete_n(3), Graph.empty_n(5), n >= 14, None, None, None, 0., 0., 0. ])\n",
    "    data.append([ n, Graph.complete_n(3), Graph.empty_n(6), n >= 18, None, None, None, 0., 0., 0. ])\n",
    "\n",
    "    data.append([ n, Graph.complete_n(4), Graph.empty_n(4), n >= 18, None, None, None, 0., 0., 0. ])\n",
    "    data.append([ n, Graph.complete_n(4), Graph.empty_n(5), n >= 25, None, None, None, 0., 0., 0. ])\n",
    "\n",
    "upper_ramsey_data = pl.DataFrame(\n",
    "    data=data,\n",
    "    schema=frame_schema,\n",
    "    orient=\"row\"\n",
    ")\n",
    "\n",
    "upper_ramsey_data"
   ]
  },
  {
   "cell_type": "code",
   "execution_count": 74,
   "metadata": {},
   "outputs": [],
   "source": [
    "def subgraph_search(G: Graph, H: Graph):\n",
    "    \"\"\"\n",
    "        Decide if H is in G\n",
    "            * return True if H in G\n",
    "            * return False if H not in G\n",
    "    \"\"\"\n",
    "\n",
    "    stack = LifoQueue()\n",
    "    stack.put([])\n",
    "\n",
    "    while not stack.empty():\n",
    "        item = stack.get()\n",
    "\n",
    "        if len(item) == H.properties.order:\n",
    "            local_result = True\n",
    "            for vert_a_H, vert_a_G in enumerate(item):\n",
    "                for vert_b_H, vert_b_G in enumerate(item[vert_a_H + 1:]):\n",
    "                    vert_b_H += vert_a_H + 1\n",
    "                    if vert_a_G == vert_b_G or H[vert_a_H][vert_b_H] == -1:\n",
    "                        continue\n",
    "\n",
    "                    local_result = local_result and (G[vert_a_G][vert_b_G] == H[vert_a_H][vert_b_H])\n",
    "\n",
    "            if local_result:\n",
    "                return True\n",
    "        else:\n",
    "            for i in range((item[-1] + 1) if len(item) > 0 else 0, G.properties.order):\n",
    "                new_item = deepcopy(item)\n",
    "                new_item.append(i)\n",
    "                stack.put(new_item)\n",
    "\n",
    "    return False"
   ]
  },
  {
   "cell_type": "code",
   "execution_count": 75,
   "metadata": {},
   "outputs": [],
   "source": [
    "def is_upper_ramsey_linear_full(n: int, F: Graph, H: Graph):\n",
    "    result = True\n",
    "    for i in range(0, int(2**(n*(n-1)/2))):\n",
    "        G = Graph.from_id(i, n)\n",
    "        result = result and (subgraph_search(G, F) or subgraph_search(G, H))\n",
    "\n",
    "    return result"
   ]
  },
  {
   "cell_type": "code",
   "execution_count": 76,
   "metadata": {},
   "outputs": [],
   "source": [
    "def is_upper_ramsey_tree_reduced_enumeration(n: int, F: Graph, H: Graph):\n",
    "    stack = LifoQueue()\n",
    "    result = True\n",
    "\n",
    "    for i in range(n):\n",
    "        new_item = []\n",
    "        for _ in range(i):\n",
    "            new_item.append(\"1\")\n",
    "        for _ in range(n - 1 - i):\n",
    "            new_item.append(\"0\")\n",
    "\n",
    "        stack.put(new_item)\n",
    "\n",
    "    while not stack.empty():\n",
    "        item = stack.get()\n",
    "\n",
    "        if len(item) < int(n*(n-1)/2):\n",
    "            item_left_child = deepcopy(item)\n",
    "            item_left_child.append('0')\n",
    "\n",
    "            item_right_child = deepcopy(item)\n",
    "            item_right_child.append('1')\n",
    "\n",
    "            stack.put(item_right_child)\n",
    "            stack.put(item_left_child)\n",
    "\n",
    "        else:\n",
    "            graph_id = int(\"\".join(item), base=2)\n",
    "            G = Graph.from_id(graph_id, n)\n",
    "            result = result and (subgraph_search(G, F) or subgraph_search(G, H))\n",
    "\n",
    "    return result\n"
   ]
  },
  {
   "cell_type": "code",
   "execution_count": 77,
   "metadata": {},
   "outputs": [],
   "source": [
    "def is_upper_ramsey_tree_search(n: int, F: Graph, H: Graph):\n",
    "    stack = LifoQueue()\n",
    "\n",
    "    for i in range(n):\n",
    "        new_item = []\n",
    "        for _ in range(i):\n",
    "            new_item.append(\"1\")\n",
    "        for _ in range(n - 1 - i):\n",
    "            new_item.append(\"0\")\n",
    "\n",
    "        stack.put(new_item)\n",
    "\n",
    "    while not stack.empty():\n",
    "        item = stack.get()\n",
    "        # print(item)\n",
    "        current_G = Graph.from_bitstring(\"\".join(item), n)\n",
    "        # print(\"Testing\\n\", current_G.matrix, \"\\n\", F.matrix, \"\\n\", H.matrix, f\"\\n H in G ({subgraph_search(current_G, H)}), F in G ({subgraph_search(current_G, F)})\")\n",
    "\n",
    "        if len(item) < int(n*(n-1)/2):\n",
    "            item_left_child = deepcopy(item)\n",
    "            item_left_child.append('0')\n",
    "\n",
    "            item_right_child = deepcopy(item)\n",
    "            item_right_child.append('1')\n",
    "\n",
    "            right_G = Graph.from_bitstring(\"\".join(item_right_child), n)\n",
    "            if not (subgraph_search(right_G, F) or subgraph_search(right_G, H)):\n",
    "                stack.put(item_right_child)\n",
    "\n",
    "            left_G = Graph.from_bitstring(\"\".join(item_left_child), n)\n",
    "            if not (subgraph_search(left_G, F) or subgraph_search(left_G, H)):\n",
    "                stack.put(item_left_child)\n",
    "        else:\n",
    "            graph_id = int(\"\".join(item), base=2)\n",
    "            G = Graph.from_id(graph_id, n)\n",
    "            if not(subgraph_search(G, F) or subgraph_search(G, H)):\n",
    "                return False\n",
    "\n",
    "    return True"
   ]
  },
  {
   "cell_type": "code",
   "execution_count": 78,
   "metadata": {},
   "outputs": [],
   "source": [
    "# Testing Brute Force\n",
    "test_data = []\n",
    "for row in upper_ramsey_data.iter_rows(named=True):\n",
    "    start_time = time.perf_counter()\n",
    "    row['linear_full_result'] = is_upper_ramsey_linear_full(row['n'], row['F'], row['H'])\n",
    "    end_time = time.perf_counter()\n",
    "    row['linear_full_time_ms'] = (end_time - start_time) * 1000\n",
    "    test_data.append(row)\n",
    "\n",
    "upper_ramsey_data = pl.DataFrame(\n",
    "    data=test_data,\n",
    "    schema=frame_schema,\n",
    "    orient=\"row\"\n",
    ")"
   ]
  },
  {
   "cell_type": "code",
   "execution_count": 79,
   "metadata": {},
   "outputs": [],
   "source": [
    "# Testing Optimised A\n",
    "test_data = []\n",
    "for row in upper_ramsey_data.iter_rows(named=True):\n",
    "    start_time = time.perf_counter()\n",
    "    row['tree_reduced_enumeration_result'] = is_upper_ramsey_tree_reduced_enumeration(row['n'], row['F'], row['H'])\n",
    "    end_time = time.perf_counter()\n",
    "    row['tree_reduced_enumeration_time_ms'] = (end_time - start_time) * 1000\n",
    "    test_data.append(row)\n",
    "\n",
    "upper_ramsey_data = pl.DataFrame(\n",
    "    data=test_data,\n",
    "    schema=frame_schema,\n",
    "    orient=\"row\"\n",
    ")"
   ]
  },
  {
   "cell_type": "code",
   "execution_count": 80,
   "metadata": {},
   "outputs": [],
   "source": [
    "# Testing Optimised B\n",
    "test_data = []\n",
    "for row in upper_ramsey_data.iter_rows(named=True):\n",
    "    start_time = time.perf_counter()\n",
    "    row['tree_search_result'] = is_upper_ramsey_tree_search(row['n'], row['F'], row['H'])\n",
    "    end_time = time.perf_counter()\n",
    "    row['tree_search_time_ms'] = (end_time - start_time) * 1000\n",
    "    test_data.append(row)\n",
    "\n",
    "upper_ramsey_data = pl.DataFrame(\n",
    "    data=test_data,\n",
    "    schema=frame_schema,\n",
    "    orient=\"row\"\n",
    ")"
   ]
  },
  {
   "cell_type": "code",
   "execution_count": 81,
   "metadata": {},
   "outputs": [
    {
     "data": {
      "text/html": [
       "<div><style>\n",
       ".dataframe > thead > tr,\n",
       ".dataframe > tbody > tr {\n",
       "  text-align: right;\n",
       "  white-space: pre-wrap;\n",
       "}\n",
       "</style>\n",
       "<small>shape: (16, 10)</small><table border=\"1\" class=\"dataframe\"><thead><tr><th>n</th><th>F</th><th>H</th><th>expected_result</th><th>linear_full_result</th><th>tree_reduced_enumeration_result</th><th>tree_search_result</th><th>linear_full_time_ms</th><th>tree_reduced_enumeration_time_ms</th><th>tree_search_time_ms</th></tr><tr><td>u64</td><td>object</td><td>object</td><td>bool</td><td>bool</td><td>bool</td><td>bool</td><td>f64</td><td>f64</td><td>f64</td></tr></thead><tbody><tr><td>3</td><td>1</td><td>0</td><td>true</td><td>true</td><td>true</td><td>true</td><td>1.8926</td><td>1.2698</td><td>2.1382</td></tr><tr><td>3</td><td>111</td><td>000</td><td>false</td><td>false</td><td>false</td><td>false</td><td>0.9675</td><td>0.6815</td><td>1.5359</td></tr><tr><td>3</td><td>111</td><td>000000</td><td>false</td><td>false</td><td>false</td><td>false</td><td>1.2972</td><td>0.6557</td><td>1.1749</td></tr><tr><td>3</td><td>111</td><td>0000000000</td><td>false</td><td>false</td><td>false</td><td>false</td><td>0.5738</td><td>0.5073</td><td>0.891</td></tr><tr><td>4</td><td>1</td><td>0</td><td>true</td><td>true</td><td>true</td><td>true</td><td>13.1349</td><td>4.4238</td><td>1.4493</td></tr><tr><td>&hellip;</td><td>&hellip;</td><td>&hellip;</td><td>&hellip;</td><td>&hellip;</td><td>&hellip;</td><td>&hellip;</td><td>&hellip;</td><td>&hellip;</td><td>&hellip;</td></tr><tr><td>5</td><td>111</td><td>0000000000</td><td>false</td><td>false</td><td>false</td><td>false</td><td>90.3304</td><td>39.1304</td><td>7.4566</td></tr><tr><td>6</td><td>1</td><td>0</td><td>true</td><td>true</td><td>true</td><td>true</td><td>6434.3022</td><td>1201.1704</td><td>2.5077</td></tr><tr><td>6</td><td>111</td><td>000</td><td>true</td><td>true</td><td>true</td><td>true</td><td>12723.994</td><td>2650.1929</td><td>52.7863</td></tr><tr><td>6</td><td>111</td><td>000000</td><td>false</td><td>false</td><td>false</td><td>false</td><td>3305.6145</td><td>762.2157</td><td>22.0577</td></tr><tr><td>6</td><td>111</td><td>0000000000</td><td>false</td><td>false</td><td>false</td><td>false</td><td>3028.0688</td><td>757.0554</td><td>20.3598</td></tr></tbody></table></div>"
      ],
      "text/plain": [
       "shape: (16, 10)\n",
       "┌─────┬────────┬────────────┬─────────────┬───┬─────────────┬────────────┬────────────┬────────────┐\n",
       "│ n   ┆ F      ┆ H          ┆ expected_re ┆ … ┆ tree_search ┆ linear_ful ┆ tree_reduc ┆ tree_searc │\n",
       "│ --- ┆ ---    ┆ ---        ┆ sult        ┆   ┆ _result     ┆ l_time_ms  ┆ ed_enumera ┆ h_time_ms  │\n",
       "│ u64 ┆ object ┆ object     ┆ ---         ┆   ┆ ---         ┆ ---        ┆ tion_time_ ┆ ---        │\n",
       "│     ┆        ┆            ┆ bool        ┆   ┆ bool        ┆ f64        ┆ …          ┆ f64        │\n",
       "│     ┆        ┆            ┆             ┆   ┆             ┆            ┆ ---        ┆            │\n",
       "│     ┆        ┆            ┆             ┆   ┆             ┆            ┆ f64        ┆            │\n",
       "╞═════╪════════╪════════════╪═════════════╪═══╪═════════════╪════════════╪════════════╪════════════╡\n",
       "│ 3   ┆ 1      ┆ 0          ┆ true        ┆ … ┆ true        ┆ 1.8926     ┆ 1.2698     ┆ 2.1382     │\n",
       "│ 3   ┆ 111    ┆ 000        ┆ false       ┆ … ┆ false       ┆ 0.9675     ┆ 0.6815     ┆ 1.5359     │\n",
       "│ 3   ┆ 111    ┆ 000000     ┆ false       ┆ … ┆ false       ┆ 1.2972     ┆ 0.6557     ┆ 1.1749     │\n",
       "│ 3   ┆ 111    ┆ 0000000000 ┆ false       ┆ … ┆ false       ┆ 0.5738     ┆ 0.5073     ┆ 0.891      │\n",
       "│ 4   ┆ 1      ┆ 0          ┆ true        ┆ … ┆ true        ┆ 13.1349    ┆ 4.4238     ┆ 1.4493     │\n",
       "│ …   ┆ …      ┆ …          ┆ …           ┆ … ┆ …           ┆ …          ┆ …          ┆ …          │\n",
       "│ 5   ┆ 111    ┆ 0000000000 ┆ false       ┆ … ┆ false       ┆ 90.3304    ┆ 39.1304    ┆ 7.4566     │\n",
       "│ 6   ┆ 1      ┆ 0          ┆ true        ┆ … ┆ true        ┆ 6434.3022  ┆ 1201.1704  ┆ 2.5077     │\n",
       "│ 6   ┆ 111    ┆ 000        ┆ true        ┆ … ┆ true        ┆ 12723.994  ┆ 2650.1929  ┆ 52.7863    │\n",
       "│ 6   ┆ 111    ┆ 000000     ┆ false       ┆ … ┆ false       ┆ 3305.6145  ┆ 762.2157   ┆ 22.0577    │\n",
       "│ 6   ┆ 111    ┆ 0000000000 ┆ false       ┆ … ┆ false       ┆ 3028.0688  ┆ 757.0554   ┆ 20.3598    │\n",
       "└─────┴────────┴────────────┴─────────────┴───┴─────────────┴────────────┴────────────┴────────────┘"
      ]
     },
     "execution_count": 81,
     "metadata": {},
     "output_type": "execute_result"
    }
   ],
   "source": [
    "upper_ramsey_data"
   ]
  },
  {
   "cell_type": "markdown",
   "metadata": {},
   "source": [
    "#### Runtime Graphs"
   ]
  },
  {
   "cell_type": "code",
   "execution_count": 82,
   "metadata": {},
   "outputs": [
    {
     "data": {
      "image/png": "[encoded data removed]",
      "text/plain": [
       "<Figure size 640x480 with 1 Axes>"
      ]
     },
     "metadata": {},
     "output_type": "display_data"
    }
   ],
   "source": [
    "performance_data = upper_ramsey_data.group_by(\"n\").agg(\n",
    "    pl.col(\"linear_full_time_ms\").mean(), \n",
    "    pl.col(\"tree_reduced_enumeration_time_ms\").mean(),\n",
    "    pl.col(\"tree_search_time_ms\").mean()\n",
    ")\n",
    "\n",
    "plt.scatter(\n",
    "    x=performance_data[\"n\"],\n",
    "    y=performance_data[\"linear_full_time_ms\"],\n",
    "    label=\"Linear Enumeration\"\n",
    ")\n",
    "\n",
    "plt.scatter(\n",
    "    x=performance_data[\"n\"],\n",
    "    y=performance_data[\"tree_reduced_enumeration_time_ms\"],\n",
    "    label=\"Tree Reduced Enumeration\"\n",
    ")\n",
    "\n",
    "plt.scatter(\n",
    "    x=performance_data[\"n\"],\n",
    "    y=performance_data[\"tree_search_time_ms\"],\n",
    "    label=\"Tree Search\"\n",
    ")\n",
    "\n",
    "plt.ylabel(\"Runtime (ms)\")\n",
    "plt.yscale('log')\n",
    "plt.xlabel(\"Graph order\")\n",
    "plt.legend(loc=\"upper left\")\n",
    "plt.show()"
   ]
  },
  {
   "cell_type": "code",
   "execution_count": 83,
   "metadata": {},
   "outputs": [
    {
     "data": {
      "text/html": [
       "<div><style>\n",
       ".dataframe > thead > tr,\n",
       ".dataframe > tbody > tr {\n",
       "  text-align: right;\n",
       "  white-space: pre-wrap;\n",
       "}\n",
       "</style>\n",
       "<small>shape: (16, 10)</small><table border=\"1\" class=\"dataframe\"><thead><tr><th>n</th><th>F</th><th>H</th><th>expected_result</th><th>linear_full_result</th><th>tree_reduced_enumeration_result</th><th>tree_search_result</th><th>linear_full_time_ms</th><th>tree_reduced_enumeration_time_ms</th><th>tree_search_time_ms</th></tr><tr><td>u64</td><td>str</td><td>str</td><td>bool</td><td>bool</td><td>bool</td><td>bool</td><td>f64</td><td>f64</td><td>f64</td></tr></thead><tbody><tr><td>3</td><td>&quot;1&quot;</td><td>&quot;0&quot;</td><td>true</td><td>true</td><td>true</td><td>true</td><td>1.8926</td><td>1.2698</td><td>2.1382</td></tr><tr><td>3</td><td>&quot;111&quot;</td><td>&quot;000&quot;</td><td>false</td><td>false</td><td>false</td><td>false</td><td>0.9675</td><td>0.6815</td><td>1.5359</td></tr><tr><td>3</td><td>&quot;111&quot;</td><td>&quot;000000&quot;</td><td>false</td><td>false</td><td>false</td><td>false</td><td>1.2972</td><td>0.6557</td><td>1.1749</td></tr><tr><td>3</td><td>&quot;111&quot;</td><td>&quot;0000000000&quot;</td><td>false</td><td>false</td><td>false</td><td>false</td><td>0.5738</td><td>0.5073</td><td>0.891</td></tr><tr><td>4</td><td>&quot;1&quot;</td><td>&quot;0&quot;</td><td>true</td><td>true</td><td>true</td><td>true</td><td>13.1349</td><td>4.4238</td><td>1.4493</td></tr><tr><td>&hellip;</td><td>&hellip;</td><td>&hellip;</td><td>&hellip;</td><td>&hellip;</td><td>&hellip;</td><td>&hellip;</td><td>&hellip;</td><td>&hellip;</td><td>&hellip;</td></tr><tr><td>5</td><td>&quot;111&quot;</td><td>&quot;0000000000&quot;</td><td>false</td><td>false</td><td>false</td><td>false</td><td>90.3304</td><td>39.1304</td><td>7.4566</td></tr><tr><td>6</td><td>&quot;1&quot;</td><td>&quot;0&quot;</td><td>true</td><td>true</td><td>true</td><td>true</td><td>6434.3022</td><td>1201.1704</td><td>2.5077</td></tr><tr><td>6</td><td>&quot;111&quot;</td><td>&quot;000&quot;</td><td>true</td><td>true</td><td>true</td><td>true</td><td>12723.994</td><td>2650.1929</td><td>52.7863</td></tr><tr><td>6</td><td>&quot;111&quot;</td><td>&quot;000000&quot;</td><td>false</td><td>false</td><td>false</td><td>false</td><td>3305.6145</td><td>762.2157</td><td>22.0577</td></tr><tr><td>6</td><td>&quot;111&quot;</td><td>&quot;0000000000&quot;</td><td>false</td><td>false</td><td>false</td><td>false</td><td>3028.0688</td><td>757.0554</td><td>20.3598</td></tr></tbody></table></div>"
      ],
      "text/plain": [
       "shape: (16, 10)\n",
       "┌─────┬─────┬────────────┬─────────────┬───┬─────────────┬─────────────┬─────────────┬─────────────┐\n",
       "│ n   ┆ F   ┆ H          ┆ expected_re ┆ … ┆ tree_search ┆ linear_full ┆ tree_reduce ┆ tree_search │\n",
       "│ --- ┆ --- ┆ ---        ┆ sult        ┆   ┆ _result     ┆ _time_ms    ┆ d_enumerati ┆ _time_ms    │\n",
       "│ u64 ┆ str ┆ str        ┆ ---         ┆   ┆ ---         ┆ ---         ┆ on_time_…   ┆ ---         │\n",
       "│     ┆     ┆            ┆ bool        ┆   ┆ bool        ┆ f64         ┆ ---         ┆ f64         │\n",
       "│     ┆     ┆            ┆             ┆   ┆             ┆             ┆ f64         ┆             │\n",
       "╞═════╪═════╪════════════╪═════════════╪═══╪═════════════╪═════════════╪═════════════╪═════════════╡\n",
       "│ 3   ┆ 1   ┆ 0          ┆ true        ┆ … ┆ true        ┆ 1.8926      ┆ 1.2698      ┆ 2.1382      │\n",
       "│ 3   ┆ 111 ┆ 000        ┆ false       ┆ … ┆ false       ┆ 0.9675      ┆ 0.6815      ┆ 1.5359      │\n",
       "│ 3   ┆ 111 ┆ 000000     ┆ false       ┆ … ┆ false       ┆ 1.2972      ┆ 0.6557      ┆ 1.1749      │\n",
       "│ 3   ┆ 111 ┆ 0000000000 ┆ false       ┆ … ┆ false       ┆ 0.5738      ┆ 0.5073      ┆ 0.891       │\n",
       "│ 4   ┆ 1   ┆ 0          ┆ true        ┆ … ┆ true        ┆ 13.1349     ┆ 4.4238      ┆ 1.4493      │\n",
       "│ …   ┆ …   ┆ …          ┆ …           ┆ … ┆ …           ┆ …           ┆ …           ┆ …           │\n",
       "│ 5   ┆ 111 ┆ 0000000000 ┆ false       ┆ … ┆ false       ┆ 90.3304     ┆ 39.1304     ┆ 7.4566      │\n",
       "│ 6   ┆ 1   ┆ 0          ┆ true        ┆ … ┆ true        ┆ 6434.3022   ┆ 1201.1704   ┆ 2.5077      │\n",
       "│ 6   ┆ 111 ┆ 000        ┆ true        ┆ … ┆ true        ┆ 12723.994   ┆ 2650.1929   ┆ 52.7863     │\n",
       "│ 6   ┆ 111 ┆ 000000     ┆ false       ┆ … ┆ false       ┆ 3305.6145   ┆ 762.2157    ┆ 22.0577     │\n",
       "│ 6   ┆ 111 ┆ 0000000000 ┆ false       ┆ … ┆ false       ┆ 3028.0688   ┆ 757.0554    ┆ 20.3598     │\n",
       "└─────┴─────┴────────────┴─────────────┴───┴─────────────┴─────────────┴─────────────┴─────────────┘"
      ]
     },
     "execution_count": 83,
     "metadata": {},
     "output_type": "execute_result"
    }
   ],
   "source": [
    "# Convert subgraph objects to string\n",
    "new_F = upper_ramsey_data.select([\"F\"]).get_columns()[0].map_elements(lambda G: G.to_bitstring(), return_dtype=pl.String)\n",
    "new_H = upper_ramsey_data.select([\"H\"]).get_columns()[0].map_elements(lambda G: G.to_bitstring(), return_dtype=pl.String)\n",
    "upper_ramsey_data = upper_ramsey_data.with_columns(F = new_F)\n",
    "upper_ramsey_data = upper_ramsey_data.with_columns(H = new_H)\n",
    "\n",
    "upper_ramsey_data.write_csv(\"./data/upper_ramsey.csv\")\n",
    "upper_ramsey_data"
   ]
  }
 ],
 "metadata": {
  "kernelspec": {
   "display_name": "Python 3",
   "language": "python",
   "name": "python3"
  },
  "language_info": {
   "codemirror_mode": {
    "name": "ipython",
    "version": 3
   },
   "file_extension": ".py",
   "mimetype": "text/x-python",
   "name": "python",
   "nbconvert_exporter": "python",
   "pygments_lexer": "ipython3",
   "version": "3.11.9"
  }
 },
 "nbformat": 4,
 "nbformat_minor": 2
}
