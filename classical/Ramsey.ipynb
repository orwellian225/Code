{
 "cells": [
  {
   "cell_type": "markdown",
   "metadata": {},
   "source": [
    "# Ramsey Numbers\n",
    "\n",
    "#### Navigation\n",
    "* [Graphs](./Graphs.ipynb)\n",
    "* [Graphset Enumeration](./GraphsetEnumeration.ipynb)\n",
    "* [Subgraph Isomorphism - Subgraph Search](./SubgraphIsomorphism.ipynb)\n",
    "\n",
    "### Useful References\n",
    "\n",
    "* [Ramsey's Theorem](https://en.wikipedia.org/wiki/Ramsey%27s_theorem)\n",
    "\n",
    "### Problem"
   ]
  },
  {
   "cell_type": "code",
   "execution_count": 93,
   "metadata": {},
   "outputs": [],
   "source": [
    "import time\n",
    "from queue import LifoQueue\n",
    "from copy import deepcopy\n",
    "\n",
    "from graph import Graph\n",
    "\n",
    "import polars as pl"
   ]
  },
  {
   "cell_type": "code",
   "execution_count": 94,
   "metadata": {},
   "outputs": [
    {
     "data": {
      "text/html": [
       "<div><style>\n",
       ".dataframe > thead > tr,\n",
       ".dataframe > tbody > tr {\n",
       "  text-align: right;\n",
       "  white-space: pre-wrap;\n",
       "}\n",
       "</style>\n",
       "<small>shape: (12, 8)</small><table border=\"1\" class=\"dataframe\"><thead><tr><th>n</th><th>F</th><th>H</th><th>expected_result</th><th>linear_full_result</th><th>tree_reduced_enumeration_result</th><th>linear_full_time_ms</th><th>tree_reduced_enumeration_time_ms</th></tr><tr><td>u64</td><td>object</td><td>object</td><td>bool</td><td>bool</td><td>bool</td><td>f64</td><td>f64</td></tr></thead><tbody><tr><td>3</td><td>1</td><td>0</td><td>true</td><td>null</td><td>null</td><td>0.0</td><td>0.0</td></tr><tr><td>3</td><td>111</td><td>000</td><td>false</td><td>null</td><td>null</td><td>0.0</td><td>0.0</td></tr><tr><td>3</td><td>111</td><td>000000</td><td>false</td><td>null</td><td>null</td><td>0.0</td><td>0.0</td></tr><tr><td>3</td><td>111</td><td>0000000000</td><td>false</td><td>null</td><td>null</td><td>0.0</td><td>0.0</td></tr><tr><td>4</td><td>1</td><td>0</td><td>true</td><td>null</td><td>null</td><td>0.0</td><td>0.0</td></tr><tr><td>&hellip;</td><td>&hellip;</td><td>&hellip;</td><td>&hellip;</td><td>&hellip;</td><td>&hellip;</td><td>&hellip;</td><td>&hellip;</td></tr><tr><td>4</td><td>111</td><td>0000000000</td><td>false</td><td>null</td><td>null</td><td>0.0</td><td>0.0</td></tr><tr><td>5</td><td>1</td><td>0</td><td>true</td><td>null</td><td>null</td><td>0.0</td><td>0.0</td></tr><tr><td>5</td><td>111</td><td>000</td><td>false</td><td>null</td><td>null</td><td>0.0</td><td>0.0</td></tr><tr><td>5</td><td>111</td><td>000000</td><td>false</td><td>null</td><td>null</td><td>0.0</td><td>0.0</td></tr><tr><td>5</td><td>111</td><td>0000000000</td><td>false</td><td>null</td><td>null</td><td>0.0</td><td>0.0</td></tr></tbody></table></div>"
      ],
      "text/plain": [
       "shape: (12, 8)\n",
       "┌─────┬────────┬────────────┬──────────────┬─────────────┬─────────────┬─────────────┬─────────────┐\n",
       "│ n   ┆ F      ┆ H          ┆ expected_res ┆ linear_full ┆ tree_reduce ┆ linear_full ┆ tree_reduce │\n",
       "│ --- ┆ ---    ┆ ---        ┆ ult          ┆ _result     ┆ d_enumerati ┆ _time_ms    ┆ d_enumerati │\n",
       "│ u64 ┆ object ┆ object     ┆ ---          ┆ ---         ┆ on_resul…   ┆ ---         ┆ on_time_…   │\n",
       "│     ┆        ┆            ┆ bool         ┆ bool        ┆ ---         ┆ f64         ┆ ---         │\n",
       "│     ┆        ┆            ┆              ┆             ┆ bool        ┆             ┆ f64         │\n",
       "╞═════╪════════╪════════════╪══════════════╪═════════════╪═════════════╪═════════════╪═════════════╡\n",
       "│ 3   ┆ 1      ┆ 0          ┆ true         ┆ null        ┆ null        ┆ 0.0         ┆ 0.0         │\n",
       "│ 3   ┆ 111    ┆ 000        ┆ false        ┆ null        ┆ null        ┆ 0.0         ┆ 0.0         │\n",
       "│ 3   ┆ 111    ┆ 000000     ┆ false        ┆ null        ┆ null        ┆ 0.0         ┆ 0.0         │\n",
       "│ 3   ┆ 111    ┆ 0000000000 ┆ false        ┆ null        ┆ null        ┆ 0.0         ┆ 0.0         │\n",
       "│ 4   ┆ 1      ┆ 0          ┆ true         ┆ null        ┆ null        ┆ 0.0         ┆ 0.0         │\n",
       "│ …   ┆ …      ┆ …          ┆ …            ┆ …           ┆ …           ┆ …           ┆ …           │\n",
       "│ 4   ┆ 111    ┆ 0000000000 ┆ false        ┆ null        ┆ null        ┆ 0.0         ┆ 0.0         │\n",
       "│ 5   ┆ 1      ┆ 0          ┆ true         ┆ null        ┆ null        ┆ 0.0         ┆ 0.0         │\n",
       "│ 5   ┆ 111    ┆ 000        ┆ false        ┆ null        ┆ null        ┆ 0.0         ┆ 0.0         │\n",
       "│ 5   ┆ 111    ┆ 000000     ┆ false        ┆ null        ┆ null        ┆ 0.0         ┆ 0.0         │\n",
       "│ 5   ┆ 111    ┆ 0000000000 ┆ false        ┆ null        ┆ null        ┆ 0.0         ┆ 0.0         │\n",
       "└─────┴────────┴────────────┴──────────────┴─────────────┴─────────────┴─────────────┴─────────────┘"
      ]
     },
     "execution_count": 94,
     "metadata": {},
     "output_type": "execute_result"
    }
   ],
   "source": [
    "frame_schema = {\n",
    "    \"n\": pl.UInt64,\n",
    "    \"F\": pl.Object,\n",
    "    \"H\": pl.Object,\n",
    "    \"expected_result\": pl.Boolean,\n",
    "    \"linear_full_result\": pl.Boolean,\n",
    "    \"tree_reduced_enumeration_result\": pl.Boolean,\n",
    "    \"linear_full_time_ms\": pl.Float64,\n",
    "    \"tree_reduced_enumeration_time_ms\": pl.Float64\n",
    "}\n",
    "\n",
    "data = []\n",
    "for n in range(3, 6):\n",
    "    data.append([ n, Graph.complete_n(2), Graph.empty_n(2), True, None, None, 0., 0. ])\n",
    "    data.append([ n, Graph.complete_n(3), Graph.empty_n(3), n >= 6, None, None, 0., 0. ])\n",
    "    data.append([ n, Graph.complete_n(3), Graph.empty_n(4), n >= 9, None, None, 0., 0. ])\n",
    "    data.append([ n, Graph.complete_n(3), Graph.empty_n(5), n >= 14, None, None, 0., 0. ])\n",
    "\n",
    "upper_ramsey_data = pl.DataFrame(\n",
    "    data=data,\n",
    "    schema=frame_schema,\n",
    "    orient=\"row\"\n",
    ")\n",
    "\n",
    "upper_ramsey_data"
   ]
  },
  {
   "cell_type": "code",
   "execution_count": 95,
   "metadata": {},
   "outputs": [],
   "source": [
    "def subgraph_search(G: Graph, H: Graph):\n",
    "    \"\"\"\n",
    "        Decide if H is in G\n",
    "            * return True if H in G\n",
    "            * return False if H not in G\n",
    "    \"\"\"\n",
    "\n",
    "    stack = LifoQueue()\n",
    "    stack.put([])\n",
    "\n",
    "    while not stack.empty():\n",
    "        item = stack.get()\n",
    "\n",
    "        if len(item) == H.properties.order:\n",
    "            local_result = True\n",
    "            for vert_a_H, vert_a_G in enumerate(item):\n",
    "                for vert_b_H, vert_b_G in enumerate(item[vert_a_H + 1:]):\n",
    "                    vert_b_H += vert_a_H + 1\n",
    "                    if vert_a_G == vert_b_G or H[vert_a_H][vert_b_H] == -1:\n",
    "                        continue\n",
    "\n",
    "                    local_result = local_result and (G[vert_a_G][vert_b_G] == H[vert_a_H][vert_b_H])\n",
    "\n",
    "            if local_result:\n",
    "                return True\n",
    "        else:\n",
    "            for i in range((item[-1] + 1) if len(item) > 0 else 0, G.properties.order):\n",
    "                new_item = deepcopy(item)\n",
    "                new_item.append(i)\n",
    "                stack.put(new_item)\n",
    "\n",
    "    return False"
   ]
  },
  {
   "cell_type": "code",
   "execution_count": 96,
   "metadata": {},
   "outputs": [],
   "source": [
    "def is_upper_ramsey_linear_full(n: int, F: Graph, H: Graph):\n",
    "    result = True\n",
    "    for i in range(0, int(2**(n*(n-1)/2))):\n",
    "        G = Graph.from_id(i, n)\n",
    "        result = result and (subgraph_search(G, F) or subgraph_search(G, H))\n",
    "\n",
    "    return result"
   ]
  },
  {
   "cell_type": "code",
   "execution_count": 97,
   "metadata": {},
   "outputs": [],
   "source": [
    "def is_upper_ramsey_tree_reduced(n: int, F: Graph, H: Graph):\n",
    "    stack = LifoQueue()\n",
    "    result = True\n",
    "\n",
    "    for i in range(n):\n",
    "        new_item = []\n",
    "        for _ in range(i):\n",
    "            new_item.append(\"1\")\n",
    "        for _ in range(n - 1 - i):\n",
    "            new_item.append(\"0\")\n",
    "\n",
    "        stack.put(new_item)\n",
    "\n",
    "    while not stack.empty():\n",
    "        item = stack.get()\n",
    "\n",
    "        if len(item) < int(n*(n-1)/2):\n",
    "            item_left_child = deepcopy(item)\n",
    "            item_left_child.append('0')\n",
    "\n",
    "            item_right_child = deepcopy(item)\n",
    "            item_right_child.append('1')\n",
    "\n",
    "            stack.put(item_right_child)\n",
    "            stack.put(item_left_child)\n",
    "\n",
    "        else:\n",
    "            graph_id = int(\"\".join(item), base=2)\n",
    "            G = Graph.from_id(graph_id, n)\n",
    "            result = result and (subgraph_search(G, F) or subgraph_search(G, H))\n",
    "\n",
    "    return result\n"
   ]
  },
  {
   "cell_type": "code",
   "execution_count": 98,
   "metadata": {},
   "outputs": [],
   "source": [
    "# Testing Brute Force\n",
    "test_data = []\n",
    "for row in upper_ramsey_data.iter_rows(named=True):\n",
    "    start_time = time.perf_counter()\n",
    "    row['linear_full_result'] = is_upper_ramsey_linear_full(row['n'], row['F'], row['H'])\n",
    "    end_time = time.perf_counter()\n",
    "    row['linear_full_time_ms'] = (end_time - start_time) * 1000\n",
    "    test_data.append(row)\n",
    "\n",
    "upper_ramsey_data = pl.DataFrame(\n",
    "    data=test_data,\n",
    "    schema=frame_schema,\n",
    "    orient=\"row\"\n",
    ")"
   ]
  },
  {
   "cell_type": "code",
   "execution_count": 99,
   "metadata": {},
   "outputs": [],
   "source": [
    "# Testing Optimised A\n",
    "test_data = []\n",
    "for row in upper_ramsey_data.iter_rows(named=True):\n",
    "    start_time = time.perf_counter()\n",
    "    row['tree_reduced_enumeration_result'] = is_upper_ramsey_tree_reduced(row['n'], row['F'], row['H'])\n",
    "    end_time = time.perf_counter()\n",
    "    row['tree_reduced_enumeration_time_ms'] = (end_time - start_time) * 1000\n",
    "    test_data.append(row)\n",
    "\n",
    "upper_ramsey_data = pl.DataFrame(\n",
    "    data=test_data,\n",
    "    schema=frame_schema,\n",
    "    orient=\"row\"\n",
    ")"
   ]
  },
  {
   "cell_type": "code",
   "execution_count": 100,
   "metadata": {},
   "outputs": [
    {
     "data": {
      "text/html": [
       "<div><style>\n",
       ".dataframe > thead > tr,\n",
       ".dataframe > tbody > tr {\n",
       "  text-align: right;\n",
       "  white-space: pre-wrap;\n",
       "}\n",
       "</style>\n",
       "<small>shape: (12, 8)</small><table border=\"1\" class=\"dataframe\"><thead><tr><th>n</th><th>F</th><th>H</th><th>expected_result</th><th>linear_full_result</th><th>tree_reduced_enumeration_result</th><th>linear_full_time_ms</th><th>tree_reduced_enumeration_time_ms</th></tr><tr><td>u64</td><td>u64</td><td>u64</td><td>bool</td><td>bool</td><td>bool</td><td>f64</td><td>f64</td></tr></thead><tbody><tr><td>3</td><td>1</td><td>0</td><td>true</td><td>true</td><td>true</td><td>1.9596</td><td>1.3136</td></tr><tr><td>3</td><td>7</td><td>0</td><td>false</td><td>false</td><td>false</td><td>1.421</td><td>0.8816</td></tr><tr><td>3</td><td>7</td><td>0</td><td>false</td><td>false</td><td>false</td><td>0.9802</td><td>0.6481</td></tr><tr><td>3</td><td>7</td><td>0</td><td>false</td><td>false</td><td>false</td><td>0.9518</td><td>0.5698</td></tr><tr><td>4</td><td>1</td><td>0</td><td>true</td><td>true</td><td>true</td><td>14.3507</td><td>7.8624</td></tr><tr><td>&hellip;</td><td>&hellip;</td><td>&hellip;</td><td>&hellip;</td><td>&hellip;</td><td>&hellip;</td><td>&hellip;</td><td>&hellip;</td></tr><tr><td>4</td><td>7</td><td>0</td><td>false</td><td>false</td><td>false</td><td>8.0958</td><td>4.0899</td></tr><tr><td>5</td><td>1</td><td>0</td><td>true</td><td>true</td><td>true</td><td>312.9073</td><td>63.2594</td></tr><tr><td>5</td><td>7</td><td>0</td><td>false</td><td>false</td><td>false</td><td>144.1704</td><td>58.7726</td></tr><tr><td>5</td><td>7</td><td>0</td><td>false</td><td>false</td><td>false</td><td>92.082</td><td>48.0908</td></tr><tr><td>5</td><td>7</td><td>0</td><td>false</td><td>false</td><td>false</td><td>98.2968</td><td>46.6377</td></tr></tbody></table></div>"
      ],
      "text/plain": [
       "shape: (12, 8)\n",
       "┌─────┬─────┬─────┬────────────────┬───────────────┬───────────────┬───────────────┬───────────────┐\n",
       "│ n   ┆ F   ┆ H   ┆ expected_resul ┆ linear_full_r ┆ tree_reduced_ ┆ linear_full_t ┆ tree_reduced_ │\n",
       "│ --- ┆ --- ┆ --- ┆ t              ┆ esult         ┆ enumeration_r ┆ ime_ms        ┆ enumeration_t │\n",
       "│ u64 ┆ u64 ┆ u64 ┆ ---            ┆ ---           ┆ esul…         ┆ ---           ┆ ime_…         │\n",
       "│     ┆     ┆     ┆ bool           ┆ bool          ┆ ---           ┆ f64           ┆ ---           │\n",
       "│     ┆     ┆     ┆                ┆               ┆ bool          ┆               ┆ f64           │\n",
       "╞═════╪═════╪═════╪════════════════╪═══════════════╪═══════════════╪═══════════════╪═══════════════╡\n",
       "│ 3   ┆ 1   ┆ 0   ┆ true           ┆ true          ┆ true          ┆ 1.9596        ┆ 1.3136        │\n",
       "│ 3   ┆ 7   ┆ 0   ┆ false          ┆ false         ┆ false         ┆ 1.421         ┆ 0.8816        │\n",
       "│ 3   ┆ 7   ┆ 0   ┆ false          ┆ false         ┆ false         ┆ 0.9802        ┆ 0.6481        │\n",
       "│ 3   ┆ 7   ┆ 0   ┆ false          ┆ false         ┆ false         ┆ 0.9518        ┆ 0.5698        │\n",
       "│ 4   ┆ 1   ┆ 0   ┆ true           ┆ true          ┆ true          ┆ 14.3507       ┆ 7.8624        │\n",
       "│ …   ┆ …   ┆ …   ┆ …              ┆ …             ┆ …             ┆ …             ┆ …             │\n",
       "│ 4   ┆ 7   ┆ 0   ┆ false          ┆ false         ┆ false         ┆ 8.0958        ┆ 4.0899        │\n",
       "│ 5   ┆ 1   ┆ 0   ┆ true           ┆ true          ┆ true          ┆ 312.9073      ┆ 63.2594       │\n",
       "│ 5   ┆ 7   ┆ 0   ┆ false          ┆ false         ┆ false         ┆ 144.1704      ┆ 58.7726       │\n",
       "│ 5   ┆ 7   ┆ 0   ┆ false          ┆ false         ┆ false         ┆ 92.082        ┆ 48.0908       │\n",
       "│ 5   ┆ 7   ┆ 0   ┆ false          ┆ false         ┆ false         ┆ 98.2968       ┆ 46.6377       │\n",
       "└─────┴─────┴─────┴────────────────┴───────────────┴───────────────┴───────────────┴───────────────┘"
      ]
     },
     "execution_count": 100,
     "metadata": {},
     "output_type": "execute_result"
    }
   ],
   "source": [
    "# Convert subgraph objects to string\n",
    "new_F = upper_ramsey_data.select([\"F\"]).get_columns()[0].map_elements(lambda G: G.properties.id, return_dtype=pl.UInt64)\n",
    "new_H = upper_ramsey_data.select([\"H\"]).get_columns()[0].map_elements(lambda G: G.properties.id, return_dtype=pl.UInt64)\n",
    "upper_ramsey_data = upper_ramsey_data.with_columns(F = new_F)\n",
    "upper_ramsey_data = upper_ramsey_data.with_columns(H = new_H)\n",
    "\n",
    "upper_ramsey_data.write_csv(\"./data/upper_ramsey.csv\")\n",
    "upper_ramsey_data"
   ]
  }
 ],
 "metadata": {
  "kernelspec": {
   "display_name": "Python 3",
   "language": "python",
   "name": "python3"
  },
  "language_info": {
   "codemirror_mode": {
    "name": "ipython",
    "version": 3
   },
   "file_extension": ".py",
   "mimetype": "text/x-python",
   "name": "python",
   "nbconvert_exporter": "python",
   "pygments_lexer": "ipython3",
   "version": "3.11.9"
  }
 },
 "nbformat": 4,
 "nbformat_minor": 2
}
