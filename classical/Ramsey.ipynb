{
 "cells": [
  {
   "cell_type": "markdown",
   "metadata": {},
   "source": [
    "# Ramsey Numbers\n",
    "\n",
    "#### Navigation\n",
    "* [Graphs](./Graphs.ipynb)\n",
    "* [Graphset Enumeration](./GraphsetEnumeration.ipynb)\n",
    "* [Subgraph Isomorphism - Subgraph Search](./SubgraphIsomorphism.ipynb)\n",
    "\n",
    "### Useful References\n",
    "\n",
    "* [Ramsey's Theorem](https://en.wikipedia.org/wiki/Ramsey%27s_theorem)\n",
    "\n",
    "### Problem"
   ]
  },
  {
   "cell_type": "code",
   "execution_count": 2,
   "metadata": {},
   "outputs": [],
   "source": [
    "import time\n",
    "from queue import LifoQueue\n",
    "from copy import deepcopy\n",
    "\n",
    "from graph import Graph\n",
    "\n",
    "import polars as pl"
   ]
  },
  {
   "cell_type": "code",
   "execution_count": 3,
   "metadata": {},
   "outputs": [
    {
     "data": {
      "text/html": [
       "<div><style>\n",
       ".dataframe > thead > tr,\n",
       ".dataframe > tbody > tr {\n",
       "  text-align: right;\n",
       "  white-space: pre-wrap;\n",
       "}\n",
       "</style>\n",
       "<small>shape: (12, 8)</small><table border=\"1\" class=\"dataframe\"><thead><tr><th>n</th><th>F</th><th>H</th><th>expected_result</th><th>linear_full_result</th><th>tree_reduced_enumeration_result</th><th>linear_full_time_ms</th><th>tree_reduced_enumeration_time_ms</th></tr><tr><td>u64</td><td>object</td><td>object</td><td>bool</td><td>bool</td><td>bool</td><td>f64</td><td>f64</td></tr></thead><tbody><tr><td>3</td><td>1</td><td>0</td><td>true</td><td>null</td><td>null</td><td>0.0</td><td>0.0</td></tr><tr><td>3</td><td>111</td><td>000</td><td>false</td><td>null</td><td>null</td><td>0.0</td><td>0.0</td></tr><tr><td>3</td><td>111</td><td>000000</td><td>false</td><td>null</td><td>null</td><td>0.0</td><td>0.0</td></tr><tr><td>3</td><td>111</td><td>0000000000</td><td>false</td><td>null</td><td>null</td><td>0.0</td><td>0.0</td></tr><tr><td>4</td><td>1</td><td>0</td><td>true</td><td>null</td><td>null</td><td>0.0</td><td>0.0</td></tr><tr><td>&hellip;</td><td>&hellip;</td><td>&hellip;</td><td>&hellip;</td><td>&hellip;</td><td>&hellip;</td><td>&hellip;</td><td>&hellip;</td></tr><tr><td>4</td><td>111</td><td>0000000000</td><td>false</td><td>null</td><td>null</td><td>0.0</td><td>0.0</td></tr><tr><td>5</td><td>1</td><td>0</td><td>true</td><td>null</td><td>null</td><td>0.0</td><td>0.0</td></tr><tr><td>5</td><td>111</td><td>000</td><td>false</td><td>null</td><td>null</td><td>0.0</td><td>0.0</td></tr><tr><td>5</td><td>111</td><td>000000</td><td>false</td><td>null</td><td>null</td><td>0.0</td><td>0.0</td></tr><tr><td>5</td><td>111</td><td>0000000000</td><td>false</td><td>null</td><td>null</td><td>0.0</td><td>0.0</td></tr></tbody></table></div>"
      ],
      "text/plain": [
       "shape: (12, 8)\n",
       "┌─────┬────────┬────────────┬──────────────┬─────────────┬─────────────┬─────────────┬─────────────┐\n",
       "│ n   ┆ F      ┆ H          ┆ expected_res ┆ linear_full ┆ tree_reduce ┆ linear_full ┆ tree_reduce │\n",
       "│ --- ┆ ---    ┆ ---        ┆ ult          ┆ _result     ┆ d_enumerati ┆ _time_ms    ┆ d_enumerati │\n",
       "│ u64 ┆ object ┆ object     ┆ ---          ┆ ---         ┆ on_resul…   ┆ ---         ┆ on_time_…   │\n",
       "│     ┆        ┆            ┆ bool         ┆ bool        ┆ ---         ┆ f64         ┆ ---         │\n",
       "│     ┆        ┆            ┆              ┆             ┆ bool        ┆             ┆ f64         │\n",
       "╞═════╪════════╪════════════╪══════════════╪═════════════╪═════════════╪═════════════╪═════════════╡\n",
       "│ 3   ┆ 1      ┆ 0          ┆ true         ┆ null        ┆ null        ┆ 0.0         ┆ 0.0         │\n",
       "│ 3   ┆ 111    ┆ 000        ┆ false        ┆ null        ┆ null        ┆ 0.0         ┆ 0.0         │\n",
       "│ 3   ┆ 111    ┆ 000000     ┆ false        ┆ null        ┆ null        ┆ 0.0         ┆ 0.0         │\n",
       "│ 3   ┆ 111    ┆ 0000000000 ┆ false        ┆ null        ┆ null        ┆ 0.0         ┆ 0.0         │\n",
       "│ 4   ┆ 1      ┆ 0          ┆ true         ┆ null        ┆ null        ┆ 0.0         ┆ 0.0         │\n",
       "│ …   ┆ …      ┆ …          ┆ …            ┆ …           ┆ …           ┆ …           ┆ …           │\n",
       "│ 4   ┆ 111    ┆ 0000000000 ┆ false        ┆ null        ┆ null        ┆ 0.0         ┆ 0.0         │\n",
       "│ 5   ┆ 1      ┆ 0          ┆ true         ┆ null        ┆ null        ┆ 0.0         ┆ 0.0         │\n",
       "│ 5   ┆ 111    ┆ 000        ┆ false        ┆ null        ┆ null        ┆ 0.0         ┆ 0.0         │\n",
       "│ 5   ┆ 111    ┆ 000000     ┆ false        ┆ null        ┆ null        ┆ 0.0         ┆ 0.0         │\n",
       "│ 5   ┆ 111    ┆ 0000000000 ┆ false        ┆ null        ┆ null        ┆ 0.0         ┆ 0.0         │\n",
       "└─────┴────────┴────────────┴──────────────┴─────────────┴─────────────┴─────────────┴─────────────┘"
      ]
     },
     "execution_count": 3,
     "metadata": {},
     "output_type": "execute_result"
    }
   ],
   "source": [
    "frame_schema = {\n",
    "    \"n\": pl.UInt64,\n",
    "    \"F\": pl.Object,\n",
    "    \"H\": pl.Object,\n",
    "    \"expected_result\": pl.Boolean,\n",
    "    \"linear_full_result\": pl.Boolean,\n",
    "    \"tree_reduced_enumeration_result\": pl.Boolean,\n",
    "    \"linear_full_time_ms\": pl.Float64,\n",
    "    \"tree_reduced_enumeration_time_ms\": pl.Float64\n",
    "}\n",
    "\n",
    "data = []\n",
    "for n in range(3, 6):\n",
    "    data.append([ n, Graph.complete_n(2), Graph.empty_n(2), True, None, None, 0., 0. ])\n",
    "    data.append([ n, Graph.complete_n(3), Graph.empty_n(3), n >= 6, None, None, 0., 0. ])\n",
    "    data.append([ n, Graph.complete_n(3), Graph.empty_n(4), n >= 9, None, None, 0., 0. ])\n",
    "    data.append([ n, Graph.complete_n(3), Graph.empty_n(5), n >= 14, None, None, 0., 0. ])\n",
    "\n",
    "upper_ramsey_data = pl.DataFrame(\n",
    "    data=data,\n",
    "    schema=frame_schema,\n",
    "    orient=\"row\"\n",
    ")\n",
    "\n",
    "upper_ramsey_data"
   ]
  },
  {
   "cell_type": "code",
   "execution_count": 4,
   "metadata": {},
   "outputs": [],
   "source": [
    "def subgraph_search(G: Graph, H: Graph):\n",
    "    \"\"\"\n",
    "        Decide if H is in G\n",
    "            * return True if H in G\n",
    "            * return False if H not in G\n",
    "    \"\"\"\n",
    "\n",
    "    stack = LifoQueue()\n",
    "    stack.put([])\n",
    "\n",
    "    while not stack.empty():\n",
    "        item = stack.get()\n",
    "\n",
    "        if len(item) == H.properties.order:\n",
    "            local_result = True\n",
    "            for vert_a_H, vert_a_G in enumerate(item):\n",
    "                for vert_b_H, vert_b_G in enumerate(item[vert_a_H + 1:]):\n",
    "                    vert_b_H += vert_a_H + 1\n",
    "                    if vert_a_G == vert_b_G or H[vert_a_H][vert_b_H] == -1:\n",
    "                        continue\n",
    "\n",
    "                    local_result = local_result and (G[vert_a_G][vert_b_G] == H[vert_a_H][vert_b_H])\n",
    "\n",
    "            if local_result:\n",
    "                return True\n",
    "        else:\n",
    "            for i in range((item[-1] + 1) if len(item) > 0 else 0, G.properties.order):\n",
    "                new_item = deepcopy(item)\n",
    "                new_item.append(i)\n",
    "                stack.put(new_item)\n",
    "\n",
    "    return False"
   ]
  },
  {
   "cell_type": "code",
   "execution_count": 5,
   "metadata": {},
   "outputs": [],
   "source": [
    "def is_upper_ramsey_linear_full(n: int, F: Graph, H: Graph):\n",
    "    result = True\n",
    "    for i in range(0, int(2**(n*(n-1)/2))):\n",
    "        G = Graph.from_id(i, n)\n",
    "        result = result and (subgraph_search(G, F) or subgraph_search(G, H))\n",
    "\n",
    "    return result"
   ]
  },
  {
   "cell_type": "code",
   "execution_count": 6,
   "metadata": {},
   "outputs": [],
   "source": [
    "def is_upper_ramsey_tree_reduced_enumeration(n: int, F: Graph, H: Graph):\n",
    "    stack = LifoQueue()\n",
    "    result = True\n",
    "\n",
    "    for i in range(n):\n",
    "        new_item = []\n",
    "        for _ in range(i):\n",
    "            new_item.append(\"1\")\n",
    "        for _ in range(n - 1 - i):\n",
    "            new_item.append(\"0\")\n",
    "\n",
    "        stack.put(new_item)\n",
    "\n",
    "    while not stack.empty():\n",
    "        item = stack.get()\n",
    "\n",
    "        if len(item) < int(n*(n-1)/2):\n",
    "            item_left_child = deepcopy(item)\n",
    "            item_left_child.append('0')\n",
    "\n",
    "            item_right_child = deepcopy(item)\n",
    "            item_right_child.append('1')\n",
    "\n",
    "            stack.put(item_right_child)\n",
    "            stack.put(item_left_child)\n",
    "\n",
    "        else:\n",
    "            graph_id = int(\"\".join(item), base=2)\n",
    "            G = Graph.from_id(graph_id, n)\n",
    "            result = result and (subgraph_search(G, F) or subgraph_search(G, H))\n",
    "\n",
    "    return result\n"
   ]
  },
  {
   "cell_type": "code",
   "execution_count": 7,
   "metadata": {},
   "outputs": [],
   "source": [
    "def is_upper_ramsey_tree_search(n: int, F: Graph, H: Graph):\n",
    "    stack = LifoQueue()\n",
    "    result = True\n",
    "\n",
    "    for i in range(n):\n",
    "        new_item = []\n",
    "        for _ in range(i):\n",
    "            new_item.append(\"1\")\n",
    "        for _ in range(n - 1 - i):\n",
    "            new_item.append(\"0\")\n",
    "\n",
    "        stack.put(new_item)\n",
    "\n",
    "    while not stack.empty():\n",
    "        item = stack.get()\n",
    "\n",
    "        if len(item) < int(n*(n-1)/2):\n",
    "            item_left_child = deepcopy(item)\n",
    "            item_left_child.append('0')\n",
    "\n",
    "            item_right_child = deepcopy(item)\n",
    "            item_right_child.append('1')\n",
    "\n",
    "            right_graph_id = int(\"\".join(item_right_child), base=2)\n",
    "            right_G = Graph.from_id(right_graph_id, n)\n",
    "            print(right_G)\n",
    "            if not (subgraph_search(right_G, F) or subgraph_search(right_G, H)):\n",
    "                stack.put(item_right_child)\n",
    "\n",
    "            left_graph_id = int(\"\".join(item_left_child), base=2)\n",
    "            left_G = Graph.from_id(left_graph_id, n)\n",
    "            if not (subgraph_search(left_G, F) or subgraph_search(left_G, H)):\n",
    "                stack.put(item_left_child)\n",
    "\n",
    "        else:\n",
    "            graph_id = int(\"\".join(item), base=2)\n",
    "            G = Graph.from_id(graph_id, n)\n",
    "            result = result and (subgraph_search(G, F) or subgraph_search(G, H))\n",
    "\n",
    "    return result"
   ]
  },
  {
   "cell_type": "code",
   "execution_count": 8,
   "metadata": {},
   "outputs": [],
   "source": [
    "# Testing Brute Force\n",
    "test_data = []\n",
    "for row in upper_ramsey_data.iter_rows(named=True):\n",
    "    start_time = time.perf_counter()\n",
    "    row['linear_full_result'] = is_upper_ramsey_linear_full(row['n'], row['F'], row['H'])\n",
    "    end_time = time.perf_counter()\n",
    "    row['linear_full_time_ms'] = (end_time - start_time) * 1000\n",
    "    test_data.append(row)\n",
    "\n",
    "upper_ramsey_data = pl.DataFrame(\n",
    "    data=test_data,\n",
    "    schema=frame_schema,\n",
    "    orient=\"row\"\n",
    ")"
   ]
  },
  {
   "cell_type": "code",
   "execution_count": 9,
   "metadata": {},
   "outputs": [],
   "source": [
    "# Testing Optimised A\n",
    "test_data = []\n",
    "for row in upper_ramsey_data.iter_rows(named=True):\n",
    "    start_time = time.perf_counter()\n",
    "    row['tree_reduced_enumeration_result'] = is_upper_ramsey_tree_reduced_enumeration(row['n'], row['F'], row['H'])\n",
    "    end_time = time.perf_counter()\n",
    "    row['tree_reduced_enumeration_time_ms'] = (end_time - start_time) * 1000\n",
    "    test_data.append(row)\n",
    "\n",
    "upper_ramsey_data = pl.DataFrame(\n",
    "    data=test_data,\n",
    "    schema=frame_schema,\n",
    "    orient=\"row\"\n",
    ")"
   ]
  },
  {
   "cell_type": "code",
   "execution_count": 11,
   "metadata": {},
   "outputs": [
    {
     "ename": "AttributeError",
     "evalue": "'int' object has no attribute 'properties'",
     "output_type": "error",
     "traceback": [
      "\u001b[0;31m---------------------------------------------------------------------------\u001b[0m",
      "\u001b[0;31mAttributeError\u001b[0m                            Traceback (most recent call last)",
      "Cell \u001b[0;32mIn[11], line 6\u001b[0m\n\u001b[1;32m      4\u001b[0m     start_time \u001b[38;5;241m=\u001b[39m time\u001b[38;5;241m.\u001b[39mperf_counter()\n\u001b[1;32m      5\u001b[0m     \u001b[38;5;66;03m# row['tree_reduced_enumeration_result'] = is_upper_ramsey_tree_search(row['n'], row['F'], row['H'])\u001b[39;00m\n\u001b[0;32m----> 6\u001b[0m     \u001b[38;5;28mprint\u001b[39m(\u001b[43mis_upper_ramsey_tree_search\u001b[49m\u001b[43m(\u001b[49m\u001b[43mrow\u001b[49m\u001b[43m[\u001b[49m\u001b[38;5;124;43m'\u001b[39;49m\u001b[38;5;124;43mn\u001b[39;49m\u001b[38;5;124;43m'\u001b[39;49m\u001b[43m]\u001b[49m\u001b[43m,\u001b[49m\u001b[43m \u001b[49m\u001b[43mrow\u001b[49m\u001b[43m[\u001b[49m\u001b[38;5;124;43m'\u001b[39;49m\u001b[38;5;124;43mF\u001b[39;49m\u001b[38;5;124;43m'\u001b[39;49m\u001b[43m]\u001b[49m\u001b[43m,\u001b[49m\u001b[43m \u001b[49m\u001b[43mrow\u001b[49m\u001b[43m[\u001b[49m\u001b[38;5;124;43m'\u001b[39;49m\u001b[38;5;124;43mH\u001b[39;49m\u001b[38;5;124;43m'\u001b[39;49m\u001b[43m]\u001b[49m\u001b[43m)\u001b[49m)\n\u001b[1;32m      7\u001b[0m     end_time \u001b[38;5;241m=\u001b[39m time\u001b[38;5;241m.\u001b[39mperf_counter()\n\u001b[1;32m      8\u001b[0m     \u001b[38;5;66;03m# row['tree_reduced_enumeration_time_ms'] = (end_time - start_time) * 1000\u001b[39;00m\n\u001b[1;32m      9\u001b[0m     \u001b[38;5;66;03m# test_data.append(row)\u001b[39;00m\n\u001b[1;32m     10\u001b[0m \n\u001b[0;32m   (...)\u001b[0m\n\u001b[1;32m     14\u001b[0m \u001b[38;5;66;03m#     orient=\"row\"\u001b[39;00m\n\u001b[1;32m     15\u001b[0m \u001b[38;5;66;03m# )\u001b[39;00m\n",
      "Cell \u001b[0;32mIn[7], line 26\u001b[0m, in \u001b[0;36mis_upper_ramsey_tree_search\u001b[0;34m(n, F, H)\u001b[0m\n\u001b[1;32m     24\u001b[0m right_graph_id \u001b[38;5;241m=\u001b[39m \u001b[38;5;28mint\u001b[39m(\u001b[38;5;124m\"\u001b[39m\u001b[38;5;124m\"\u001b[39m\u001b[38;5;241m.\u001b[39mjoin(item_right_child), base\u001b[38;5;241m=\u001b[39m\u001b[38;5;241m2\u001b[39m)\n\u001b[1;32m     25\u001b[0m right_G \u001b[38;5;241m=\u001b[39m Graph\u001b[38;5;241m.\u001b[39mfrom_id(right_graph_id, n)\n\u001b[0;32m---> 26\u001b[0m \u001b[38;5;28;01mif\u001b[39;00m \u001b[38;5;129;01mnot\u001b[39;00m (\u001b[43msubgraph_search\u001b[49m\u001b[43m(\u001b[49m\u001b[43mright_G\u001b[49m\u001b[43m,\u001b[49m\u001b[43m \u001b[49m\u001b[43mF\u001b[49m\u001b[43m)\u001b[49m \u001b[38;5;129;01mor\u001b[39;00m subgraph_search(right_G, H)):\n\u001b[1;32m     27\u001b[0m     stack\u001b[38;5;241m.\u001b[39mput(item_right_child)\n\u001b[1;32m     29\u001b[0m left_graph_id \u001b[38;5;241m=\u001b[39m \u001b[38;5;28mint\u001b[39m(\u001b[38;5;124m\"\u001b[39m\u001b[38;5;124m\"\u001b[39m\u001b[38;5;241m.\u001b[39mjoin(item_left_child), base\u001b[38;5;241m=\u001b[39m\u001b[38;5;241m2\u001b[39m)\n",
      "Cell \u001b[0;32mIn[4], line 14\u001b[0m, in \u001b[0;36msubgraph_search\u001b[0;34m(G, H)\u001b[0m\n\u001b[1;32m     11\u001b[0m \u001b[38;5;28;01mwhile\u001b[39;00m \u001b[38;5;129;01mnot\u001b[39;00m stack\u001b[38;5;241m.\u001b[39mempty():\n\u001b[1;32m     12\u001b[0m     item \u001b[38;5;241m=\u001b[39m stack\u001b[38;5;241m.\u001b[39mget()\n\u001b[0;32m---> 14\u001b[0m     \u001b[38;5;28;01mif\u001b[39;00m \u001b[38;5;28mlen\u001b[39m(item) \u001b[38;5;241m==\u001b[39m \u001b[43mH\u001b[49m\u001b[38;5;241;43m.\u001b[39;49m\u001b[43mproperties\u001b[49m\u001b[38;5;241m.\u001b[39morder:\n\u001b[1;32m     15\u001b[0m         local_result \u001b[38;5;241m=\u001b[39m \u001b[38;5;28;01mTrue\u001b[39;00m\n\u001b[1;32m     16\u001b[0m         \u001b[38;5;28;01mfor\u001b[39;00m vert_a_H, vert_a_G \u001b[38;5;129;01min\u001b[39;00m \u001b[38;5;28menumerate\u001b[39m(item):\n",
      "\u001b[0;31mAttributeError\u001b[0m: 'int' object has no attribute 'properties'"
     ]
    }
   ],
   "source": [
    "# Testing Optimised B\n",
    "test_data = []\n",
    "for row in upper_ramsey_data.iter_rows(named=True):\n",
    "    start_time = time.perf_counter()\n",
    "    # row['tree_reduced_enumeration_result'] = is_upper_ramsey_tree_search(row['n'], row['F'], row['H'])\n",
    "    print(is_upper_ramsey_tree_search(row['n'], row['F'], row['H']))\n",
    "    end_time = time.perf_counter()\n",
    "    # row['tree_reduced_enumeration_time_ms'] = (end_time - start_time) * 1000\n",
    "    # test_data.append(row)\n",
    "\n",
    "# upper_ramsey_data = pl.DataFrame(\n",
    "#     data=test_data,\n",
    "#     schema=frame_schema,\n",
    "#     orient=\"row\"\n",
    "# )"
   ]
  },
  {
   "cell_type": "code",
   "execution_count": 10,
   "metadata": {},
   "outputs": [
    {
     "data": {
      "text/html": [
       "<div><style>\n",
       ".dataframe > thead > tr,\n",
       ".dataframe > tbody > tr {\n",
       "  text-align: right;\n",
       "  white-space: pre-wrap;\n",
       "}\n",
       "</style>\n",
       "<small>shape: (12, 8)</small><table border=\"1\" class=\"dataframe\"><thead><tr><th>n</th><th>F</th><th>H</th><th>expected_result</th><th>linear_full_result</th><th>tree_reduced_enumeration_result</th><th>linear_full_time_ms</th><th>tree_reduced_enumeration_time_ms</th></tr><tr><td>u64</td><td>u64</td><td>u64</td><td>bool</td><td>bool</td><td>bool</td><td>f64</td><td>f64</td></tr></thead><tbody><tr><td>3</td><td>1</td><td>0</td><td>true</td><td>true</td><td>true</td><td>0.970458</td><td>0.328667</td></tr><tr><td>3</td><td>7</td><td>0</td><td>false</td><td>false</td><td>false</td><td>0.468792</td><td>0.185041</td></tr><tr><td>3</td><td>7</td><td>0</td><td>false</td><td>false</td><td>false</td><td>0.252042</td><td>0.176208</td></tr><tr><td>3</td><td>7</td><td>0</td><td>false</td><td>false</td><td>false</td><td>0.192875</td><td>0.173167</td></tr><tr><td>4</td><td>1</td><td>0</td><td>true</td><td>true</td><td>true</td><td>2.536958</td><td>3.03175</td></tr><tr><td>&hellip;</td><td>&hellip;</td><td>&hellip;</td><td>&hellip;</td><td>&hellip;</td><td>&hellip;</td><td>&hellip;</td><td>&hellip;</td></tr><tr><td>4</td><td>7</td><td>0</td><td>false</td><td>false</td><td>false</td><td>1.443083</td><td>1.294125</td></tr><tr><td>5</td><td>1</td><td>0</td><td>true</td><td>true</td><td>true</td><td>51.092833</td><td>18.263167</td></tr><tr><td>5</td><td>7</td><td>0</td><td>false</td><td>false</td><td>false</td><td>54.006875</td><td>17.460708</td></tr><tr><td>5</td><td>7</td><td>0</td><td>false</td><td>false</td><td>false</td><td>32.924541</td><td>15.089875</td></tr><tr><td>5</td><td>7</td><td>0</td><td>false</td><td>false</td><td>false</td><td>28.150208</td><td>14.940042</td></tr></tbody></table></div>"
      ],
      "text/plain": [
       "shape: (12, 8)\n",
       "┌─────┬─────┬─────┬────────────────┬───────────────┬───────────────┬───────────────┬───────────────┐\n",
       "│ n   ┆ F   ┆ H   ┆ expected_resul ┆ linear_full_r ┆ tree_reduced_ ┆ linear_full_t ┆ tree_reduced_ │\n",
       "│ --- ┆ --- ┆ --- ┆ t              ┆ esult         ┆ enumeration_r ┆ ime_ms        ┆ enumeration_t │\n",
       "│ u64 ┆ u64 ┆ u64 ┆ ---            ┆ ---           ┆ esul…         ┆ ---           ┆ ime_…         │\n",
       "│     ┆     ┆     ┆ bool           ┆ bool          ┆ ---           ┆ f64           ┆ ---           │\n",
       "│     ┆     ┆     ┆                ┆               ┆ bool          ┆               ┆ f64           │\n",
       "╞═════╪═════╪═════╪════════════════╪═══════════════╪═══════════════╪═══════════════╪═══════════════╡\n",
       "│ 3   ┆ 1   ┆ 0   ┆ true           ┆ true          ┆ true          ┆ 0.970458      ┆ 0.328667      │\n",
       "│ 3   ┆ 7   ┆ 0   ┆ false          ┆ false         ┆ false         ┆ 0.468792      ┆ 0.185041      │\n",
       "│ 3   ┆ 7   ┆ 0   ┆ false          ┆ false         ┆ false         ┆ 0.252042      ┆ 0.176208      │\n",
       "│ 3   ┆ 7   ┆ 0   ┆ false          ┆ false         ┆ false         ┆ 0.192875      ┆ 0.173167      │\n",
       "│ 4   ┆ 1   ┆ 0   ┆ true           ┆ true          ┆ true          ┆ 2.536958      ┆ 3.03175       │\n",
       "│ …   ┆ …   ┆ …   ┆ …              ┆ …             ┆ …             ┆ …             ┆ …             │\n",
       "│ 4   ┆ 7   ┆ 0   ┆ false          ┆ false         ┆ false         ┆ 1.443083      ┆ 1.294125      │\n",
       "│ 5   ┆ 1   ┆ 0   ┆ true           ┆ true          ┆ true          ┆ 51.092833     ┆ 18.263167     │\n",
       "│ 5   ┆ 7   ┆ 0   ┆ false          ┆ false         ┆ false         ┆ 54.006875     ┆ 17.460708     │\n",
       "│ 5   ┆ 7   ┆ 0   ┆ false          ┆ false         ┆ false         ┆ 32.924541     ┆ 15.089875     │\n",
       "│ 5   ┆ 7   ┆ 0   ┆ false          ┆ false         ┆ false         ┆ 28.150208     ┆ 14.940042     │\n",
       "└─────┴─────┴─────┴────────────────┴───────────────┴───────────────┴───────────────┴───────────────┘"
      ]
     },
     "execution_count": 10,
     "metadata": {},
     "output_type": "execute_result"
    }
   ],
   "source": [
    "# Convert subgraph objects to string\n",
    "new_F = upper_ramsey_data.select([\"F\"]).get_columns()[0].map_elements(lambda G: G.properties.id, return_dtype=pl.UInt64)\n",
    "new_H = upper_ramsey_data.select([\"H\"]).get_columns()[0].map_elements(lambda G: G.properties.id, return_dtype=pl.UInt64)\n",
    "upper_ramsey_data = upper_ramsey_data.with_columns(F = new_F)\n",
    "upper_ramsey_data = upper_ramsey_data.with_columns(H = new_H)\n",
    "\n",
    "upper_ramsey_data.write_csv(\"./data/upper_ramsey.csv\")\n",
    "upper_ramsey_data"
   ]
  }
 ],
 "metadata": {
  "kernelspec": {
   "display_name": "Python 3",
   "language": "python",
   "name": "python3"
  },
  "language_info": {
   "codemirror_mode": {
    "name": "ipython",
    "version": 3
   },
   "file_extension": ".py",
   "mimetype": "text/x-python",
   "name": "python",
   "nbconvert_exporter": "python",
   "pygments_lexer": "ipython3",
   "version": "3.11.7"
  }
 },
 "nbformat": 4,
 "nbformat_minor": 2
}
