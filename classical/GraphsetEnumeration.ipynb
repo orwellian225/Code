{
 "cells": [
  {
   "cell_type": "markdown",
   "metadata": {},
   "source": [
    "# Graphset Construction\n",
    "\n",
    "### Useful references\n",
    "\n",
    "* [Graph Automorphisms](https://en.wikipedia.org/wiki/Graph_automorphism)\n",
    "* [Counting Graph Automorphisms](https://www.cs.umd.edu/~gasarch/papers/numauto.pdf)"
   ]
  },
  {
   "cell_type": "code",
   "execution_count": 61,
   "metadata": {},
   "outputs": [],
   "source": [
    "from graph import Graph\n",
    "\n",
    "import polars as pl\n",
    "import matplotlib.pyplot as plt\n",
    "\n",
    "import timeit\n",
    "from queue import LifoQueue\n",
    "from typing import Callable\n",
    "from copy import deepcopy\n"
   ]
  },
  {
   "cell_type": "code",
   "execution_count": 76,
   "metadata": {},
   "outputs": [],
   "source": [
    "max_n = 9\n",
    "frame_schema = {\n",
    "    \"n\": pl.UInt64,\n",
    "    \"full_graphset_size\": pl.UInt64,\n",
    "    \"linear_reduced_graphset_size\": pl.UInt64,\n",
    "    \"tree_reduced_graphset_size\": pl.UInt64,\n",
    "    \"linear_full_graphset_time_s\": pl.Float64,\n",
    "    \"tree_full_graphset_time_s\": pl.Float64,\n",
    "    \"linear_reduced_graphset_time_s\": pl.Float64,\n",
    "    \"tree_reduced_graphset_time_s\": pl.Float64,\n",
    "}\n",
    "\n",
    "new_rows = []\n",
    "for n in range(3, max_n):\n",
    "    new_rows.append([\n",
    "        n, 2**(n * (n - 1) / 2), 0, 0, float('inf'), float('inf'), float('inf'), float('inf')\n",
    "    ])\n",
    "\n",
    "enumeration_data = pl.DataFrame(\n",
    "    data=new_rows,\n",
    "    schema=frame_schema,\n",
    "    orient=\"row\"\n",
    ")"
   ]
  },
  {
   "cell_type": "markdown",
   "metadata": {},
   "source": [
    "### Graphsets\n",
    "\n",
    "* $n$ - number of vertices\n",
    "* $G(n)$ - The set of all graphs of order $n$\n",
    "* $H(n)$ - The set of reduced graphs of order $n$, where removed graphs are automorphic to another graph in $H(n)$\n",
    "* $LG(n)$ - The set of all graphs of order $n$ constructed by linear enumeration\n",
    "* $TG(n)$ - The set of all graphs of order $n$ constructed by binary tree enumeration\n",
    "* $LH(n)$ - The set of reduced graphs of order $n$ constructed by linear enumeration\n",
    "* $TH(n)$ - The set of reduced graphs of order $n$ constructed by binary tree enumeration"
   ]
  },
  {
   "cell_type": "markdown",
   "metadata": {},
   "source": [
    "### Linear Enumeration of G(n)\n",
    "\n",
    "1. Iterate through all possible graphs via their ID: $0$ -> $2^{n \\times (n - 1) \\div 2}$ \n",
    "2. Convert an ID into a graph ([see Graphs for details](./Graphs.ipynb))\n",
    "3. Perform some work on graph\n"
   ]
  },
  {
   "cell_type": "code",
   "execution_count": 63,
   "metadata": {},
   "outputs": [],
   "source": [
    "def enumerate_linear_G(n: int, work: Callable[[Graph], None]):\n",
    "    for i in range(0, int(2**(n*(n-1)/2))):\n",
    "        g = Graph.from_id(i, n)\n",
    "        work(g)"
   ]
  },
  {
   "cell_type": "code",
   "execution_count": 64,
   "metadata": {},
   "outputs": [],
   "source": [
    "linear_G = []\n",
    "def construction(n: int):\n",
    "    linear_G.append([])\n",
    "    enumerate_linear_G(n, lambda g: linear_G[-1].append(g))\n",
    "\n",
    "loop = 1\n",
    "for n in range(3, max_n):\n",
    "    try:\n",
    "        result = timeit.timeit('construction(n)', globals=globals(), number=loop)\n",
    "    except ValueError as err:\n",
    "        print(err.args[0])\n",
    "        result = float('inf')\n",
    "\n",
    "    enumeration_data[n - 3, \"linear_full_graphset_time_s\"] = result\n"
   ]
  },
  {
   "cell_type": "markdown",
   "metadata": {},
   "source": [
    "### Linear Enumeration of H(n)\n",
    "\n",
    "Reductions:\n",
    "\n",
    "1. Manually insert only one graph with one edge\n",
    "    * Skip any work on the graphs that have one edge in normal enumeration\n",
    "    * This only really works if the work being performed on each graph is significantly more expensive than the if conditional check, because it will still enumerate the graph\n",
    "2. Manually insert only one graph with only missing one edge\n",
    "    * Same caveats and steps as for only one edge"
   ]
  },
  {
   "cell_type": "code",
   "execution_count": 65,
   "metadata": {},
   "outputs": [],
   "source": [
    "def enumerate_linear_H(n: int, work: Callable[[Graph], None]):\n",
    "    \"\"\"\n",
    "        Optimised Linear G(n) construction by manually removing some automorphic graphs from the list\n",
    "            * All graphs with a single edge (there are $nC2$ of them) are removed, and only one is inserted\n",
    "            * All graphs will only missing a single edge (there are $nC2$) are removed, and only one is inserted\n",
    "    \"\"\"\n",
    "    l = int(n*(n-1)/2)\n",
    "\n",
    "    # Doing this seperately to avoid running log2 on i = 0\n",
    "    zero_graph = Graph.from_id(0, n)\n",
    "    work(zero_graph)\n",
    "\n",
    "    # Adding the single edge graph manually, then just avoiding adding any graph with a single edge into the list further down\n",
    "    one_edge_graph = Graph.from_id(1, n)\n",
    "    work(one_edge_graph)\n",
    "\n",
    "    # Adding the missing one edge graph manually\n",
    "    missing_one_edge_graph = Graph.from_id(2**l - 2, n)\n",
    "    work(missing_one_edge_graph)\n",
    "\n",
    "    for i in range(1, int(2**l)):\n",
    "        # If the graph will have a single edge i.e. binary string has a single 1\n",
    "        # Or if the graph will have a single missing edge i.e. binary string has a single 0\n",
    "        if i.bit_count() != 1 and i.bit_count() != l - 1:\n",
    "            g = Graph.from_id(i, n)\n",
    "            work(g)"
   ]
  },
  {
   "cell_type": "code",
   "execution_count": 66,
   "metadata": {},
   "outputs": [],
   "source": [
    "linear_H = []\n",
    "def construction(n: int):\n",
    "    linear_H.append([])\n",
    "    enumerate_linear_H(n, lambda g: linear_H[-1].append(g))\n",
    "\n",
    "loop = 1\n",
    "for n in range(3, max_n):\n",
    "    try:\n",
    "        result = timeit.timeit('construction(n)', globals=globals(), number=loop)\n",
    "    except ValueError as err:\n",
    "        print(err.args[0])\n",
    "        result = float('inf')\n",
    "\n",
    "    enumeration_data[n - 3, \"linear_reduced_graphset_time_s\"] = result\n",
    "    enumeration_data[n - 3, \"linear_reduced_graphset_size\"] = len(linear_H[n - 3])"
   ]
  },
  {
   "cell_type": "markdown",
   "metadata": {},
   "source": [
    "### Binary Tree Enumeration of G(n)"
   ]
  },
  {
   "cell_type": "code",
   "execution_count": 67,
   "metadata": {},
   "outputs": [],
   "source": [
    "def enumerate_tree_G(n: int, work: Callable[[Graph], None]):\n",
    "    stack = LifoQueue()\n",
    "    stack.put([])\n",
    "\n",
    "    while not stack.empty():\n",
    "        item = stack.get()\n",
    "\n",
    "        if len(item) < int(n*(n-1)/2):\n",
    "            item_left_child = deepcopy(item)\n",
    "            item_left_child.append('0')\n",
    "\n",
    "            item_right_child = deepcopy(item)\n",
    "            item_right_child.append('1')\n",
    "\n",
    "            stack.put(item_right_child)\n",
    "            stack.put(item_left_child)\n",
    "\n",
    "        else:\n",
    "            graph_id = int(\"\".join(item), base=2)\n",
    "            g = Graph.from_id(graph_id, n)\n",
    "            work(g)"
   ]
  },
  {
   "cell_type": "code",
   "execution_count": 68,
   "metadata": {},
   "outputs": [],
   "source": [
    "tree_G = []\n",
    "def construction(n: int):\n",
    "    tree_G.append([])\n",
    "    enumerate_tree_G(n, lambda g: tree_G[-1].append(g))\n",
    "\n",
    "loop = 1\n",
    "for n in range(3, max_n):\n",
    "    try:\n",
    "        result = timeit.timeit('construction(n)', globals=globals(), number=loop)\n",
    "    except ValueError as err:\n",
    "        print(err.args[0])\n",
    "        result = float('inf')\n",
    "\n",
    "    enumeration_data[n - 3, \"tree_full_graphset_time_s\"] = result"
   ]
  },
  {
   "cell_type": "markdown",
   "metadata": {},
   "source": [
    "### Binary Tree Enumeration of H(n)\n",
    "\n",
    "Reductions:\n",
    "\n",
    "1. Insert some initial semi-constructed graph strings into the stack\n",
    "    * This will reduce the number of strings needed to be iterated through then if the string was build from scratch\n",
    "    * Provable that it still enumerates all the automorphic graphs (ok but now go do it lmao)\n",
    "    * The chosen strings are the following:\n",
    "        1. $i = 0 \\text{ to } n - 1$\n",
    "        2. String $i$ is the graph where vertex $1$ has $i$ edges\n",
    "\n",
    "A Binary Tree of depth $d$ has $2^d - 1$ vertices. \n",
    "A string of length $n$ is at depth $n$ in the tree, so in the tree-enumeration of $G(n)$, the stack has $2^n - 1$ items.\n",
    "The above reduction instead has $n$ strings in the stack.\n",
    "Each stack item acts as a binary subtree with a depth of $n\\times (n - 1) \\div 2 - (n - 1)$ so, $|H(n)| = n2^{n\\times (n - 1) \\div 2 - n + 1}$\n",
    "\n",
    "$$\n",
    "    \\text{Compression Ratio} = \\frac{|G(n)|}{|H(n)|} \n",
    "    = \\frac{2^{n\\times (n - 1) \\div 2}}{n2^{n\\times (n - 1) \\div 2 - n + 1}} \n",
    "    = \\frac{2^{n\\times (n - 1) \\div 2}}{n2^{n\\times (n - 1) \\div 2}\\cdot2^{1 - n}}\n",
    "    = \\frac{1}{n2^{1 - n}}\n",
    "    = \\frac{2^{n - 1}}{n}\n",
    "$$"
   ]
  },
  {
   "cell_type": "code",
   "execution_count": 77,
   "metadata": {},
   "outputs": [],
   "source": [
    "def enumerate_tree_H(n: int, work: Callable[[Graph], None]):\n",
    "    stack = LifoQueue()\n",
    "\n",
    "    for i in range(n):\n",
    "        new_item = []\n",
    "        for _ in range(i):\n",
    "            new_item.append(\"1\")\n",
    "        for _ in range(n - 1 - i):\n",
    "            new_item.append(\"0\")\n",
    "\n",
    "        stack.put(new_item)\n",
    "\n",
    "    while not stack.empty():\n",
    "        item = stack.get()\n",
    "\n",
    "        if len(item) < int(n*(n-1)/2):\n",
    "            item_left_child = deepcopy(item)\n",
    "            item_left_child.append('0')\n",
    "\n",
    "            item_right_child = deepcopy(item)\n",
    "            item_right_child.append('1')\n",
    "\n",
    "            stack.put(item_right_child)\n",
    "            stack.put(item_left_child)\n",
    "\n",
    "        else:\n",
    "            graph_id = int(\"\".join(item), base=2)\n",
    "            g = Graph.from_id(graph_id, n)\n",
    "            work(g)"
   ]
  },
  {
   "cell_type": "code",
   "execution_count": 78,
   "metadata": {},
   "outputs": [
    {
     "ename": "KeyboardInterrupt",
     "evalue": "",
     "output_type": "error",
     "traceback": [
      "\u001b[1;31m---------------------------------------------------------------------------\u001b[0m",
      "\u001b[1;31mKeyboardInterrupt\u001b[0m                         Traceback (most recent call last)",
      "Cell \u001b[1;32mIn[78], line 9\u001b[0m\n\u001b[0;32m      7\u001b[0m \u001b[38;5;28;01mfor\u001b[39;00m n \u001b[38;5;129;01min\u001b[39;00m \u001b[38;5;28mrange\u001b[39m(\u001b[38;5;241m3\u001b[39m, max_n):\n\u001b[0;32m      8\u001b[0m     \u001b[38;5;28;01mtry\u001b[39;00m:\n\u001b[1;32m----> 9\u001b[0m         result \u001b[38;5;241m=\u001b[39m \u001b[43mtimeit\u001b[49m\u001b[38;5;241;43m.\u001b[39;49m\u001b[43mtimeit\u001b[49m\u001b[43m(\u001b[49m\u001b[38;5;124;43m'\u001b[39;49m\u001b[38;5;124;43mconstruction(n)\u001b[39;49m\u001b[38;5;124;43m'\u001b[39;49m\u001b[43m,\u001b[49m\u001b[43m \u001b[49m\u001b[38;5;28;43mglobals\u001b[39;49m\u001b[38;5;241;43m=\u001b[39;49m\u001b[38;5;28;43mglobals\u001b[39;49m\u001b[43m(\u001b[49m\u001b[43m)\u001b[49m\u001b[43m,\u001b[49m\u001b[43m \u001b[49m\u001b[43mnumber\u001b[49m\u001b[38;5;241;43m=\u001b[39;49m\u001b[43mloop\u001b[49m\u001b[43m)\u001b[49m\n\u001b[0;32m     10\u001b[0m     \u001b[38;5;28;01mexcept\u001b[39;00m \u001b[38;5;167;01mValueError\u001b[39;00m \u001b[38;5;28;01mas\u001b[39;00m err:\n\u001b[0;32m     11\u001b[0m         \u001b[38;5;28mprint\u001b[39m(err\u001b[38;5;241m.\u001b[39margs[\u001b[38;5;241m0\u001b[39m])\n",
      "File \u001b[1;32mc:\\Python311\\Lib\\timeit.py:237\u001b[0m, in \u001b[0;36mtimeit\u001b[1;34m(stmt, setup, timer, number, globals)\u001b[0m\n\u001b[0;32m    234\u001b[0m \u001b[38;5;28;01mdef\u001b[39;00m \u001b[38;5;21mtimeit\u001b[39m(stmt\u001b[38;5;241m=\u001b[39m\u001b[38;5;124m\"\u001b[39m\u001b[38;5;124mpass\u001b[39m\u001b[38;5;124m\"\u001b[39m, setup\u001b[38;5;241m=\u001b[39m\u001b[38;5;124m\"\u001b[39m\u001b[38;5;124mpass\u001b[39m\u001b[38;5;124m\"\u001b[39m, timer\u001b[38;5;241m=\u001b[39mdefault_timer,\n\u001b[0;32m    235\u001b[0m            number\u001b[38;5;241m=\u001b[39mdefault_number, \u001b[38;5;28mglobals\u001b[39m\u001b[38;5;241m=\u001b[39m\u001b[38;5;28;01mNone\u001b[39;00m):\n\u001b[0;32m    236\u001b[0m \u001b[38;5;250m    \u001b[39m\u001b[38;5;124;03m\"\"\"Convenience function to create Timer object and call timeit method.\"\"\"\u001b[39;00m\n\u001b[1;32m--> 237\u001b[0m     \u001b[38;5;28;01mreturn\u001b[39;00m \u001b[43mTimer\u001b[49m\u001b[43m(\u001b[49m\u001b[43mstmt\u001b[49m\u001b[43m,\u001b[49m\u001b[43m \u001b[49m\u001b[43msetup\u001b[49m\u001b[43m,\u001b[49m\u001b[43m \u001b[49m\u001b[43mtimer\u001b[49m\u001b[43m,\u001b[49m\u001b[43m \u001b[49m\u001b[38;5;28;43mglobals\u001b[39;49m\u001b[43m)\u001b[49m\u001b[38;5;241;43m.\u001b[39;49m\u001b[43mtimeit\u001b[49m\u001b[43m(\u001b[49m\u001b[43mnumber\u001b[49m\u001b[43m)\u001b[49m\n",
      "File \u001b[1;32mc:\\Python311\\Lib\\timeit.py:180\u001b[0m, in \u001b[0;36mTimer.timeit\u001b[1;34m(self, number)\u001b[0m\n\u001b[0;32m    178\u001b[0m gc\u001b[38;5;241m.\u001b[39mdisable()\n\u001b[0;32m    179\u001b[0m \u001b[38;5;28;01mtry\u001b[39;00m:\n\u001b[1;32m--> 180\u001b[0m     timing \u001b[38;5;241m=\u001b[39m \u001b[38;5;28;43mself\u001b[39;49m\u001b[38;5;241;43m.\u001b[39;49m\u001b[43minner\u001b[49m\u001b[43m(\u001b[49m\u001b[43mit\u001b[49m\u001b[43m,\u001b[49m\u001b[43m \u001b[49m\u001b[38;5;28;43mself\u001b[39;49m\u001b[38;5;241;43m.\u001b[39;49m\u001b[43mtimer\u001b[49m\u001b[43m)\u001b[49m\n\u001b[0;32m    181\u001b[0m \u001b[38;5;28;01mfinally\u001b[39;00m:\n\u001b[0;32m    182\u001b[0m     \u001b[38;5;28;01mif\u001b[39;00m gcold:\n",
      "File \u001b[1;32m<timeit-src>:6\u001b[0m, in \u001b[0;36minner\u001b[1;34m(_it, _timer)\u001b[0m\n",
      "Cell \u001b[1;32mIn[78], line 4\u001b[0m, in \u001b[0;36mconstruction\u001b[1;34m(n)\u001b[0m\n\u001b[0;32m      2\u001b[0m \u001b[38;5;28;01mdef\u001b[39;00m \u001b[38;5;21mconstruction\u001b[39m(n: \u001b[38;5;28mint\u001b[39m):\n\u001b[0;32m      3\u001b[0m     tree_H\u001b[38;5;241m.\u001b[39mappend([])\n\u001b[1;32m----> 4\u001b[0m     \u001b[43menumerate_tree_H\u001b[49m\u001b[43m(\u001b[49m\u001b[43mn\u001b[49m\u001b[43m,\u001b[49m\u001b[43m \u001b[49m\u001b[38;5;28;43;01mlambda\u001b[39;49;00m\u001b[43m \u001b[49m\u001b[43mg\u001b[49m\u001b[43m:\u001b[49m\u001b[43m \u001b[49m\u001b[43mtree_H\u001b[49m\u001b[43m[\u001b[49m\u001b[38;5;241;43m-\u001b[39;49m\u001b[38;5;241;43m1\u001b[39;49m\u001b[43m]\u001b[49m\u001b[38;5;241;43m.\u001b[39;49m\u001b[43mappend\u001b[49m\u001b[43m(\u001b[49m\u001b[43mg\u001b[49m\u001b[43m)\u001b[49m\u001b[43m)\u001b[49m\n",
      "Cell \u001b[1;32mIn[77], line 28\u001b[0m, in \u001b[0;36menumerate_tree_H\u001b[1;34m(n, work)\u001b[0m\n\u001b[0;32m     26\u001b[0m \u001b[38;5;28;01melse\u001b[39;00m:\n\u001b[0;32m     27\u001b[0m     graph_id \u001b[38;5;241m=\u001b[39m \u001b[38;5;28mint\u001b[39m(\u001b[38;5;124m\"\u001b[39m\u001b[38;5;124m\"\u001b[39m\u001b[38;5;241m.\u001b[39mjoin(item), base\u001b[38;5;241m=\u001b[39m\u001b[38;5;241m2\u001b[39m)\n\u001b[1;32m---> 28\u001b[0m     g \u001b[38;5;241m=\u001b[39m \u001b[43mGraph\u001b[49m\u001b[38;5;241;43m.\u001b[39;49m\u001b[43mfrom_id\u001b[49m\u001b[43m(\u001b[49m\u001b[43mgraph_id\u001b[49m\u001b[43m,\u001b[49m\u001b[43m \u001b[49m\u001b[43mn\u001b[49m\u001b[43m)\u001b[49m\n\u001b[0;32m     29\u001b[0m     work(g)\n",
      "File \u001b[1;32mc:\\Users\\Orwellian\\University\\2024\\Research\\Code\\classical\\graph.py:138\u001b[0m, in \u001b[0;36mGraph.from_id\u001b[1;34m(id, n)\u001b[0m\n\u001b[0;32m    135\u001b[0m     matrix[row][col] \u001b[38;5;241m=\u001b[39m \u001b[38;5;28mint\u001b[39m(b)\n\u001b[0;32m    136\u001b[0m     matrix[col][row] \u001b[38;5;241m=\u001b[39m \u001b[38;5;28mint\u001b[39m(b)\n\u001b[1;32m--> 138\u001b[0m \u001b[38;5;28;01mreturn\u001b[39;00m \u001b[43mGraph\u001b[49m\u001b[43m(\u001b[49m\u001b[43mmatrix\u001b[49m\u001b[43m)\u001b[49m\n",
      "File \u001b[1;32mc:\\Users\\Orwellian\\University\\2024\\Research\\Code\\classical\\graph.py:37\u001b[0m, in \u001b[0;36mGraph.__init__\u001b[1;34m(self, matrix)\u001b[0m\n\u001b[0;32m     34\u001b[0m         \u001b[38;5;28;01massert\u001b[39;00m(matrix[i,j] \u001b[38;5;241m==\u001b[39m matrix[j,i])\n\u001b[0;32m     36\u001b[0m \u001b[38;5;28mself\u001b[39m\u001b[38;5;241m.\u001b[39mmatrix \u001b[38;5;241m=\u001b[39m matrix\n\u001b[1;32m---> 37\u001b[0m \u001b[38;5;28mself\u001b[39m\u001b[38;5;241m.\u001b[39mproperties \u001b[38;5;241m=\u001b[39m Properties(\u001b[38;5;28mint\u001b[39m(\u001b[38;5;28;43mself\u001b[39;49m\u001b[38;5;241;43m.\u001b[39;49m\u001b[43mto_bitstring\u001b[49m\u001b[43m(\u001b[49m\u001b[43m)\u001b[49m, \u001b[38;5;241m2\u001b[39m), \u001b[38;5;28mlen\u001b[39m(\u001b[38;5;28mself\u001b[39m\u001b[38;5;241m.\u001b[39mmatrix), np\u001b[38;5;241m.\u001b[39msum(\u001b[38;5;28mself\u001b[39m\u001b[38;5;241m.\u001b[39mmatrix) \u001b[38;5;241m/\u001b[39m \u001b[38;5;241m2\u001b[39m)\n",
      "File \u001b[1;32mc:\\Users\\Orwellian\\University\\2024\\Research\\Code\\classical\\graph.py:52\u001b[0m, in \u001b[0;36mGraph.to_bitstring\u001b[1;34m(self)\u001b[0m\n\u001b[0;32m     51\u001b[0m \u001b[38;5;28;01mdef\u001b[39;00m \u001b[38;5;21mto_bitstring\u001b[39m(\u001b[38;5;28mself\u001b[39m) \u001b[38;5;241m-\u001b[39m\u001b[38;5;241m>\u001b[39m \u001b[38;5;28mstr\u001b[39m:\n\u001b[1;32m---> 52\u001b[0m     mask \u001b[38;5;241m=\u001b[39m \u001b[43mnp\u001b[49m\u001b[38;5;241;43m.\u001b[39;49m\u001b[43mtriu\u001b[49m\u001b[43m(\u001b[49m\u001b[43mnp\u001b[49m\u001b[38;5;241;43m.\u001b[39;49m\u001b[43mones\u001b[49m\u001b[43m(\u001b[49m\u001b[38;5;28;43mself\u001b[39;49m\u001b[38;5;241;43m.\u001b[39;49m\u001b[43mmatrix\u001b[49m\u001b[38;5;241;43m.\u001b[39;49m\u001b[43mshape\u001b[49m\u001b[43m)\u001b[49m\u001b[43m,\u001b[49m\u001b[43m \u001b[49m\u001b[43mk\u001b[49m\u001b[38;5;241;43m=\u001b[39;49m\u001b[38;5;241;43m1\u001b[39;49m\u001b[43m)\u001b[49m\n\u001b[0;32m     53\u001b[0m     elements \u001b[38;5;241m=\u001b[39m \u001b[38;5;28mself\u001b[39m\u001b[38;5;241m.\u001b[39mmatrix[mask \u001b[38;5;241m==\u001b[39m \u001b[38;5;241m1\u001b[39m]\n\u001b[0;32m     54\u001b[0m     result \u001b[38;5;241m=\u001b[39m \u001b[38;5;124m\"\u001b[39m\u001b[38;5;124m\"\u001b[39m\u001b[38;5;241m.\u001b[39mjoin(\u001b[38;5;28mmap\u001b[39m(\u001b[38;5;28mstr\u001b[39m, elements))[::\u001b[38;5;241m-\u001b[39m\u001b[38;5;241m1\u001b[39m]\n",
      "File \u001b[1;32mC:\\tools\\Manim\\Lib\\site-packages\\numpy\\lib\\twodim_base.py:524\u001b[0m, in \u001b[0;36mtriu\u001b[1;34m(m, k)\u001b[0m\n\u001b[0;32m    487\u001b[0m \u001b[38;5;250m\u001b[39m\u001b[38;5;124;03m\"\"\"\u001b[39;00m\n\u001b[0;32m    488\u001b[0m \u001b[38;5;124;03mUpper triangle of an array.\u001b[39;00m\n\u001b[0;32m    489\u001b[0m \n\u001b[1;32m   (...)\u001b[0m\n\u001b[0;32m    521\u001b[0m \n\u001b[0;32m    522\u001b[0m \u001b[38;5;124;03m\"\"\"\u001b[39;00m\n\u001b[0;32m    523\u001b[0m m \u001b[38;5;241m=\u001b[39m asanyarray(m)\n\u001b[1;32m--> 524\u001b[0m mask \u001b[38;5;241m=\u001b[39m \u001b[43mtri\u001b[49m\u001b[43m(\u001b[49m\u001b[38;5;241;43m*\u001b[39;49m\u001b[43mm\u001b[49m\u001b[38;5;241;43m.\u001b[39;49m\u001b[43mshape\u001b[49m\u001b[43m[\u001b[49m\u001b[38;5;241;43m-\u001b[39;49m\u001b[38;5;241;43m2\u001b[39;49m\u001b[43m:\u001b[49m\u001b[43m]\u001b[49m\u001b[43m,\u001b[49m\u001b[43m \u001b[49m\u001b[43mk\u001b[49m\u001b[38;5;241;43m=\u001b[39;49m\u001b[43mk\u001b[49m\u001b[38;5;241;43m-\u001b[39;49m\u001b[38;5;241;43m1\u001b[39;49m\u001b[43m,\u001b[49m\u001b[43m \u001b[49m\u001b[43mdtype\u001b[49m\u001b[38;5;241;43m=\u001b[39;49m\u001b[38;5;28;43mbool\u001b[39;49m\u001b[43m)\u001b[49m\n\u001b[0;32m    526\u001b[0m \u001b[38;5;28;01mreturn\u001b[39;00m where(mask, zeros(\u001b[38;5;241m1\u001b[39m, m\u001b[38;5;241m.\u001b[39mdtype), m)\n",
      "File \u001b[1;32mC:\\tools\\Manim\\Lib\\site-packages\\numpy\\lib\\twodim_base.py:414\u001b[0m, in \u001b[0;36mtri\u001b[1;34m(N, M, k, dtype, like)\u001b[0m\n\u001b[0;32m    411\u001b[0m \u001b[38;5;28;01mif\u001b[39;00m M \u001b[38;5;129;01mis\u001b[39;00m \u001b[38;5;28;01mNone\u001b[39;00m:\n\u001b[0;32m    412\u001b[0m     M \u001b[38;5;241m=\u001b[39m N\n\u001b[1;32m--> 414\u001b[0m m \u001b[38;5;241m=\u001b[39m greater_equal\u001b[38;5;241m.\u001b[39mouter(arange(N, dtype\u001b[38;5;241m=\u001b[39m_min_int(\u001b[38;5;241m0\u001b[39m, N)),\n\u001b[0;32m    415\u001b[0m                         arange(\u001b[38;5;241m-\u001b[39mk, M\u001b[38;5;241m-\u001b[39mk, dtype\u001b[38;5;241m=\u001b[39m_min_int(\u001b[38;5;241m-\u001b[39mk, M \u001b[38;5;241m-\u001b[39m k)))\n\u001b[0;32m    417\u001b[0m \u001b[38;5;66;03m# Avoid making a copy if the requested type is already bool\u001b[39;00m\n\u001b[0;32m    418\u001b[0m m \u001b[38;5;241m=\u001b[39m m\u001b[38;5;241m.\u001b[39mastype(dtype, copy\u001b[38;5;241m=\u001b[39m\u001b[38;5;28;01mFalse\u001b[39;00m)\n",
      "\u001b[1;31mKeyboardInterrupt\u001b[0m: "
     ]
    }
   ],
   "source": [
    "tree_H = []\n",
    "def construction(n: int):\n",
    "    tree_H.append([])\n",
    "    enumerate_tree_H(n, lambda g: tree_H[-1].append(g))\n",
    "\n",
    "loop = 1\n",
    "for n in range(3, max_n):\n",
    "    try:\n",
    "        result = timeit.timeit('construction(n)', globals=globals(), number=loop)\n",
    "    except ValueError as err:\n",
    "        print(err.args[0])\n",
    "        result = float('inf')\n",
    "\n",
    "    enumeration_data[n - 3, \"tree_reduced_graphset_time_s\"] = result\n",
    "    enumeration_data[n - 3, \"tree_reduced_graphset_size\"] = len(tree_H[n - 3])"
   ]
  },
  {
   "cell_type": "markdown",
   "metadata": {},
   "source": [
    "### Validation\n",
    "\n",
    "Checking some properties that should have occurred for the above enumerations to be correct\n",
    "\n",
    "1. $|LG(n)| = |TG(n)|$\n",
    "2. $|LH(n)| < |G(n)|$\n",
    "2. $|TH(n)| < |G(n)|$"
   ]
  },
  {
   "cell_type": "code",
   "execution_count": 71,
   "metadata": {},
   "outputs": [],
   "source": [
    "for n in range(3, max_n):\n",
    "    i = n - 3\n",
    "\n",
    "    # TG(n) == LG(n)\n",
    "    try:\n",
    "        assert(len(tree_G[i]) == len(linear_G[i]))\n",
    "    except AssertionError:\n",
    "        print(f\"|LG({n})| != |TG({n})| -> {len(linear_G[i])} != {len(tree_G[i])}\")\n",
    "\n",
    "    # LH(n) < G(n)\n",
    "    try:\n",
    "        assert(len(linear_H[i]) < len(linear_G[i]))\n",
    "    except AssertionError:\n",
    "        print(f\"|LH({n})| >= |LG({n})| -> {len(linear_H[i])} >= {len(linear_G[i])}\")\n",
    "\n",
    "    # TH(n) < G(n)\n",
    "    try:\n",
    "        assert(len(tree_H[i]) < len(tree_G[i]))\n",
    "    except AssertionError:\n",
    "        print(f\"|TH({n})| >= |G({n})| -> {len(tree_H[i])} >= {len(tree_G[i])}\")"
   ]
  },
  {
   "cell_type": "code",
   "execution_count": 74,
   "metadata": {},
   "outputs": [
    {
     "data": {
      "text/html": [
       "<div><style>\n",
       ".dataframe > thead > tr,\n",
       ".dataframe > tbody > tr {\n",
       "  text-align: right;\n",
       "  white-space: pre-wrap;\n",
       "}\n",
       "</style>\n",
       "<small>shape: (5, 8)</small><table border=\"1\" class=\"dataframe\"><thead><tr><th>n</th><th>full_graphset_size</th><th>linear_reduced_graphset_size</th><th>tree_reduced_graphset_size</th><th>linear_full_graphset_time_s</th><th>tree_full_graphset_time_s</th><th>linear_reduced_graphset_time_s</th><th>tree_reduced_graphset_time_s</th></tr><tr><td>u64</td><td>u64</td><td>u64</td><td>u64</td><td>f64</td><td>f64</td><td>f64</td><td>f64</td></tr></thead><tbody><tr><td>3</td><td>8</td><td>4</td><td>6</td><td>0.00104</td><td>0.001775</td><td>0.000359</td><td>0.000676</td></tr><tr><td>4</td><td>64</td><td>54</td><td>32</td><td>0.005625</td><td>0.005557</td><td>0.003613</td><td>0.003362</td></tr><tr><td>5</td><td>1024</td><td>1006</td><td>320</td><td>0.192275</td><td>0.200833</td><td>0.095563</td><td>0.043245</td></tr><tr><td>6</td><td>32768</td><td>32740</td><td>6144</td><td>3.551304</td><td>4.212717</td><td>3.435509</td><td>0.737318</td></tr><tr><td>7</td><td>2097152</td><td>2097112</td><td>229376</td><td>213.172084</td><td>296.424128</td><td>218.486659</td><td>32.078035</td></tr></tbody></table></div>"
      ],
      "text/plain": [
       "shape: (5, 8)\n",
       "┌─────┬─────────────┬─────────────┬────────────┬────────────┬────────────┬────────────┬────────────┐\n",
       "│ n   ┆ full_graphs ┆ linear_redu ┆ tree_reduc ┆ linear_ful ┆ tree_full_ ┆ linear_red ┆ tree_reduc │\n",
       "│ --- ┆ et_size     ┆ ced_graphse ┆ ed_graphse ┆ l_graphset ┆ graphset_t ┆ uced_graph ┆ ed_graphse │\n",
       "│ u64 ┆ ---         ┆ t_size      ┆ t_size     ┆ _time_s    ┆ ime_s      ┆ set_time_s ┆ t_time_s   │\n",
       "│     ┆ u64         ┆ ---         ┆ ---        ┆ ---        ┆ ---        ┆ ---        ┆ ---        │\n",
       "│     ┆             ┆ u64         ┆ u64        ┆ f64        ┆ f64        ┆ f64        ┆ f64        │\n",
       "╞═════╪═════════════╪═════════════╪════════════╪════════════╪════════════╪════════════╪════════════╡\n",
       "│ 3   ┆ 8           ┆ 4           ┆ 6          ┆ 0.00104    ┆ 0.001775   ┆ 0.000359   ┆ 0.000676   │\n",
       "│ 4   ┆ 64          ┆ 54          ┆ 32         ┆ 0.005625   ┆ 0.005557   ┆ 0.003613   ┆ 0.003362   │\n",
       "│ 5   ┆ 1024        ┆ 1006        ┆ 320        ┆ 0.192275   ┆ 0.200833   ┆ 0.095563   ┆ 0.043245   │\n",
       "│ 6   ┆ 32768       ┆ 32740       ┆ 6144       ┆ 3.551304   ┆ 4.212717   ┆ 3.435509   ┆ 0.737318   │\n",
       "│ 7   ┆ 2097152     ┆ 2097112     ┆ 229376     ┆ 213.172084 ┆ 296.424128 ┆ 218.486659 ┆ 32.078035  │\n",
       "└─────┴─────────────┴─────────────┴────────────┴────────────┴────────────┴────────────┴────────────┘"
      ]
     },
     "execution_count": 74,
     "metadata": {},
     "output_type": "execute_result"
    }
   ],
   "source": [
    "enumeration_data.write_csv(\"./data/graphset_enumeration.csv\")\n",
    "enumeration_data"
   ]
  }
 ],
 "metadata": {
  "kernelspec": {
   "display_name": "qcgt-code",
   "language": "python",
   "name": "python3"
  },
  "language_info": {
   "codemirror_mode": {
    "name": "ipython",
    "version": 3
   },
   "file_extension": ".py",
   "mimetype": "text/x-python",
   "name": "python",
   "nbconvert_exporter": "python",
   "pygments_lexer": "ipython3",
   "version": "3.11.9"
  }
 },
 "nbformat": 4,
 "nbformat_minor": 2
}
