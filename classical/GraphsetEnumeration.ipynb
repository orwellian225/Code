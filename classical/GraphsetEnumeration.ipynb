{
 "cells": [
  {
   "cell_type": "markdown",
   "metadata": {},
   "source": [
    "# Graphset Construction\n",
    "\n",
    "### Useful references\n",
    "\n",
    "* [Graph Automorphisms](https://en.wikipedia.org/wiki/Graph_automorphism)\n",
    "* [Counting Graph Automorphisms](https://www.cs.umd.edu/~gasarch/papers/numauto.pdf)"
   ]
  },
  {
   "cell_type": "code",
   "execution_count": 2,
   "metadata": {},
   "outputs": [
    {
     "ename": "ImportError",
     "evalue": "attempted relative import with no known parent package",
     "output_type": "error",
     "traceback": [
      "\u001b[1;31m---------------------------------------------------------------------------\u001b[0m",
      "\u001b[1;31mImportError\u001b[0m                               Traceback (most recent call last)",
      "Cell \u001b[1;32mIn[2], line 1\u001b[0m\n\u001b[1;32m----> 1\u001b[0m \u001b[38;5;28;01mfrom\u001b[39;00m \u001b[38;5;21;01m.\u001b[39;00m\u001b[38;5;21;01m.\u001b[39;00m\u001b[38;5;21;01mgraph\u001b[39;00m \u001b[38;5;28;01mimport\u001b[39;00m Graph\n\u001b[0;32m      2\u001b[0m \u001b[38;5;28;01mfrom\u001b[39;00m \u001b[38;5;21;01m.\u001b[39;00m\u001b[38;5;21;01m.\u001b[39;00m\u001b[38;5;21;01mgraphset\u001b[39;00m \u001b[38;5;28;01mimport\u001b[39;00m enumerate_linear_G, enumerate_tree_G, enumerate_linear_H\n\u001b[0;32m      4\u001b[0m \u001b[38;5;28;01mimport\u001b[39;00m \u001b[38;5;21;01mmath\u001b[39;00m \u001b[38;5;28;01mas\u001b[39;00m \u001b[38;5;21;01mm\u001b[39;00m\n",
      "\u001b[1;31mImportError\u001b[0m: attempted relative import with no known parent package"
     ]
    }
   ],
   "source": [
    "from graph import Graph\n",
    "from graphset import enumerate_linear_G, enumerate_tree_G, enumerate_linear_H\n",
    "\n",
    "import math as m\n",
    "import numpy as np\n",
    "import pandas as pd\n",
    "\n",
    "import timeit\n",
    "\n",
    "max_n = 7"
   ]
  },
  {
   "cell_type": "markdown",
   "metadata": {},
   "source": [
    "### Graphsets\n",
    "\n",
    "* $n$ - number of vertices\n",
    "* $G(n)$ - The set of all graphs of order $n$\n",
    "* $H(n)$ - The set of reduced graphs of order $n$, where removed graphs are automorphic to other graphs\n",
    "* $LG(n)$ - The set of all graphs of order $n$ constructed by linear enumeration\n",
    "* $TG(n)$ - The set of all graphs of order $n$ constructed by binary tree enumeration\n",
    "* $LH(n)$ - The set of reduced graphs of order $n$ constructed by linear enumeration\n",
    "* $TH(n)$ - The set of reduced graphs of order $n$ constructed by binary tree enumeration"
   ]
  },
  {
   "cell_type": "code",
   "execution_count": null,
   "metadata": {},
   "outputs": [],
   "source": [
    "df = pd.DataFrame(columns=['n', '|G(n)|'])\n",
    "\n",
    "for n in range(3, max_n):\n",
    "    df = pd.concat([df, pd.DataFrame([\n",
    "        [n, int(2**(n*(n-1)/2))]\n",
    "    ], columns=df.columns)], ignore_index=True)"
   ]
  },
  {
   "cell_type": "markdown",
   "metadata": {},
   "source": [
    "### Linear Enumeration of G(n)\n",
    "\n",
    "Code is in [graph_set.py](graph_set.py): `enumerate_linear_G`\n",
    "\n",
    "1. Iterate through all possible graphs via their ID: $0$ -> $2^{n \\times (n - 1) \\div 2}$ \n",
    "2. Convert an ID into a graph [todo - add link and explanation somewhere]()\n",
    "3. Perform some work on graph\n"
   ]
  },
  {
   "cell_type": "code",
   "execution_count": null,
   "metadata": {},
   "outputs": [],
   "source": [
    "linear_G = []\n",
    "def construction(n: int):\n",
    "    linear_G.append([])\n",
    "    enumerate_linear_G(n, lambda g: linear_G[-1].append(g))\n",
    "\n",
    "loop = 1\n",
    "for n in range(3, max_n):\n",
    "    try:\n",
    "        result = timeit.timeit('construction(n)', globals=globals(), number=loop)\n",
    "    except ValueError as err:\n",
    "        print(err.args[0])\n",
    "        result = float('inf')\n",
    "\n",
    "    df.at[n - 3, '|LG(n)|'] = len(linear_G[n - 3])\n",
    "    df.at[n - 3, 'LG(n) Construction Time (s)'] = result\n"
   ]
  },
  {
   "cell_type": "markdown",
   "metadata": {},
   "source": [
    "### Linear Enumeration of H(n)\n",
    "\n",
    "Code is in [graph_set.py](graph_set.py): `enumerate_linear_H`"
   ]
  },
  {
   "cell_type": "code",
   "execution_count": null,
   "metadata": {},
   "outputs": [],
   "source": [
    "linear_H = []\n",
    "def construction(n: int):\n",
    "    linear_H.append([])\n",
    "    enumerate_linear_H(n, lambda g: linear_H[-1].append(g))\n",
    "\n",
    "loop = 1\n",
    "for n in range(3, max_n):\n",
    "    try:\n",
    "        result = timeit.timeit('construction(n)', globals=globals(), number=loop)\n",
    "    except ValueError as err:\n",
    "        print(err.args[0])\n",
    "        result = float('inf')\n",
    "\n",
    "    df.at[n - 3, '|LH(n)|'] = len(linear_H[n - 3])\n",
    "    df.at[n - 3, 'LH(n) Construction Time (s)'] = result"
   ]
  },
  {
   "cell_type": "markdown",
   "metadata": {},
   "source": [
    "### Binary Tree Enumeration of G(n)\n",
    "\n",
    "Code is in [graph_set.py](graph_set.py): `enumerate_tree_G:`"
   ]
  },
  {
   "cell_type": "code",
   "execution_count": null,
   "metadata": {},
   "outputs": [],
   "source": [
    "tree_G = []\n",
    "def construction(n: int):\n",
    "    tree_G.append([])\n",
    "    enumerate_tree_G(n, lambda g: tree_G[-1].append(g))\n",
    "\n",
    "loop = 1\n",
    "for n in range(3, max_n):\n",
    "    try:\n",
    "        result = timeit.timeit('construction(n)', globals=globals(), number=loop)\n",
    "    except ValueError as err:\n",
    "        print(err.args[0])\n",
    "        result = float('inf')\n",
    "\n",
    "    df.at[n - 3, '|TG(n)|'] = len(tree_G[n - 3])\n",
    "    df.at[n - 3, 'TG(n) Construction Time (s)'] = result"
   ]
  },
  {
   "cell_type": "code",
   "execution_count": null,
   "metadata": {},
   "outputs": [],
   "source": [
    "# Error checking\n",
    "for n in range(3, max_n):\n",
    "    i = n - 3\n",
    "\n",
    "    # TG(n) == LG(n)\n",
    "    try:\n",
    "        assert(len(tree_G[i]) == len(linear_G[i]))\n",
    "    except AssertionError:\n",
    "        print(f\"|LG({n})| != |TG({n})| -> {len(linear_G[i])} != {len(tree_G[i])}\")\n",
    "\n",
    "    # LH(n) < LG(n)\n",
    "    try:\n",
    "        assert(len(linear_H[i]) < len(linear_G[i]))\n",
    "    except AssertionError:\n",
    "        print(f\"|LH({n})| >= |LG({n})| -> {len(linear_H[i])} >= {len(linear_G[i])}\")\n",
    "\n",
    "\n",
    "    "
   ]
  },
  {
   "cell_type": "code",
   "execution_count": null,
   "metadata": {},
   "outputs": [
    {
     "name": "stdout",
     "output_type": "stream",
     "text": [
      "|    |   n |   |G(n)| |   |LG(n)| |   LG(n) Construction Time (s) |   |LH(n)| |   LH(n) Construction Time (s) |   |TG(n)| |   TG(n) Construction Time (s) |\n",
      "|---:|----:|---------:|----------:|------------------------------:|----------:|------------------------------:|----------:|------------------------------:|\n",
      "|  0 |   3 |        8 |         8 |                   0.000142125 |         4 |                   7.9792e-05  |         8 |                   0.000178291 |\n",
      "|  1 |   4 |       64 |        64 |                   0.000698375 |        54 |                   0.000602833 |        64 |                   0.00123687  |\n",
      "|  2 |   5 |     1024 |      1024 |                   0.014657    |      1006 |                   0.0144729   |      1024 |                   0.0227843   |\n",
      "|  3 |   6 |    32768 |     32768 |                   0.606073    |     32740 |                   0.65182     |     32768 |                   0.978859    |\n"
     ]
    }
   ],
   "source": [
    "print(df.to_markdown())\n",
    "df.to_csv('./data/graph_construction.csv')"
   ]
  }
 ],
 "metadata": {
  "kernelspec": {
   "display_name": "qcgt-code",
   "language": "python",
   "name": "python3"
  },
  "language_info": {
   "codemirror_mode": {
    "name": "ipython",
    "version": 3
   },
   "file_extension": ".py",
   "mimetype": "text/x-python",
   "name": "python",
   "nbconvert_exporter": "python",
   "pygments_lexer": "ipython3",
   "version": "3.11.9"
  }
 },
 "nbformat": 4,
 "nbformat_minor": 2
}
