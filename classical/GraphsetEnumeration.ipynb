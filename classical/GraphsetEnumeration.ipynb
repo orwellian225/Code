{
 "cells": [
  {
   "cell_type": "markdown",
   "metadata": {},
   "source": [
    "# Graphset Construction\n",
    "\n",
    "### Useful references\n",
    "\n",
    "* [Graph Automorphisms](https://en.wikipedia.org/wiki/Graph_automorphism)\n",
    "* [Counting Graph Automorphisms](https://www.cs.umd.edu/~gasarch/papers/numauto.pdf)"
   ]
  },
  {
   "cell_type": "code",
   "execution_count": 61,
   "metadata": {},
   "outputs": [],
   "source": [
    "from graph import Graph\n",
    "\n",
    "import polars as pl\n",
    "import matplotlib.pyplot as plt\n",
    "\n",
    "import timeit\n",
    "from queue import LifoQueue\n",
    "from typing import Callable\n",
    "from copy import deepcopy\n"
   ]
  },
  {
   "cell_type": "code",
   "execution_count": 62,
   "metadata": {},
   "outputs": [],
   "source": [
    "frame_schema = {\n",
    "    \"n\": pl.UInt64,\n",
    "    \"full_graphset_size\": pl.UInt64,\n",
    "    \"linear_reduced_graphset_size\": pl.UInt64,\n",
    "    \"tree_reduced_graphset_size\": pl.UInt64,\n",
    "    \"linear_full_graphset_time_s\": pl.Float64,\n",
    "    \"tree_full_graphset_time_s\": pl.Float64,\n",
    "    \"linear_reduced_graphset_time_s\": pl.Float64,\n",
    "    \"tree_reduced_graphset_time_s\": pl.Float64,\n",
    "}\n",
    "max_n = 8\n",
    "\n",
    "new_rows = []\n",
    "for n in range(3, max_n):\n",
    "    new_rows.append([\n",
    "        n, 2**(n * (n - 1) / 2), 0, 0, float('inf'), float('inf'), float('inf'), float('inf')\n",
    "    ])\n",
    "\n",
    "enumeration_data = pl.DataFrame(\n",
    "    data=new_rows,\n",
    "    schema=frame_schema,\n",
    "    orient=\"row\"\n",
    ")"
   ]
  },
  {
   "cell_type": "markdown",
   "metadata": {},
   "source": [
    "### Graphsets\n",
    "\n",
    "* $n$ - number of vertices\n",
    "* $G(n)$ - The set of all graphs of order $n$\n",
    "* $H(n)$ - The set of reduced graphs of order $n$, where removed graphs are automorphic to other graphs\n",
    "* $LG(n)$ - The set of all graphs of order $n$ constructed by linear enumeration\n",
    "* $TG(n)$ - The set of all graphs of order $n$ constructed by binary tree enumeration\n",
    "* $LH(n)$ - The set of reduced graphs of order $n$ constructed by linear enumeration\n",
    "* $TH(n)$ - The set of reduced graphs of order $n$ constructed by binary tree enumeration"
   ]
  },
  {
   "cell_type": "markdown",
   "metadata": {},
   "source": [
    "### Linear Enumeration of G(n)\n",
    "\n",
    "1. Iterate through all possible graphs via their ID: $0$ -> $2^{n \\times (n - 1) \\div 2}$ \n",
    "2. Convert an ID into a graph [todo - add link and explanation somewhere]()\n",
    "3. Perform some work on graph\n"
   ]
  },
  {
   "cell_type": "code",
   "execution_count": 63,
   "metadata": {},
   "outputs": [],
   "source": [
    "def enumerate_linear_G(n: int, work: Callable[[Graph], None]):\n",
    "    for i in range(0, int(2**(n*(n-1)/2))):\n",
    "        g = Graph.from_id(i, n)\n",
    "        work(g)"
   ]
  },
  {
   "cell_type": "code",
   "execution_count": 64,
   "metadata": {},
   "outputs": [],
   "source": [
    "linear_G = []\n",
    "def construction(n: int):\n",
    "    linear_G.append([])\n",
    "    enumerate_linear_G(n, lambda g: linear_G[-1].append(g))\n",
    "\n",
    "loop = 1\n",
    "for n in range(3, max_n):\n",
    "    try:\n",
    "        result = timeit.timeit('construction(n)', globals=globals(), number=loop)\n",
    "    except ValueError as err:\n",
    "        print(err.args[0])\n",
    "        result = float('inf')\n",
    "\n",
    "    enumeration_data[n - 3, \"linear_full_graphset_time_s\"] = result\n"
   ]
  },
  {
   "cell_type": "markdown",
   "metadata": {},
   "source": [
    "### Linear Enumeration of H(n)"
   ]
  },
  {
   "cell_type": "code",
   "execution_count": 65,
   "metadata": {},
   "outputs": [],
   "source": [
    "def enumerate_linear_H(n: int, work: Callable[[Graph], None]):\n",
    "    \"\"\"\n",
    "        Optimised Linear G(n) construction by manually removing some automorphic graphs from the list\n",
    "            * All graphs with a single edge (there are $nC2$ of them) are removed, and only one is inserted\n",
    "            * All graphs will only missing a single edge (there are $nC2$) are removed, and only one is inserted\n",
    "    \"\"\"\n",
    "    l = int(n*(n-1)/2)\n",
    "\n",
    "    # Doing this seperately to avoid running log2 on i = 0\n",
    "    zero_graph = Graph.from_id(0, n)\n",
    "    work(zero_graph)\n",
    "\n",
    "    # Adding the single edge graph manually, then just avoiding adding any graph with a single edge into the list further down\n",
    "    one_edge_graph = Graph.from_id(1, n)\n",
    "    work(one_edge_graph)\n",
    "\n",
    "    # Adding the missing one edge graph manually\n",
    "    missing_one_edge_graph = Graph.from_id(2**l - 2, n)\n",
    "    work(missing_one_edge_graph)\n",
    "\n",
    "    for i in range(1, int(2**l)):\n",
    "        # If the graph will have a single edge i.e. binary string has a single 1\n",
    "        # Or if the graph will have a single missing edge i.e. binary string has a single 0\n",
    "        if i.bit_count() != 1 and i.bit_count() != l - 1:\n",
    "            g = Graph.from_id(i, n)\n",
    "            work(g)"
   ]
  },
  {
   "cell_type": "code",
   "execution_count": 66,
   "metadata": {},
   "outputs": [],
   "source": [
    "linear_H = []\n",
    "def construction(n: int):\n",
    "    linear_H.append([])\n",
    "    enumerate_linear_H(n, lambda g: linear_H[-1].append(g))\n",
    "\n",
    "loop = 1\n",
    "for n in range(3, max_n):\n",
    "    try:\n",
    "        result = timeit.timeit('construction(n)', globals=globals(), number=loop)\n",
    "    except ValueError as err:\n",
    "        print(err.args[0])\n",
    "        result = float('inf')\n",
    "\n",
    "    enumeration_data[n - 3, \"linear_reduced_graphset_time_s\"] = result\n",
    "    enumeration_data[n - 3, \"linear_reduced_graphset_size\"] = len(linear_H[n - 3])"
   ]
  },
  {
   "cell_type": "markdown",
   "metadata": {},
   "source": [
    "### Binary Tree Enumeration of G(n)"
   ]
  },
  {
   "cell_type": "code",
   "execution_count": 67,
   "metadata": {},
   "outputs": [],
   "source": [
    "def enumerate_tree_G(n: int, work: Callable[[Graph], None]):\n",
    "    stack = LifoQueue()\n",
    "    stack.put([])\n",
    "\n",
    "    while not stack.empty():\n",
    "        item = stack.get()\n",
    "\n",
    "        if len(item) < int(n*(n-1)/2):\n",
    "            item_left_child = deepcopy(item)\n",
    "            item_left_child.append('0')\n",
    "\n",
    "            item_right_child = deepcopy(item)\n",
    "            item_right_child.append('1')\n",
    "\n",
    "            stack.put(item_right_child)\n",
    "            stack.put(item_left_child)\n",
    "\n",
    "        else:\n",
    "            graph_id = int(\"\".join(item), base=2)\n",
    "            g = Graph.from_id(graph_id, n)\n",
    "            work(g)"
   ]
  },
  {
   "cell_type": "code",
   "execution_count": 68,
   "metadata": {},
   "outputs": [],
   "source": [
    "tree_G = []\n",
    "def construction(n: int):\n",
    "    tree_G.append([])\n",
    "    enumerate_tree_G(n, lambda g: tree_G[-1].append(g))\n",
    "\n",
    "loop = 1\n",
    "for n in range(3, max_n):\n",
    "    try:\n",
    "        result = timeit.timeit('construction(n)', globals=globals(), number=loop)\n",
    "    except ValueError as err:\n",
    "        print(err.args[0])\n",
    "        result = float('inf')\n",
    "\n",
    "    enumeration_data[n - 3, \"tree_full_graphset_time_s\"] = result"
   ]
  },
  {
   "cell_type": "markdown",
   "metadata": {},
   "source": [
    "### Binary Tree Enumeration of H(n)"
   ]
  },
  {
   "cell_type": "code",
   "execution_count": 69,
   "metadata": {},
   "outputs": [],
   "source": [
    "def enumerate_tree_H(n: int, work: Callable[[Graph], None]):\n",
    "    stack = LifoQueue()\n",
    "\n",
    "    for i in range(n):\n",
    "        new_item = []\n",
    "        for _ in range(i):\n",
    "            new_item.append(\"1\")\n",
    "        for _ in range(n - 1 - i):\n",
    "            new_item.append(\"0\")\n",
    "\n",
    "        stack.put(new_item)\n",
    "\n",
    "    while not stack.empty():\n",
    "        item = stack.get()\n",
    "\n",
    "        if len(item) < int(n*(n-1)/2):\n",
    "            item_left_child = deepcopy(item)\n",
    "            item_left_child.append('0')\n",
    "\n",
    "            item_right_child = deepcopy(item)\n",
    "            item_right_child.append('1')\n",
    "\n",
    "            stack.put(item_right_child)\n",
    "            stack.put(item_left_child)\n",
    "\n",
    "        else:\n",
    "            graph_id = int(\"\".join(item), base=2)\n",
    "            g = Graph.from_id(graph_id, n)\n",
    "            work(g)"
   ]
  },
  {
   "cell_type": "code",
   "execution_count": 70,
   "metadata": {},
   "outputs": [],
   "source": [
    "tree_H = []\n",
    "def construction(n: int):\n",
    "    tree_H.append([])\n",
    "    enumerate_tree_H(n, lambda g: tree_H[-1].append(g))\n",
    "\n",
    "loop = 1\n",
    "for n in range(3, max_n):\n",
    "    try:\n",
    "        result = timeit.timeit('construction(n)', globals=globals(), number=loop)\n",
    "    except ValueError as err:\n",
    "        print(err.args[0])\n",
    "        result = float('inf')\n",
    "\n",
    "    enumeration_data[n - 3, \"tree_reduced_graphset_time_s\"] = result\n",
    "    enumeration_data[n - 3, \"tree_reduced_graphset_size\"] = len(tree_H[n - 3])"
   ]
  },
  {
   "cell_type": "markdown",
   "metadata": {},
   "source": [
    "### Validation\n",
    "\n",
    "Checking some properties that should have occurred for the above enumerations to be correct\n",
    "\n",
    "1. $|LG(n)| = |TG(n)|$\n",
    "2. $|LH(n)| < |G(n)|$\n",
    "2. $|TH(n)| < |G(n)|$"
   ]
  },
  {
   "cell_type": "code",
   "execution_count": 71,
   "metadata": {},
   "outputs": [],
   "source": [
    "for n in range(3, max_n):\n",
    "    i = n - 3\n",
    "\n",
    "    # TG(n) == LG(n)\n",
    "    try:\n",
    "        assert(len(tree_G[i]) == len(linear_G[i]))\n",
    "    except AssertionError:\n",
    "        print(f\"|LG({n})| != |TG({n})| -> {len(linear_G[i])} != {len(tree_G[i])}\")\n",
    "\n",
    "    # LH(n) < G(n)\n",
    "    try:\n",
    "        assert(len(linear_H[i]) < len(linear_G[i]))\n",
    "    except AssertionError:\n",
    "        print(f\"|LH({n})| >= |LG({n})| -> {len(linear_H[i])} >= {len(linear_G[i])}\")\n",
    "\n",
    "    # TH(n) < G(n)\n",
    "    try:\n",
    "        assert(len(tree_H[i]) < len(tree_G[i]))\n",
    "    except AssertionError:\n",
    "        print(f\"|TH({n})| >= |G({n})| -> {len(tree_H[i])} >= {len(tree_G[i])}\")"
   ]
  },
  {
   "cell_type": "code",
   "execution_count": 74,
   "metadata": {},
   "outputs": [
    {
     "data": {
      "text/html": [
       "<div><style>\n",
       ".dataframe > thead > tr,\n",
       ".dataframe > tbody > tr {\n",
       "  text-align: right;\n",
       "  white-space: pre-wrap;\n",
       "}\n",
       "</style>\n",
       "<small>shape: (5, 8)</small><table border=\"1\" class=\"dataframe\"><thead><tr><th>n</th><th>full_graphset_size</th><th>linear_reduced_graphset_size</th><th>tree_reduced_graphset_size</th><th>linear_full_graphset_time_s</th><th>tree_full_graphset_time_s</th><th>linear_reduced_graphset_time_s</th><th>tree_reduced_graphset_time_s</th></tr><tr><td>u64</td><td>u64</td><td>u64</td><td>u64</td><td>f64</td><td>f64</td><td>f64</td><td>f64</td></tr></thead><tbody><tr><td>3</td><td>8</td><td>4</td><td>6</td><td>0.00104</td><td>0.001775</td><td>0.000359</td><td>0.000676</td></tr><tr><td>4</td><td>64</td><td>54</td><td>32</td><td>0.005625</td><td>0.005557</td><td>0.003613</td><td>0.003362</td></tr><tr><td>5</td><td>1024</td><td>1006</td><td>320</td><td>0.192275</td><td>0.200833</td><td>0.095563</td><td>0.043245</td></tr><tr><td>6</td><td>32768</td><td>32740</td><td>6144</td><td>3.551304</td><td>4.212717</td><td>3.435509</td><td>0.737318</td></tr><tr><td>7</td><td>2097152</td><td>2097112</td><td>229376</td><td>213.172084</td><td>296.424128</td><td>218.486659</td><td>32.078035</td></tr></tbody></table></div>"
      ],
      "text/plain": [
       "shape: (5, 8)\n",
       "┌─────┬─────────────┬─────────────┬────────────┬────────────┬────────────┬────────────┬────────────┐\n",
       "│ n   ┆ full_graphs ┆ linear_redu ┆ tree_reduc ┆ linear_ful ┆ tree_full_ ┆ linear_red ┆ tree_reduc │\n",
       "│ --- ┆ et_size     ┆ ced_graphse ┆ ed_graphse ┆ l_graphset ┆ graphset_t ┆ uced_graph ┆ ed_graphse │\n",
       "│ u64 ┆ ---         ┆ t_size      ┆ t_size     ┆ _time_s    ┆ ime_s      ┆ set_time_s ┆ t_time_s   │\n",
       "│     ┆ u64         ┆ ---         ┆ ---        ┆ ---        ┆ ---        ┆ ---        ┆ ---        │\n",
       "│     ┆             ┆ u64         ┆ u64        ┆ f64        ┆ f64        ┆ f64        ┆ f64        │\n",
       "╞═════╪═════════════╪═════════════╪════════════╪════════════╪════════════╪════════════╪════════════╡\n",
       "│ 3   ┆ 8           ┆ 4           ┆ 6          ┆ 0.00104    ┆ 0.001775   ┆ 0.000359   ┆ 0.000676   │\n",
       "│ 4   ┆ 64          ┆ 54          ┆ 32         ┆ 0.005625   ┆ 0.005557   ┆ 0.003613   ┆ 0.003362   │\n",
       "│ 5   ┆ 1024        ┆ 1006        ┆ 320        ┆ 0.192275   ┆ 0.200833   ┆ 0.095563   ┆ 0.043245   │\n",
       "│ 6   ┆ 32768       ┆ 32740       ┆ 6144       ┆ 3.551304   ┆ 4.212717   ┆ 3.435509   ┆ 0.737318   │\n",
       "│ 7   ┆ 2097152     ┆ 2097112     ┆ 229376     ┆ 213.172084 ┆ 296.424128 ┆ 218.486659 ┆ 32.078035  │\n",
       "└─────┴─────────────┴─────────────┴────────────┴────────────┴────────────┴────────────┴────────────┘"
      ]
     },
     "execution_count": 74,
     "metadata": {},
     "output_type": "execute_result"
    }
   ],
   "source": [
    "enumeration_data.write_csv(\"./data/graphset_enumeration.csv\")\n",
    "enumeration_data"
   ]
  }
 ],
 "metadata": {
  "kernelspec": {
   "display_name": "qcgt-code",
   "language": "python",
   "name": "python3"
  },
  "language_info": {
   "codemirror_mode": {
    "name": "ipython",
    "version": 3
   },
   "file_extension": ".py",
   "mimetype": "text/x-python",
   "name": "python",
   "nbconvert_exporter": "python",
   "pygments_lexer": "ipython3",
   "version": "3.11.9"
  }
 },
 "nbformat": 4,
 "nbformat_minor": 2
}
