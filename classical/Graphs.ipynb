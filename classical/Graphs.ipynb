{
 "cells": [
  {
   "cell_type": "code",
   "execution_count": 13,
   "metadata": {},
   "outputs": [],
   "source": [
    "from graph import Graph\n",
    "import graph_set\n",
    "\n",
    "import math as m\n",
    "import numpy as np\n",
    "import pandas as pd\n",
    "\n",
    "import timeit\n",
    "\n",
    "max_n = 8"
   ]
  },
  {
   "cell_type": "code",
   "execution_count": 14,
   "metadata": {},
   "outputs": [],
   "source": [
    "df = pd.DataFrame(columns=['n', '|G(n)|', 'n!', '|H(n)|', 'Linear G(n) Construction Time (s)', 'Tree G(n) Construction Time (s)'])"
   ]
  },
  {
   "cell_type": "code",
   "execution_count": 15,
   "metadata": {},
   "outputs": [
    {
     "name": "stderr",
     "output_type": "stream",
     "text": [
      "/var/folders/0t/g1bylxrs13b_g6q191bnkkj00000gn/T/ipykernel_51692/4229808438.py:2: FutureWarning: The behavior of DataFrame concatenation with empty or all-NA entries is deprecated. In a future version, this will no longer exclude empty or all-NA columns when determining the result dtypes. To retain the old behavior, exclude the relevant entries before the concat operation.\n",
      "  df = pd.concat([df, pd.DataFrame([\n"
     ]
    }
   ],
   "source": [
    "for n in range(max_n):\n",
    "    df = pd.concat([df, pd.DataFrame([\n",
    "        [n, int(2**(n*(n-1)/2)), m.factorial(n), 0, 0., 0.]\n",
    "    ], columns=df.columns)], ignore_index=True)"
   ]
  },
  {
   "cell_type": "code",
   "execution_count": 16,
   "metadata": {},
   "outputs": [],
   "source": [
    "linear_Gn = []\n",
    "def exGn_construction(n: int):\n",
    "    current_linear_Gn = []\n",
    "    graph_set.iterate_linear_Gn(n, lambda g: current_linear_Gn.append(g))\n",
    "    linear_Gn.append((n, current_linear_Gn))\n",
    "\n",
    "loop = 1\n",
    "for n in range(max_n):\n",
    "    try:\n",
    "        result = timeit.timeit('exGn_construction(n)', globals=globals(), number=loop)\n",
    "    except ValueError:\n",
    "        result = float('inf')\n",
    "\n",
    "    df.at[n, 'Linear G(n) Construction Time (s)'] = result\n"
   ]
  },
  {
   "cell_type": "code",
   "execution_count": 17,
   "metadata": {},
   "outputs": [],
   "source": [
    "tree_Gn = []\n",
    "def dfs_Gn(n: int):\n",
    "    current_tree_Gn = []\n",
    "    graph_set.iterate_tree_Gn(n, lambda g: current_tree_Gn.append(g))\n",
    "    tree_Gn.append((n, current_tree_Gn))\n",
    "\n",
    "loop = 1\n",
    "for n in range(max_n):\n",
    "    try:\n",
    "        result = timeit.timeit('dfs_Gn(n)', globals=globals(), number=loop)\n",
    "    except ValueError:\n",
    "        result = float('inf')\n",
    "\n",
    "    df.at[n, 'Tree G(n) Construction Time (s)'] = result"
   ]
  },
  {
   "cell_type": "code",
   "execution_count": 18,
   "metadata": {},
   "outputs": [],
   "source": [
    "for n in range(len(tree_Gn)):\n",
    "    try:\n",
    "        assert(len(tree_Gn[n][1]) == len(linear_Gn[n][1]))\n",
    "    except AssertionError:\n",
    "        print(f\"Linear |G({n})| != Tree |G({n})| -> {len(linear_Gn[n][1])} != {len(tree_Gn[n][1])}\")"
   ]
  },
  {
   "cell_type": "code",
   "execution_count": 19,
   "metadata": {},
   "outputs": [
    {
     "name": "stdout",
     "output_type": "stream",
     "text": [
      "   n   |G(n)|    n! |H(n)|  Linear G(n) Construction Time (s)  \\\n",
      "0  0        1     1      0                                inf   \n",
      "1  1        1     1      0                                inf   \n",
      "2  2        2     2      0                           0.000117   \n",
      "3  3        8     6      0                           0.000083   \n",
      "4  4       64    24      0                           0.000813   \n",
      "5  5     1024   120      0                           0.020032   \n",
      "6  6    32768   720      0                           0.611578   \n",
      "7  7  2097152  5040      0                          48.467476   \n",
      "\n",
      "   Tree G(n) Construction Time (s)  \n",
      "0                              inf  \n",
      "1                              inf  \n",
      "2                         0.000300  \n",
      "3                         0.000256  \n",
      "4                         0.003951  \n",
      "5                         0.022590  \n",
      "6                         0.854743  \n",
      "7                        68.217612  \n"
     ]
    }
   ],
   "source": [
    "print(df)"
   ]
  }
 ],
 "metadata": {
  "kernelspec": {
   "display_name": "qcgt-code",
   "language": "python",
   "name": "python3"
  },
  "language_info": {
   "codemirror_mode": {
    "name": "ipython",
    "version": 3
   },
   "file_extension": ".py",
   "mimetype": "text/x-python",
   "name": "python",
   "nbconvert_exporter": "python",
   "pygments_lexer": "ipython3",
   "version": "3.11.7"
  }
 },
 "nbformat": 4,
 "nbformat_minor": 2
}
