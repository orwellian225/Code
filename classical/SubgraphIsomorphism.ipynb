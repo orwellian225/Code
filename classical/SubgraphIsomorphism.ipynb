{
 "cells": [
  {
   "cell_type": "markdown",
   "metadata": {},
   "source": [
    "# Subgraph Isomorphism\n",
    "\n",
    "### Useful References\n",
    "\n",
    "* [Subgraph Isomorphism Problem](https://en.wikipedia.org/wiki/Subgraph_isomorphism_problem#CITEREFUllmann2010)\n",
    "* [Original Algorithm](https://dl.acm.org/doi/pdf/10.1145/321921.321925)"
   ]
  },
  {
   "cell_type": "code",
   "execution_count": 1,
   "metadata": {},
   "outputs": [],
   "source": [
    "from graph import Graph\n",
    "\n",
    "from queue import LifoQueue\n",
    "from copy import deepcopy\n",
    "\n",
    "import math as m"
   ]
  },
  {
   "cell_type": "markdown",
   "metadata": {},
   "source": [
    "### All possible subgraphs\n",
    "\n",
    "![K3inK6](./media/videos/subgraph_search/720p30/K3inK6.gif \"K3 in K6\")\n",
    "\n",
    "More GIFs:\n",
    "* [K4 in K6](./media/videos/subgraph_search/720p30/K4inK6.gif)\n",
    "* [K4 in K8](./media/videos/subgraph_search/720p30/K4inK8.gif)\n",
    "* [K9 in K10](./media/videos/subgraph_search/720p30/K9inK10.gif)"
   ]
  },
  {
   "cell_type": "markdown",
   "metadata": {},
   "source": [
    "### Choosing Objects"
   ]
  },
  {
   "cell_type": "code",
   "execution_count": 2,
   "metadata": {},
   "outputs": [],
   "source": [
    "def enumerate_arrangements(n: int) -> list:\n",
    "    arrangements = []\n",
    "    stack = LifoQueue()\n",
    "    stack.put([])\n",
    "\n",
    "    while not stack.empty():\n",
    "        item = stack.get()\n",
    "\n",
    "        if len(item) == n:\n",
    "            arrangements.append(item)\n",
    "        else:\n",
    "            for i in range(n):\n",
    "                if not i in item:\n",
    "                    new_item = deepcopy(item)\n",
    "                    new_item.append(i)\n",
    "                    stack.put(new_item)\n",
    "\n",
    "    return arrangements"
   ]
  },
  {
   "cell_type": "code",
   "execution_count": 3,
   "metadata": {},
   "outputs": [],
   "source": [
    "def enumerate_choices(n: int, r: int) -> list:\n",
    "    choices = []\n",
    "    stack = LifoQueue()\n",
    "    stack.put([])\n",
    "\n",
    "    while not stack.empty():\n",
    "        item = stack.get()\n",
    "\n",
    "        if len(item) == r:\n",
    "            choices.append(item)\n",
    "        else:\n",
    "            for i in range((item[-1] + 1) if len(item) > 0 else 0, n):\n",
    "                new_item = deepcopy(item)\n",
    "                new_item.append(i)\n",
    "                stack.put(new_item)\n",
    "\n",
    "    return choices"
   ]
  },
  {
   "cell_type": "code",
   "execution_count": 18,
   "metadata": {},
   "outputs": [
    {
     "name": "stdout",
     "output_type": "stream",
     "text": [
      "2 [[1, 0], [0, 1]]\n",
      "1 [[0, 1]]\n"
     ]
    }
   ],
   "source": [
    "n = 2\n",
    "r = 2\n",
    "\n",
    "arrangements = enumerate_arrangements(n)\n",
    "choices = enumerate_choices(n, r)\n",
    "\n",
    "print(len(arrangements), arrangements)\n",
    "print(len(choices), choices)\n",
    "\n",
    "assert(len(arrangements) == m.factorial(n))\n",
    "assert(len(choices) == m.comb(n, r))"
   ]
  },
  {
   "cell_type": "markdown",
   "metadata": {},
   "source": [
    "### Searching for a subgraph"
   ]
  },
  {
   "cell_type": "code",
   "execution_count": 78,
   "metadata": {},
   "outputs": [],
   "source": [
    "def subgraph_search(G: Graph, H: Graph):\n",
    "    stack = LifoQueue()\n",
    "    stack.put([])\n",
    "\n",
    "    while not stack.empty():\n",
    "        item = stack.get()\n",
    "\n",
    "        if len(item) == H.properties.order:\n",
    "            local_result = True\n",
    "            for vert_a_H, vert_a_G in enumerate(item):\n",
    "                for vert_b_H, vert_b_G in enumerate(item[vert_a_H + 1:]):\n",
    "                    vert_b_H += vert_a_H + 1\n",
    "                    if vert_a_G == vert_b_G or H[vert_a_H][vert_b_H] == -1:\n",
    "                        continue\n",
    "\n",
    "                    local_result = local_result and (G[vert_a_G][vert_b_G] == H[vert_a_H][vert_b_H])\n",
    "\n",
    "            if local_result:\n",
    "                return True\n",
    "        else:\n",
    "            for i in range((item[-1] + 1) if len(item) > 0 else 0, G.properties.order):\n",
    "                new_item = deepcopy(item)\n",
    "                new_item.append(i)\n",
    "                stack.put(new_item)\n",
    "\n",
    "    return False"
   ]
  },
  {
   "cell_type": "markdown",
   "metadata": {},
   "source": [
    "### Subgraph Examples\n",
    "\n",
    "All $P_n \\subseteq C_n \\subseteq K_n$ "
   ]
  },
  {
   "cell_type": "code",
   "execution_count": 85,
   "metadata": {},
   "outputs": [],
   "source": [
    "path_2 = Graph.subgraph_path_n(2)\n",
    "cycle_2 = Graph.subgraph_cycle_n(2)\n",
    "complete_2 = Graph.complete_n(2)\n",
    "assert(subgraph_search(cycle_2, complete_2)) # Check that K_2 in C_2\n",
    "assert(subgraph_search(path_2, cycle_2)) # Check that C_2 in P_2\n",
    "\n",
    "cycle_3 = Graph.subgraph_cycle_n(3)\n",
    "complete_3 = Graph.complete_n(3)\n",
    "assert(subgraph_search(cycle_3, complete_3)) # Check that K_3 in C_3\n",
    "\n",
    "# Start at 4 because C_3 = K_3 and P_2 = C_2 = K_2\n",
    "for n in range(4, 10):\n",
    "    path = Graph.subgraph_path_n(n)\n",
    "    cycle = Graph.subgraph_cycle_n(n)\n",
    "    complete = Graph.complete_n(n)\n",
    "\n",
    "    assert(subgraph_search(cycle, path))\n",
    "    assert(subgraph_search(complete, cycle))\n",
    "    assert(subgraph_search(complete, path))\n",
    "\n",
    "    # That left is not in right\n",
    "    assert(not subgraph_search(path, cycle))\n",
    "    assert(not subgraph_search(path, complete))\n",
    "    assert(not subgraph_search(cycle, complete))"
   ]
  }
 ],
 "metadata": {
  "kernelspec": {
   "display_name": "Python 3",
   "language": "python",
   "name": "python3"
  },
  "language_info": {
   "codemirror_mode": {
    "name": "ipython",
    "version": 3
   },
   "file_extension": ".py",
   "mimetype": "text/x-python",
   "name": "python",
   "nbconvert_exporter": "python",
   "pygments_lexer": "ipython3",
   "version": "3.11.9"
  }
 },
 "nbformat": 4,
 "nbformat_minor": 2
}
