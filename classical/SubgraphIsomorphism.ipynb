{
 "cells": [
  {
   "cell_type": "markdown",
   "metadata": {},
   "source": [
    "# Subgraph Isomorphism\n",
    "\n",
    "### Useful References\n",
    "\n",
    "* [Subgraph Isomorphism Problem](https://en.wikipedia.org/wiki/Subgraph_isomorphism_problem#CITEREFUllmann2010)\n",
    "* [Original Algorithm](https://dl.acm.org/doi/pdf/10.1145/321921.321925)"
   ]
  }
 ],
 "metadata": {
  "language_info": {
   "name": "python"
  }
 },
 "nbformat": 4,
 "nbformat_minor": 2
}
