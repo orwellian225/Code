{
 "cells": [
  {
   "cell_type": "markdown",
   "metadata": {},
   "source": [
    "# Quantum Computing and Graph Theory - Classical Implementation"
   ]
  },
  {
   "cell_type": "code",
   "execution_count": 2,
   "metadata": {},
   "outputs": [],
   "source": [
    "# Setup\n",
    "\n",
    "import numpy as np\n",
    "import matplotlib.pyplot as plt\n",
    "import math as m"
   ]
  },
  {
   "cell_type": "markdown",
   "metadata": {},
   "source": [
    "### Graph Class Testing"
   ]
  },
  {
   "cell_type": "code",
   "execution_count": 3,
   "metadata": {},
   "outputs": [],
   "source": [
    "from graph import Graph"
   ]
  },
  {
   "cell_type": "code",
   "execution_count": 4,
   "metadata": {},
   "outputs": [
    {
     "data": {
      "image/png": "[encoded data removed]",
      "text/plain": [
       "<Figure size 200x200 with 1 Axes>"
      ]
     },
     "metadata": {},
     "output_type": "display_data"
    },
    {
     "name": "stdout",
     "output_type": "stream",
     "text": [
      "Bit string: 101100\n",
      "Adjacency matrix:\n",
      " [[0 1 0 1]\n",
      " [1 0 1 0]\n",
      " [0 1 0 0]\n",
      " [1 0 0 0]]\n",
      "Edge sequence (sum of rows): [2 2 1 1]\n",
      "Connectivity sequence (upper-triangle binary string value): [5. 2. 0. 0.]\n"
     ]
    }
   ],
   "source": [
    "\n",
    "example_graph = Graph(np.array([\n",
    "    [0, 1, 0, 1],\n",
    "    [1, 0, 1, 0],\n",
    "    [0, 1, 0, 0],\n",
    "    [1, 0, 0, 0],\n",
    "]))\n",
    "\n",
    "\n",
    "example_graph.plot_graph(vertex_labels=True)\n",
    "print(\"Bit string:\", example_graph.to_bitstring())\n",
    "print(\"Adjacency matrix:\\n\", example_graph.adj_matrix)\n",
    "print(\"Edge sequence (sum of rows):\", example_graph.get_edge_sequence())\n",
    "print(\"Connectivity sequence (upper-triangle binary string value):\", example_graph.get_connectivity_sequence())"
   ]
  },
  {
   "cell_type": "code",
   "execution_count": 5,
   "metadata": {},
   "outputs": [
    {
     "data": {
      "image/png": "[encoded data removed]",
      "text/plain": [
       "<Figure size 200x200 with 1 Axes>"
      ]
     },
     "metadata": {},
     "output_type": "display_data"
    },
    {
     "data": {
      "image/png": "[encoded data removed]",
      "text/plain": [
       "<Figure size 200x200 with 1 Axes>"
      ]
     },
     "metadata": {},
     "output_type": "display_data"
    }
   ],
   "source": [
    "example_graph = Graph(np.array([\n",
    "    [0, 1, 0, 1],\n",
    "    [1, 0, 1, 0],\n",
    "    [0, 1, 0, 0],\n",
    "    [1, 0, 0, 0],\n",
    "]))\n",
    "\n",
    "example_graph.plot_graph(vertex_labels=True)\n",
    "example_graph.permute(2,3)\n",
    "example_graph.plot_graph(vertex_labels=True)"
   ]
  },
  {
   "cell_type": "markdown",
   "metadata": {},
   "source": [
    "#### Subgraph Search\n",
    "\n",
    "Clique searching is an NP-Complete problem (Sipser).\n",
    "\n",
    "As an extension of that idea, any subgraph search is similar to a clique search and is thus very likely also NP-Complete.\n",
    "\n",
    "This algorithm is an initial attempt to explore this search in a classical manner\n",
    "\n",
    "\n",
    "Inspired by a 2D convolution"
   ]
  },
  {
   "cell_type": "code",
   "execution_count": 7,
   "metadata": {},
   "outputs": [
    {
     "name": "stdout",
     "output_type": "stream",
     "text": [
      "Subgraph Counts\n",
      " N | L | C(N, L) | counted \n",
      " ------------------------- \n",
      " 4 | 3 | 4 | 0 \n",
      " 5 | 3 | 10 | 0 \n",
      " 6 | 3 | 20 | 0 \n"
     ]
    },
    {
     "ename": "AssertionError",
     "evalue": "",
     "output_type": "error",
     "traceback": [
      "\u001b[1;31m---------------------------------------------------------------------------\u001b[0m",
      "\u001b[1;31mAssertionError\u001b[0m                            Traceback (most recent call last)",
      "Cell \u001b[1;32mIn[7], line 49\u001b[0m\n\u001b[0;32m     46\u001b[0m \u001b[38;5;28mprint\u001b[39m(\u001b[38;5;124mf\u001b[39m\u001b[38;5;124m\"\u001b[39m\u001b[38;5;124m \u001b[39m\u001b[38;5;132;01m{\u001b[39;00m\u001b[38;5;241m5\u001b[39m\u001b[38;5;132;01m}\u001b[39;00m\u001b[38;5;124m | \u001b[39m\u001b[38;5;132;01m{\u001b[39;00m\u001b[38;5;241m3\u001b[39m\u001b[38;5;132;01m}\u001b[39;00m\u001b[38;5;124m | \u001b[39m\u001b[38;5;132;01m{\u001b[39;00mm\u001b[38;5;241m.\u001b[39mcomb(\u001b[38;5;241m5\u001b[39m,\u001b[38;5;250m \u001b[39m\u001b[38;5;241m3\u001b[39m)\u001b[38;5;132;01m}\u001b[39;00m\u001b[38;5;124m | \u001b[39m\u001b[38;5;132;01m{\u001b[39;00mcount_subgraphs(K_5,\u001b[38;5;250m \u001b[39mK_3)\u001b[38;5;132;01m}\u001b[39;00m\u001b[38;5;124m \u001b[39m\u001b[38;5;124m\"\u001b[39m)\n\u001b[0;32m     47\u001b[0m \u001b[38;5;28mprint\u001b[39m(\u001b[38;5;124mf\u001b[39m\u001b[38;5;124m\"\u001b[39m\u001b[38;5;124m \u001b[39m\u001b[38;5;132;01m{\u001b[39;00m\u001b[38;5;241m6\u001b[39m\u001b[38;5;132;01m}\u001b[39;00m\u001b[38;5;124m | \u001b[39m\u001b[38;5;132;01m{\u001b[39;00m\u001b[38;5;241m3\u001b[39m\u001b[38;5;132;01m}\u001b[39;00m\u001b[38;5;124m | \u001b[39m\u001b[38;5;132;01m{\u001b[39;00mm\u001b[38;5;241m.\u001b[39mcomb(\u001b[38;5;241m6\u001b[39m,\u001b[38;5;250m \u001b[39m\u001b[38;5;241m3\u001b[39m)\u001b[38;5;132;01m}\u001b[39;00m\u001b[38;5;124m | \u001b[39m\u001b[38;5;132;01m{\u001b[39;00mcount_subgraphs(K_6,\u001b[38;5;250m \u001b[39mK_3)\u001b[38;5;132;01m}\u001b[39;00m\u001b[38;5;124m \u001b[39m\u001b[38;5;124m\"\u001b[39m)\n\u001b[1;32m---> 49\u001b[0m \u001b[38;5;28;01massert\u001b[39;00m(m\u001b[38;5;241m.\u001b[39mcomb(\u001b[38;5;241m4\u001b[39m, \u001b[38;5;241m3\u001b[39m) \u001b[38;5;241m==\u001b[39m count_subgraphs(K_4, K_3))\n\u001b[0;32m     50\u001b[0m \u001b[38;5;28;01massert\u001b[39;00m(m\u001b[38;5;241m.\u001b[39mcomb(\u001b[38;5;241m5\u001b[39m, \u001b[38;5;241m3\u001b[39m) \u001b[38;5;241m==\u001b[39m count_subgraphs(K_5, K_3))\n\u001b[0;32m     51\u001b[0m \u001b[38;5;28;01massert\u001b[39;00m(m\u001b[38;5;241m.\u001b[39mcomb(\u001b[38;5;241m6\u001b[39m, \u001b[38;5;241m3\u001b[39m) \u001b[38;5;241m==\u001b[39m count_subgraphs(K_6, K_3))\n",
      "\u001b[1;31mAssertionError\u001b[0m: "
     ]
    }
   ],
   "source": [
    "# Subgraph searching\n",
    "\n",
    "# Testing for a K-3 in a K-4 as an initial case\n",
    "# Going to do so by counting the number of K-3's\n",
    "# * The expected result for K-4 is C(4, 3) = 4\n",
    "# * The expected result for K-5 is C(5, 3) = 10\n",
    "# * The expected result for K-6 is C(6, 3) = 20\n",
    "\n",
    "K_3 = Graph(np.array([\n",
    "    [ 0, 1, 1 ],\n",
    "    [ 1, 0, 1 ],\n",
    "    [ 1, 1, 0 ],\n",
    "]))\n",
    "\n",
    "K_4 = Graph(np.array([\n",
    "    [ 0, 1, 1, 1 ],\n",
    "    [ 1, 0, 1, 1 ],\n",
    "    [ 1, 1, 0, 1 ],\n",
    "    [ 1, 1, 1, 0 ],\n",
    "]))\n",
    "\n",
    "K_5 = Graph(np.array([\n",
    "    [ 0, 1, 1, 1, 1 ],\n",
    "    [ 1, 0, 1, 1, 1 ],\n",
    "    [ 1, 1, 0, 1, 1 ],\n",
    "    [ 1, 1, 1, 0, 1 ],\n",
    "    [ 1, 1, 1, 1, 0 ],\n",
    "]))\n",
    "\n",
    "K_6 = Graph(np.array([\n",
    "    [ 0, 1, 1, 1, 1, 1 ],\n",
    "    [ 1, 0, 1, 1, 1, 1 ],\n",
    "    [ 1, 1, 0, 1, 1, 1 ],\n",
    "    [ 1, 1, 1, 0, 1, 1 ],\n",
    "    [ 1, 1, 1, 1, 0, 1 ],\n",
    "    [ 1, 1, 1, 1, 1, 0 ],\n",
    "]))\n",
    "\n",
    "def count_subgraphs(graph: Graph, subgraph: Graph):\n",
    "\n",
    "    for i in range(m.comb(graph.num_vertices, subgraph.num_vertices)):\n",
    "        pass\n",
    "\n",
    "    return 0\n",
    "\n",
    "print(\"Subgraph Counts\")\n",
    "print(f\" N | L | C(N, L) | counted \")\n",
    "print(f\" ------------------------- \")\n",
    "print(f\" {4} | {3} | {m.comb(4, 3)} | {count_subgraphs(K_4, K_3)} \")\n",
    "print(f\" {5} | {3} | {m.comb(5, 3)} | {count_subgraphs(K_5, K_3)} \")\n",
    "print(f\" {6} | {3} | {m.comb(6, 3)} | {count_subgraphs(K_6, K_3)} \")\n",
    "\n",
    "assert(m.comb(4, 3) == count_subgraphs(K_4, K_3))\n",
    "assert(m.comb(5, 3) == count_subgraphs(K_5, K_3))\n",
    "assert(m.comb(6, 3) == count_subgraphs(K_6, K_3))"
   ]
  },
  {
   "cell_type": "markdown",
   "metadata": {},
   "source": [
    "#### $\\mathbb{H}$(3)"
   ]
  },
  {
   "cell_type": "code",
   "execution_count": null,
   "metadata": {},
   "outputs": [
    {
     "name": "stdout",
     "output_type": "stream",
     "text": [
      "0 000 [0 0 0] [0. 0. 0.] 0.0\n",
      "1 100 [1 1 0] [2. 0. 0.] 2.0\n",
      "2 110 [2 1 1] [3. 0. 0.] 3.0\n",
      "3 111 [2 2 2] [3. 1. 0.] 4.0\n"
     ]
    }
   ],
   "source": [
    "H3 = [\n",
    "    Graph(np.zeros((3, 3), dtype=np.uint8)),\n",
    "    Graph(np.array([ [0, 1, 0], [1, 0, 0], [0, 0, 0] ], dtype=np.uint8)),\n",
    "    Graph(np.array([ [0, 1, 1], [1, 0, 0], [1, 0, 0] ], dtype=np.uint8)),\n",
    "    Graph(np.ones((3, 3), dtype=np.uint8))\n",
    "]\n",
    "\n",
    "for i, h in enumerate(H3):\n",
    "    # h.plot_graph(vertex_labels=True)\n",
    "    print(i, h.to_bitstring(), h.get_edge_sequence(), h.get_connectivity_sequence(), np.sum(h.get_connectivity_sequence()))"
   ]
  },
  {
   "cell_type": "markdown",
   "metadata": {},
   "source": [
    "#### $\\mathbb{H}$(4)"
   ]
  },
  {
   "cell_type": "code",
   "execution_count": null,
   "metadata": {},
   "outputs": [
    {
     "name": "stdout",
     "output_type": "stream",
     "text": [
      "i Bitstring Edge-Sequence Edge-Count Connectivity-Sequence Connectivity-Sum\n",
      "0 000000 [0 0 0 0] 0.0 [0. 0. 0. 0.] 0.0\n",
      "1 100000 [1 1 0 0] 1.0 [4. 0. 0. 0.] 4.0\n",
      "2 110000 [2 1 0 0] 1.5 [6. 0. 0. 0.] 6.0\n",
      "3 100001 [1 1 1 1] 2.0 [4. 0. 1. 0.] 5.0\n",
      "4 101100 [2 2 1 1] 3.0 [5. 2. 0. 0.] 7.0\n",
      "5 101010 [2 2 0 2] 3.0 [5. 1. 0. 0.] 6.0\n",
      "6 111000 [3 1 1 1] 3.0 [7. 0. 0. 0.] 7.0\n",
      "7 101110 [2 3 1 2] 4.0 [5. 3. 0. 0.] 8.0\n",
      "8 101101 [2 2 2 2] 4.0 [5. 2. 1. 0.] 8.0\n",
      "9 111011 [3 2 2 3] 5.0 [7. 1. 1. 0.] 9.0\n",
      "10 111111 [3 3 3 3] 6.0 [7. 3. 1. 0.] 11.0\n"
     ]
    },
    {
     "data": {
      "image/png": "[encoded data removed]",
      "text/plain": [
       "<Figure size 200x200 with 1 Axes>"
      ]
     },
     "metadata": {},
     "output_type": "display_data"
    },
    {
     "data": {
      "image/png": "[encoded data removed]",
      "text/plain": [
       "<Figure size 200x200 with 1 Axes>"
      ]
     },
     "metadata": {},
     "output_type": "display_data"
    },
    {
     "data": {
      "image/png": "[encoded data removed]",
      "text/plain": [
       "<Figure size 200x200 with 1 Axes>"
      ]
     },
     "metadata": {},
     "output_type": "display_data"
    },
    {
     "data": {
      "image/png": "[encoded data removed]",
      "text/plain": [
       "<Figure size 200x200 with 1 Axes>"
      ]
     },
     "metadata": {},
     "output_type": "display_data"
    },
    {
     "data": {
      "image/png": "[encoded data removed]",
      "text/plain": [
       "<Figure size 200x200 with 1 Axes>"
      ]
     },
     "metadata": {},
     "output_type": "display_data"
    },
    {
     "data": {
      "image/png": "[encoded data removed]",
      "text/plain": [
       "<Figure size 200x200 with 1 Axes>"
      ]
     },
     "metadata": {},
     "output_type": "display_data"
    },
    {
     "data": {
      "image/png": "[encoded data removed]",
      "text/plain": [
       "<Figure size 200x200 with 1 Axes>"
      ]
     },
     "metadata": {},
     "output_type": "display_data"
    },
    {
     "data": {
      "image/png": "[encoded data removed]",
      "text/plain": [
       "<Figure size 200x200 with 1 Axes>"
      ]
     },
     "metadata": {},
     "output_type": "display_data"
    },
    {
     "data": {
      "image/png": "[encoded data removed]",
      "text/plain": [
       "<Figure size 200x200 with 1 Axes>"
      ]
     },
     "metadata": {},
     "output_type": "display_data"
    },
    {
     "data": {
      "image/png": "[encoded data removed]",
      "text/plain": [
       "<Figure size 200x200 with 1 Axes>"
      ]
     },
     "metadata": {},
     "output_type": "display_data"
    },
    {
     "data": {
      "image/png": "[encoded data removed]",
      "text/plain": [
       "<Figure size 200x200 with 1 Axes>"
      ]
     },
     "metadata": {},
     "output_type": "display_data"
    }
   ],
   "source": [
    "H4 = [\n",
    "    Graph(np.zeros((4, 4), dtype=np.uint8)),\n",
    "    Graph(np.array([ [0, 1, 0, 0], [1, 0, 0, 0], [0, 0, 0, 0], [0, 0, 0, 0] ], dtype=np.uint8)),\n",
    "    Graph(np.array([ [0, 1, 1, 0], [1, 1, 0, 0], [0, 0, 0, 0], [0, 0, 0, 0] ], dtype=np.uint8)),\n",
    "    Graph(np.array([ [0, 1, 0, 0], [1, 0, 0, 0], [0, 0, 0, 1], [0, 0, 1, 0] ], dtype=np.uint8)),\n",
    "    Graph(np.array([ [0, 1, 0, 1], [1, 0, 1, 0], [0, 1, 0, 0], [1, 0, 0, 0] ], dtype=np.uint8)),\n",
    "    Graph(np.array([ [0, 1, 0, 1], [1, 0, 0, 1], [0, 0, 0, 0], [1, 1, 0, 0] ], dtype=np.uint8)),\n",
    "    Graph(np.array([ [0, 1, 1, 1], [1, 0, 0, 0], [1, 0, 0, 0], [1, 0, 0, 0] ], dtype=np.uint8)),\n",
    "    Graph(np.array([ [0, 1, 0, 1], [1, 0, 1, 1], [0, 1, 0, 0], [1, 1, 0, 0] ], dtype=np.uint8)),\n",
    "    Graph(np.array([ [0, 1, 0, 1], [1, 0, 1, 0], [0, 1, 0, 1], [1, 0, 1, 0] ], dtype=np.uint8)),\n",
    "    Graph(np.array([ [0, 1, 1, 1], [1, 0, 0, 1], [1, 0, 0, 1], [1, 1, 1, 0] ], dtype=np.uint8)),\n",
    "    Graph(np.ones((4, 4), dtype=np.uint8))\n",
    "]\n",
    "\n",
    "print(\"i\", \"Bitstring\", \"Edge-Sequence\" ,\"Edge-Count\", \"Connectivity-Sequence\", \"Connectivity-Sum\")\n",
    "for i, h in enumerate(H4):\n",
    "    print(i, h.to_bitstring(), h.get_edge_sequence(), h.get_edge_count(), h.get_connectivity_sequence(), np.sum(h.get_connectivity_sequence()))\n",
    "\n",
    "for h in H4:\n",
    "    h.plot_graph(vertex_labels=False)"
   ]
  },
  {
   "cell_type": "markdown",
   "metadata": {},
   "source": [
    "### Generating the set of Non-Homomorphic Graphs of size $n$"
   ]
  },
  {
   "cell_type": "code",
   "execution_count": null,
   "metadata": {},
   "outputs": [
    {
     "name": "stdout",
     "output_type": "stream",
     "text": [
      "0 000 [0 0 0] [0. 0. 0.]\n",
      "1 111 [2 2 2] [3. 1. 0.]\n"
     ]
    }
   ],
   "source": [
    "graph_size = 3\n",
    "\n",
    "H = []\n",
    "H.append(Graph(np.zeros((graph_size, graph_size), dtype=np.uint8))) # The empty graph\n",
    "H.append(Graph(np.ones((graph_size, graph_size), dtype=np.uint8))) # The complete graph\n",
    "\n",
    "for i, h in enumerate(H):\n",
    "    print(i, h.to_bitstring(), h.get_edge_sequence(), h.get_connectivity_sequence())\n"
   ]
  }
 ],
 "metadata": {
  "kernelspec": {
   "display_name": "Python 3",
   "language": "python",
   "name": "python3"
  },
  "language_info": {
   "codemirror_mode": {
    "name": "ipython",
    "version": 3
   },
   "file_extension": ".py",
   "mimetype": "text/x-python",
   "name": "python",
   "nbconvert_exporter": "python",
   "pygments_lexer": "ipython3",
   "version": "3.12.1"
  }
 },
 "nbformat": 4,
 "nbformat_minor": 2
}
