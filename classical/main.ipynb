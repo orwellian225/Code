{
 "cells": [
  {
   "cell_type": "markdown",
   "metadata": {},
   "source": [
    "# Quantum Computing and Graph Theory - Classical Implementation"
   ]
  },
  {
   "cell_type": "code",
   "execution_count": 1,
   "metadata": {},
   "outputs": [],
   "source": [
    "# Setup\n",
    "\n",
    "import numpy as np\n",
    "import matplotlib.pyplot as plt"
   ]
  },
  {
   "cell_type": "markdown",
   "metadata": {},
   "source": [
    "### Graph Class Testing"
   ]
  },
  {
   "cell_type": "code",
   "execution_count": 2,
   "metadata": {},
   "outputs": [],
   "source": [
    "from graph import Graph"
   ]
  },
  {
   "cell_type": "code",
   "execution_count": 3,
   "metadata": {},
   "outputs": [
    {
     "data": {
      "image/png": "[encoded data removed]",
      "text/plain": [
       "<Figure size 200x200 with 1 Axes>"
      ]
     },
     "metadata": {},
     "output_type": "display_data"
    },
    {
     "name": "stdout",
     "output_type": "stream",
     "text": [
      "Bit string: 101100\n",
      "Adjacency matrix:\n",
      " [[0 1 0 1]\n",
      " [1 0 1 0]\n",
      " [0 1 0 0]\n",
      " [1 0 0 0]]\n",
      "Edge sequence (sum of rows): [2 2 1 1]\n",
      "Connectivity sequence (upper-triangle binary string value): [5. 2. 0. 0.]\n"
     ]
    }
   ],
   "source": [
    "\n",
    "example_graph = Graph(np.array([\n",
    "    [0, 1, 0, 1],\n",
    "    [1, 0, 1, 0],\n",
    "    [0, 1, 0, 0],\n",
    "    [1, 0, 0, 0],\n",
    "]))\n",
    "\n",
    "\n",
    "example_graph.plot_graph(vertex_labels=True)\n",
    "print(\"Bit string:\", example_graph.to_bitstring())\n",
    "print(\"Adjacency matrix:\\n\", example_graph.adj_matrix)\n",
    "print(\"Edge sequence (sum of rows):\", example_graph.get_edge_sequence())\n",
    "print(\"Connectivity sequence (upper-triangle binary string value):\", example_graph.get_connectivity_sequence())"
   ]
  },
  {
   "cell_type": "code",
   "execution_count": 4,
   "metadata": {},
   "outputs": [
    {
     "data": {
      "image/png": "[encoded data removed]",
      "text/plain": [
       "<Figure size 200x200 with 1 Axes>"
      ]
     },
     "metadata": {},
     "output_type": "display_data"
    },
    {
     "data": {
      "image/png": "[encoded data removed]",
      "text/plain": [
       "<Figure size 200x200 with 1 Axes>"
      ]
     },
     "metadata": {},
     "output_type": "display_data"
    }
   ],
   "source": [
    "example_graph = Graph(np.array([\n",
    "    [0, 1, 0, 1],\n",
    "    [1, 0, 1, 0],\n",
    "    [0, 1, 0, 0],\n",
    "    [1, 0, 0, 0],\n",
    "]))\n",
    "\n",
    "example_graph.plot_graph(vertex_labels=True)\n",
    "example_graph.permute(2,3)\n",
    "example_graph.plot_graph(vertex_labels=True)"
   ]
  },
  {
   "cell_type": "markdown",
   "metadata": {},
   "source": [
    "#### $\\mathbb{H}$(4)"
   ]
  },
  {
   "cell_type": "code",
   "execution_count": 43,
   "metadata": {},
   "outputs": [
    {
     "name": "stdout",
     "output_type": "stream",
     "text": [
      "0 000000 [0 0 0 0]\n",
      "1 100000 [1 1 0 0]\n",
      "2 110000 [2 1 0 0]\n",
      "3 100001 [1 1 1 1]\n",
      "4 101100 [2 2 1 1]\n",
      "5 101010 [2 2 0 2]\n",
      "6 111000 [3 1 1 1]\n",
      "7 101110 [2 3 1 2]\n",
      "8 101101 [2 2 2 2]\n",
      "9 111011 [3 2 2 3]\n",
      "10 111111 [3 3 3 3]\n"
     ]
    }
   ],
   "source": [
    "H4 = [\n",
    "    Graph(np.zeros((4, 4), dtype=np.uint8)),\n",
    "    Graph(np.array([ [0, 1, 0, 0], [1, 0, 0, 0], [0, 0, 0, 0], [0, 0, 0, 0], ], dtype=np.uint8)),\n",
    "    Graph(np.array([ [0, 1, 1, 0], [1, 1, 0, 0], [0, 0, 0, 0], [0, 0, 0, 0], ], dtype=np.uint8)),\n",
    "    Graph(np.array([ [0, 1, 0, 0], [1, 0, 0, 0], [0, 0, 0, 1], [0, 0, 1, 0], ], dtype=np.uint8)),\n",
    "    Graph(np.array([ [0, 1, 0, 1], [1, 0, 1, 0], [0, 1, 0, 0], [1, 0, 0, 0], ], dtype=np.uint8)),\n",
    "    Graph(np.array([ [0, 1, 0, 1], [1, 0, 0, 1], [0, 0, 0, 0], [1, 1, 0, 0], ], dtype=np.uint8)),\n",
    "    Graph(np.array([ [0, 1, 1, 1], [1, 0, 0, 0], [1, 0, 0, 0], [1, 0, 0, 0], ], dtype=np.uint8)),\n",
    "    Graph(np.array([ [0, 1, 0, 1], [1, 0, 1, 1], [0, 1, 0, 0], [1, 1, 0, 0], ], dtype=np.uint8)),\n",
    "    Graph(np.array([ [0, 1, 0, 1], [1, 0, 1, 0], [0, 1, 0, 1], [1, 0, 1, 0], ], dtype=np.uint8)),\n",
    "    Graph(np.array([ [0, 1, 1, 1], [1, 0, 0, 1], [1, 0, 0, 1], [1, 1, 1, 0], ], dtype=np.uint8)),\n",
    "    Graph(np.ones((4, 4), dtype=np.uint8))\n",
    "]\n",
    "\n",
    "for i, h in enumerate(H4):\n",
    "    # h.plot_graph(vertex_labels=True)\n",
    "    print(i, h.to_bitstring(), h.get_edge_sequence(), h.get_connectivity_sequence())"
   ]
  },
  {
   "cell_type": "markdown",
   "metadata": {},
   "source": [
    "#### $\\mathbb{H}$(3)"
   ]
  },
  {
   "cell_type": "code",
   "execution_count": 44,
   "metadata": {},
   "outputs": [
    {
     "name": "stdout",
     "output_type": "stream",
     "text": [
      "0 000 [0 0 0]\n",
      "1 100 [1 1 0]\n",
      "2 110 [2 1 1]\n",
      "3 111 [2 2 2]\n"
     ]
    }
   ],
   "source": [
    "H3 = [\n",
    "    Graph(np.zeros((3, 3), dtype=np.uint8)),\n",
    "    Graph(np.array([ [0, 1, 0], [1, 0, 0], [0, 0, 0] ], dtype=np.uint8)),\n",
    "    Graph(np.array([ [0, 1, 1], [1, 0, 0], [1, 0, 0] ], dtype=np.uint8)),\n",
    "    Graph(np.ones((3, 3), dtype=np.uint8))\n",
    "]\n",
    "\n",
    "for i, h in enumerate(H3):\n",
    "    # h.plot_graph(vertex_labels=True)\n",
    "    print(i, h.to_bitstring(), h.get_edge_sequence(), h.get_connectivity_sequence())"
   ]
  },
  {
   "cell_type": "markdown",
   "metadata": {},
   "source": [
    "### Generating the set of Non-Homomorphic Graphs of size $n$"
   ]
  },
  {
   "cell_type": "code",
   "execution_count": 6,
   "metadata": {},
   "outputs": [
    {
     "name": "stdout",
     "output_type": "stream",
     "text": [
      "000\n",
      "111\n"
     ]
    }
   ],
   "source": [
    "graph_size = 3\n",
    "\n",
    "H = []\n",
    "H.append(Graph(np.zeros((graph_size, graph_size), dtype=np.uint8))) # The empty graph\n",
    "H.append(Graph(np.ones((graph_size, graph_size), dtype=np.uint8))) # The complete graph\n",
    "\n",
    "for h in H:\n",
    "    print(h.to_bitstring())\n"
   ]
  }
 ],
 "metadata": {
  "kernelspec": {
   "display_name": "Python 3",
   "language": "python",
   "name": "python3"
  },
  "language_info": {
   "codemirror_mode": {
    "name": "ipython",
    "version": 3
   },
   "file_extension": ".py",
   "mimetype": "text/x-python",
   "name": "python",
   "nbconvert_exporter": "python",
   "pygments_lexer": "ipython3",
   "version": "3.12.1"
  }
 },
 "nbformat": 4,
 "nbformat_minor": 2
}
