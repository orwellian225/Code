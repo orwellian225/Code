{
 "cells": [
  {
   "cell_type": "markdown",
   "metadata": {},
   "source": [
    "# Quantum Computing and Graph Theory - Classical Implementation\n",
    "\n",
    "```diff\n",
    "- This is deprecated and should be ignored.\n",
    "- Do not view this file as reflective on the state of the research, instead refer to the other notebooks such as Ramsey.ipynb\n",
    "```"
   ]
  },
  {
   "cell_type": "code",
   "execution_count": 5,
   "metadata": {},
   "outputs": [],
   "source": [
    "# Setup\n",
    "import math as m\n",
    "import numpy as np\n",
    "import scipy.special as scpp\n",
    "import matplotlib.pyplot as plt\n",
    "import time\n",
    "\n",
    "import polars as pl\n",
    "\n",
    "from graph import Graph"
   ]
  },
  {
   "cell_type": "markdown",
   "metadata": {},
   "source": [
    "### Graph Class Testing"
   ]
  },
  {
   "cell_type": "code",
   "execution_count": 6,
   "metadata": {},
   "outputs": [
    {
     "name": "stdout",
     "output_type": "stream",
     "text": [
      "Bit string: 101100\n",
      "Bit integer: 44\n",
      "Adjacency matrix from bitstring:\n",
      " [[0 1 0 1]\n",
      " [1 0 1 0]\n",
      " [0 1 0 0]\n",
      " [1 0 0 0]]\n",
      "Adjacency matrix:\n",
      " [[0 1 0 1]\n",
      " [1 0 1 0]\n",
      " [0 1 0 0]\n",
      " [1 0 0 0]]\n",
      "Edge sequence (sum of rows): [2 2 1 1]\n",
      "Connectivity sequence (upper-triangle binary string value): [5. 2. 0. 0.]\n"
     ]
    },
    {
     "data": {
      "image/png": "[encoded data removed]",
      "text/plain": [
       "<Figure size 200x200 with 1 Axes>"
      ]
     },
     "metadata": {},
     "output_type": "display_data"
    }
   ],
   "source": [
    "example_graph = Graph(np.array([\n",
    "    [0, 1, 0, 1],\n",
    "    [1, 0, 1, 0],\n",
    "    [0, 1, 0, 0],\n",
    "    [1, 0, 0, 0],\n",
    "]))\n",
    "\n",
    "print(\"Bit string:\", example_graph.to_bitstring())\n",
    "print(\"Bit integer:\", example_graph.to_bitint())\n",
    "print(\"Adjacency matrix from bitstring:\\n\", Graph.bitstring_to_adjacency_matrix(example_graph.to_bitstring()))\n",
    "print(\"Adjacency matrix:\\n\", example_graph.adj_matrix)\n",
    "# This is actually a degree sequence - go fix\n",
    "print(\"Edge sequence (sum of rows):\", example_graph.get_edge_sequence())\n",
    "print(\"Connectivity sequence (upper-triangle binary string value):\", example_graph.get_connectivity_sequence())\n",
    "example_graph.plot_graph(vertex_labels=True)"
   ]
  },
  {
   "cell_type": "code",
   "execution_count": 7,
   "metadata": {},
   "outputs": [
    {
     "data": {
      "image/png": "[encoded data removed]",
      "text/plain": [
       "<Figure size 200x200 with 1 Axes>"
      ]
     },
     "metadata": {},
     "output_type": "display_data"
    },
    {
     "data": {
      "image/png": "[encoded data removed]",
      "text/plain": [
       "<Figure size 200x200 with 1 Axes>"
      ]
     },
     "metadata": {},
     "output_type": "display_data"
    }
   ],
   "source": [
    "example_graph = Graph(np.array([\n",
    "    [0, 1, 0, 1],\n",
    "    [1, 0, 1, 0],\n",
    "    [0, 1, 0, 0],\n",
    "    [1, 0, 0, 0],\n",
    "]))\n",
    "\n",
    "# swopped the adjecencies of the graph to demonstrate how edge connectivity is modified\n",
    "# Not how the vertex labels are modified\n",
    "\n",
    "example_graph.plot_graph(vertex_labels=True)\n",
    "example_graph.permute(2,3)\n",
    "example_graph.plot_graph(vertex_labels=True)"
   ]
  },
  {
   "cell_type": "markdown",
   "metadata": {},
   "source": [
    "#### Subgraph Search\n",
    "\n",
    "Clique searching is an NP-Complete problem (Sipser).\n",
    "\n",
    "As an extension of that idea, any subgraph search is similar to a clique search and is thus very likely also NP-Complete.\n",
    "\n",
    "This algorithm is an initial attempt to explore this search in a classical manner\n",
    "\n",
    "\n",
    "Inspired by a 2D convolution"
   ]
  },
  {
   "cell_type": "markdown",
   "metadata": {},
   "source": [
    "##### All possible subgraphs\n",
    "\n",
    "![K3inK6](./media/videos/subgraph_search/720p30/K3inK6.gif \"K3 in K6\")\n",
    "\n",
    "More GIFs:\n",
    "* [K4 in K6](./media/videos/subgraph_search/720p30/K4inK6.gif)\n",
    "* [K4 in K8](./media/videos/subgraph_search/720p30/K4inK8.gif)\n",
    "* [K9 in K10](./media/videos/subgraph_search/720p30/K9inK10.gif)"
   ]
  },
  {
   "cell_type": "markdown",
   "metadata": {},
   "source": [
    "##### Subgraph Search Algorithm\n",
    "\n",
    "1. Construct the set of all subgraphs $H$ of order $k$ from graph $G$ of order $n$\n",
    "    * A subgraph exists as a list of $k$ vertex labels from $G$ such as $\\{ 2, 3, 4 \\}$\n",
    "    * In the above example, we are looking at the subgraph H of 3 vertices $v^G_2$, $v^G_3$ and, $v^G_4$ from $V(G)$\n",
    "    * This list ordering constructs an index mapping $\\alpha$ from $V(H)$ to $V(G)$ ($v^H_0 \\rightarrow v^G_2$)\n",
    "2. For each subgraph:\n",
    "    1. Check that all edges in $H$ have the same value as the corresponding edge in $G$\n",
    "        * Use $\\alpha$: $\\alpha(e^G_{2,4}) = e^H_{0,2} = 1 \\iff e^G_{2,4} = 1$\n",
    "    2. If a subgraph $H$ has all edges matching to $G$ then $H \\subseteq G$\n",
    "    3. Else, $H \\nsubseteq G$"
   ]
  },
  {
   "cell_type": "code",
   "execution_count": 8,
   "metadata": {},
   "outputs": [
    {
     "name": "stdout",
     "output_type": "stream",
     "text": [
      "K3 in K4: True\n"
     ]
    },
    {
     "data": {
      "image/png": "[encoded data removed]",
      "text/plain": [
       "<Figure size 200x200 with 1 Axes>"
      ]
     },
     "metadata": {},
     "output_type": "display_data"
    },
    {
     "name": "stdout",
     "output_type": "stream",
     "text": [
      "K3 in G4a: True\n"
     ]
    },
    {
     "data": {
      "image/png": "[encoded data removed]",
      "text/plain": [
       "<Figure size 200x200 with 1 Axes>"
      ]
     },
     "metadata": {},
     "output_type": "display_data"
    },
    {
     "name": "stdout",
     "output_type": "stream",
     "text": [
      "K3 in G4b: True\n"
     ]
    },
    {
     "data": {
      "image/png": "[encoded data removed]",
      "text/plain": [
       "<Figure size 200x200 with 1 Axes>"
      ]
     },
     "metadata": {},
     "output_type": "display_data"
    },
    {
     "name": "stdout",
     "output_type": "stream",
     "text": [
      "K3 in G4c: False\n"
     ]
    },
    {
     "data": {
      "image/png": "[encoded data removed]",
      "text/plain": [
       "<Figure size 200x200 with 1 Axes>"
      ]
     },
     "metadata": {},
     "output_type": "display_data"
    },
    {
     "name": "stdout",
     "output_type": "stream",
     "text": [
      "K3 in G5a: True\n"
     ]
    },
    {
     "data": {
      "image/png": "[encoded data removed]",
      "text/plain": [
       "<Figure size 200x200 with 1 Axes>"
      ]
     },
     "metadata": {},
     "output_type": "display_data"
    }
   ],
   "source": [
    "K3 = Graph(np.array([\n",
    "    [0, 1, 1],\n",
    "    [1, 0, 1],\n",
    "    [1, 1, 0]\n",
    "]))\n",
    "\n",
    "K4 = Graph(np.array([\n",
    "    [0, 1, 1, 1],\n",
    "    [1, 0, 1, 1],\n",
    "    [1, 1, 0, 1],\n",
    "    [1, 1, 1, 0]\n",
    "]))\n",
    "\n",
    "G4a = Graph(np.array([\n",
    "    [0, 1, 1, 0],\n",
    "    [1, 0, 1, 0],\n",
    "    [1, 1, 0, 0],\n",
    "    [0, 0, 0, 0]\n",
    "]))\n",
    "\n",
    "G4b = Graph(np.array([\n",
    "    [0, 1, 0, 1],\n",
    "    [0, 0, 0, 1],\n",
    "    [0, 0, 0, 0],\n",
    "    [0, 0, 0, 0]\n",
    "]))\n",
    "\n",
    "G4c = Graph(np.array([\n",
    "    [0, 1, 0, 1],\n",
    "    [0, 0, 0, 0],\n",
    "    [0, 0, 0, 1],\n",
    "    [0, 0, 0, 0]\n",
    "]))\n",
    "\n",
    "G5a = Graph(np.array([\n",
    "    [0, 1, 0, 1, 0],\n",
    "    [1, 0, 0, 1, 0],\n",
    "    [0, 0, 0, 0, 0],\n",
    "    [1, 1, 0, 0, 0],\n",
    "    [0, 0, 0, 0, 0]\n",
    "]))\n",
    "\n",
    "print(f\"K3 in K4: {K4.has_subgraph(K3)}\")\n",
    "K4.plot_graph(vertex_labels=False)\n",
    "\n",
    "print(f\"K3 in G4a: {G4a.has_subgraph(K3)}\")\n",
    "G4a.plot_graph(vertex_labels=False)\n",
    "\n",
    "print(f\"K3 in G4b: {G4b.has_subgraph(K3)}\")\n",
    "G4b.plot_graph(vertex_labels=False)\n",
    "\n",
    "print(f\"K3 in G4c: {G4c.has_subgraph(K3)}\")\n",
    "G4c.plot_graph(vertex_labels=False)\n",
    "\n",
    "print(f\"K3 in G5a: {G5a.has_subgraph(K3)}\")\n",
    "G5a.plot_graph(vertex_labels=False)"
   ]
  },
  {
   "cell_type": "markdown",
   "metadata": {},
   "source": [
    "#### $\\mathbb{H}$(3)"
   ]
  },
  {
   "cell_type": "code",
   "execution_count": 9,
   "metadata": {},
   "outputs": [
    {
     "name": "stdout",
     "output_type": "stream",
     "text": [
      "i Bitstring Bitint Edge-Sequence Edge-Count Connectivity-Sequence Connectivity-Sum\n",
      "0 000 0 [0 0 0] [0. 0. 0.] 0.0\n",
      "1 001 1 [0 1 1] [0. 1. 0.] 1.0\n",
      "2 011 3 [1 1 2] [1. 1. 0.] 2.0\n",
      "3 111 7 [2 2 2] [3. 1. 0.] 4.0\n"
     ]
    },
    {
     "data": {
      "image/png": "[encoded data removed]",
      "text/plain": [
       "<Figure size 200x200 with 1 Axes>"
      ]
     },
     "metadata": {},
     "output_type": "display_data"
    },
    {
     "data": {
      "image/png": "[encoded data removed]",
      "text/plain": [
       "<Figure size 200x200 with 1 Axes>"
      ]
     },
     "metadata": {},
     "output_type": "display_data"
    },
    {
     "data": {
      "image/png": "[encoded data removed]",
      "text/plain": [
       "<Figure size 200x200 with 1 Axes>"
      ]
     },
     "metadata": {},
     "output_type": "display_data"
    },
    {
     "data": {
      "image/png": "[encoded data removed]",
      "text/plain": [
       "<Figure size 200x200 with 1 Axes>"
      ]
     },
     "metadata": {},
     "output_type": "display_data"
    }
   ],
   "source": [
    "H3 = [\n",
    "    Graph(Graph.bitstring_to_adjacency_matrix(\"000\")),\n",
    "    Graph(Graph.bitstring_to_adjacency_matrix(\"001\")),\n",
    "    Graph(Graph.bitstring_to_adjacency_matrix(\"011\")),\n",
    "    Graph(Graph.bitstring_to_adjacency_matrix(\"111\")),\n",
    "]\n",
    "\n",
    "print(\"i\", \"Bitstring\", \"Bitint\", \"Edge-Sequence\" ,\"Edge-Count\", \"Connectivity-Sequence\", \"Connectivity-Sum\")\n",
    "for i, h in enumerate(H3):\n",
    "    print(i, h.to_bitstring(), h.to_bitint(), h.get_edge_sequence(), h.get_connectivity_sequence(), np.sum(h.get_connectivity_sequence()))\n",
    "\n",
    "for h in H3:\n",
    "    h.plot_graph()"
   ]
  },
  {
   "cell_type": "markdown",
   "metadata": {},
   "source": [
    "#### $\\mathbb{H}$(4)"
   ]
  },
  {
   "cell_type": "code",
   "execution_count": 10,
   "metadata": {},
   "outputs": [
    {
     "name": "stdout",
     "output_type": "stream",
     "text": [
      "i  Bitstring Bitint Edge-Sequence Edge-Count Connectivity-Sequence Connectivity-Sum\n",
      "0  000000 0 [0 0 0 0] 0.0 [0. 0. 0. 0.] 0.0\n",
      "1  000001 1 [0 0 1 1] 1.0 [0. 0. 1. 0.] 1.0\n",
      "2  000011 3 [0 1 1 2] 2.0 [0. 1. 1. 0.] 2.0\n",
      "3  100001 33 [1 1 1 1] 2.0 [4. 0. 1. 0.] 5.0\n",
      "4  000111 7 [0 2 2 2] 3.0 [0. 3. 1. 0.] 4.0\n",
      "5  001101 13 [1 1 2 2] 3.0 [1. 2. 1. 0.] 4.0\n",
      "6  010101 21 [1 1 3 1] 3.0 [2. 2. 1. 0.] 5.0\n",
      "7  011101 29 [2 1 3 2] 4.0 [3. 2. 1. 0.] 6.0\n",
      "8  101101 45 [2 2 2 2] 4.0 [5. 2. 1. 0.] 8.0\n",
      "9  110111 55 [2 3 3 2] 5.0 [6. 3. 1. 0.] 10.0\n",
      "10 111111 63 [3 3 3 3] 6.0 [7. 3. 1. 0.] 11.0\n"
     ]
    },
    {
     "data": {
      "image/png": "[encoded data removed]",
      "text/plain": [
       "<Figure size 200x200 with 1 Axes>"
      ]
     },
     "metadata": {},
     "output_type": "display_data"
    },
    {
     "data": {
      "image/png": "[encoded data removed]",
      "text/plain": [
       "<Figure size 200x200 with 1 Axes>"
      ]
     },
     "metadata": {},
     "output_type": "display_data"
    },
    {
     "data": {
      "image/png": "[encoded data removed]",
      "text/plain": [
       "<Figure size 200x200 with 1 Axes>"
      ]
     },
     "metadata": {},
     "output_type": "display_data"
    },
    {
     "data": {
      "image/png": "[encoded data removed]",
      "text/plain": [
       "<Figure size 200x200 with 1 Axes>"
      ]
     },
     "metadata": {},
     "output_type": "display_data"
    },
    {
     "data": {
      "image/png": "[encoded data removed]",
      "text/plain": [
       "<Figure size 200x200 with 1 Axes>"
      ]
     },
     "metadata": {},
     "output_type": "display_data"
    },
    {
     "data": {
      "image/png": "[encoded data removed]",
      "text/plain": [
       "<Figure size 200x200 with 1 Axes>"
      ]
     },
     "metadata": {},
     "output_type": "display_data"
    },
    {
     "data": {
      "image/png": "[encoded data removed]",
      "text/plain": [
       "<Figure size 200x200 with 1 Axes>"
      ]
     },
     "metadata": {},
     "output_type": "display_data"
    },
    {
     "data": {
      "image/png": "[encoded data removed]",
      "text/plain": [
       "<Figure size 200x200 with 1 Axes>"
      ]
     },
     "metadata": {},
     "output_type": "display_data"
    },
    {
     "data": {
      "image/png": "[encoded data removed]",
      "text/plain": [
       "<Figure size 200x200 with 1 Axes>"
      ]
     },
     "metadata": {},
     "output_type": "display_data"
    },
    {
     "data": {
      "image/png": "[encoded data removed]",
      "text/plain": [
       "<Figure size 200x200 with 1 Axes>"
      ]
     },
     "metadata": {},
     "output_type": "display_data"
    },
    {
     "data": {
      "image/png": "[encoded data removed]",
      "text/plain": [
       "<Figure size 200x200 with 1 Axes>"
      ]
     },
     "metadata": {},
     "output_type": "display_data"
    }
   ],
   "source": [
    "H4 = [\n",
    "    Graph(Graph.bitstring_to_adjacency_matrix(\"000000\")),\n",
    "    Graph(Graph.bitstring_to_adjacency_matrix(\"000001\")),\n",
    "    Graph(Graph.bitstring_to_adjacency_matrix(\"000011\")),\n",
    "    Graph(Graph.bitstring_to_adjacency_matrix(\"100001\")),\n",
    "    Graph(Graph.bitstring_to_adjacency_matrix(\"000111\")),\n",
    "    Graph(Graph.bitstring_to_adjacency_matrix(\"001101\")),\n",
    "    Graph(Graph.bitstring_to_adjacency_matrix(\"010101\")),\n",
    "    Graph(Graph.bitstring_to_adjacency_matrix(\"011101\")),\n",
    "    Graph(Graph.bitstring_to_adjacency_matrix(\"101101\")),\n",
    "    Graph(Graph.bitstring_to_adjacency_matrix(\"110111\")),\n",
    "    # Graph(Graph.bitstring_to_adjacency_matrix(\"011111\")),\n",
    "    Graph(Graph.bitstring_to_adjacency_matrix(\"111111\")),\n",
    "]\n",
    "\n",
    "print(\"i \", \"Bitstring\", \"Bitint\", \"Edge-Sequence\" ,\"Edge-Count\", \"Connectivity-Sequence\", \"Connectivity-Sum\")\n",
    "for i, h in enumerate(H4):\n",
    "    print(f\"{i: <2}\", h.to_bitstring(), h.to_bitint(), h.get_edge_sequence(), h.get_edge_count(), h.get_connectivity_sequence(), np.sum(h.get_connectivity_sequence()))\n",
    "\n",
    "for h in H4:\n",
    "    h.plot_graph()"
   ]
  },
  {
   "cell_type": "markdown",
   "metadata": {},
   "source": [
    "## Graphs of size $n$\n",
    "\n",
    "* $\\mathbb{G}(n)$ - The set of all graphs of size $n$\n",
    "* $\\mathbb{H}(n)$ - The set of all non-homomorphic graphs of size $n$"
   ]
  },
  {
   "cell_type": "markdown",
   "metadata": {},
   "source": [
    "#### Visualizing the number of graphs\n",
    "\n",
    "* The size of $\\mathbb{G}(n)$ is $2^{n(n-1)/2}$\n",
    "* The upperbound on the size of $\\mathbb{H}(n)$ is $n!$"
   ]
  },
  {
   "cell_type": "code",
   "execution_count": 11,
   "metadata": {},
   "outputs": [
    {
     "data": {
      "image/png": "[encoded data removed]",
      "text/plain": [
       "<Figure size 640x480 with 1 Axes>"
      ]
     },
     "metadata": {},
     "output_type": "display_data"
    }
   ],
   "source": [
    "n = np.arange(20, dtype=np.int32)\n",
    "size_G = 2 ** (n * (n - 1) / 2)\n",
    "size_H = scpp.factorial(n)\n",
    "\n",
    "plt.scatter(n, size_G, label='Size of G(n)')\n",
    "plt.plot(n, size_H, label='Upperbound of H(n)', c='orange')\n",
    "\n",
    "plt.legend(loc='upper left')\n",
    "plt.xlim(left=0, right=20)\n",
    "plt.yscale('log')"
   ]
  },
  {
   "cell_type": "markdown",
   "metadata": {},
   "source": [
    "### Constructing $\\mathbb{G}(n)$ and $\\mathbb{H}(n)$"
   ]
  },
  {
   "cell_type": "code",
   "execution_count": 12,
   "metadata": {},
   "outputs": [
    {
     "name": "stdout",
     "output_type": "stream",
     "text": [
      "n = 3\n",
      "|G(n)| = 8\n",
      "<= |H(n)| = 6\n",
      "Order of Magnitude |G(n)| = 1\n",
      "Order of Magnitude <= |H(n)| = 1\n"
     ]
    }
   ],
   "source": [
    "graph_size = 3\n",
    "bitlength = int(graph_size * (graph_size - 1) / 2) # not reused because has different meaning\n",
    "num_graphs = int( 2**(graph_size * (graph_size - 1) / 2) )\n",
    "num_hgraphs = int(m.factorial(graph_size))\n",
    "\n",
    "print(f\"n = {graph_size}\")\n",
    "print(f\"|G(n)| = {num_graphs:,}\".replace(',',' '))\n",
    "print(f\"<= |H(n)| = {num_hgraphs:,}\".replace(',', ' '))\n",
    "print(f\"Order of Magnitude |G(n)| = {m.ceil(m.log10(num_graphs))}\")\n",
    "print(f\"Order of Magnitude <= |H(n)| = {m.ceil(m.log10(num_hgraphs))}\")"
   ]
  },
  {
   "cell_type": "markdown",
   "metadata": {},
   "source": [
    "#### Generating $\\mathbb{G}(n)$\n",
    "\n",
    "> WARNING: Will only work for $n <= 8$ "
   ]
  },
  {
   "cell_type": "code",
   "execution_count": 13,
   "metadata": {},
   "outputs": [
    {
     "name": "stdout",
     "output_type": "stream",
     "text": [
      "Generated 100.00% of all graphs\n"
     ]
    }
   ],
   "source": [
    "G = []\n",
    "if graph_size > 7:\n",
    "    raise UserWarning(f\"Too large n = {graph_size} for G(n) generation\\n\\tThere are {num_graphs} graphs in G({graph_size})\")\n",
    "\n",
    "for i in range(num_graphs):\n",
    "    if i % 10_000 == 0:\n",
    "        print(f\"\\rGenerated {i / num_graphs * 100:.2f}% of all graphs\", end='')\n",
    "\n",
    "    graph_bitstring = bin(i)[2:].zfill(bitlength)\n",
    "    G.append(Graph(Graph.bitstring_to_adjacency_matrix(graph_bitstring)))\n",
    "print(f\"\\rGenerated 100.00% of all graphs\")\n"
   ]
  },
  {
   "cell_type": "code",
   "execution_count": 14,
   "metadata": {},
   "outputs": [
    {
     "name": "stdout",
     "output_type": "stream",
     "text": [
      "0 0 000\n",
      "1 1 001\n",
      "2 2 010\n",
      "3 3 011\n",
      "4 4 100\n",
      "5 5 101\n",
      "6 6 110\n",
      "7 7 111\n"
     ]
    }
   ],
   "source": [
    "for i, g in enumerate(G):\n",
    "    print(i, g.to_bitint(), g.to_bitstring())\n",
    "    # g.plot_graph()"
   ]
  },
  {
   "cell_type": "markdown",
   "metadata": {},
   "source": [
    "#### Generating $\\mathbb{H}(n)$\n",
    "\n",
    "> WARNING: Will only work for $n <= 11$ "
   ]
  },
  {
   "cell_type": "code",
   "execution_count": 15,
   "metadata": {},
   "outputs": [],
   "source": [
    "if graph_size > 11:\n",
    "    raise UserWarning(f\"Too large n = {graph_size} for H(n) generation\\n\\tThere are {num_hgraphs} graphs in H({graph_size})\")\n",
    "\n",
    "H = []\n"
   ]
  },
  {
   "cell_type": "markdown",
   "metadata": {},
   "source": [
    "# Ramsey Numbers algorithms\n",
    "\n",
    "1. Exhaustive $\\mathbb{G}(n)$ Search\n",
    "    * Test if all graphs of order $n$ have a $k$-clique or $l$-independent set\n",
    "    * $O(2^{n^2})$\n",
    "2. Exhaustive $\\mathbb{H}(n)$ Search\n",
    "    * Test if all non-homomorphic graphs of order $n$ have a $k$-clique or $l$-independent set\n",
    "    * $O(n!)$\n",
    "3. Depth First $\\mathbb{G}(n)$ Search\n",
    "    * Construct the graphs of $\\mathbb{G}(n)$ with a binary tree, while performing a test at each tree vertex to prune the search depth\n",
    "    * If the leaf vertices are never reached then there is no graph $G \\in \\mathbb{G}$ with either a $k$-clique or $l$-independent set\n",
    "    * Worst Case: $O(2^{n^2})$\n",
    "        * Worse case if the colouring is the very last leaf node, which is an empty graph, thus technically making the worst case impossible if $n$ > $l$\n",
    "        * <div class=\"alert alert-block alert-info\"><b>TODO:</b> Perform average case analysis</div>\n",
    "\n",
    "#### Checklist\n",
    "- [ ] Exhaustive $\\mathbb{G}(n)$\n",
    "- [ ] Exhaustive $\\mathbb{H}(n)$\n",
    "- [ ] DFS $\\mathbb{G}(n)$"
   ]
  },
  {
   "cell_type": "markdown",
   "metadata": {},
   "source": [
    "### Exhaustive $\\mathbb{G}(n)$ Search for $R(k,l)$"
   ]
  },
  {
   "cell_type": "code",
   "execution_count": 106,
   "metadata": {},
   "outputs": [],
   "source": [
    "def exG_ramsey_search(clique_size: int, independent_set_size: int, graph_order: int) -> bool:\n",
    "    clique = []\n",
    "    for i in range(clique_size):\n",
    "        row = []\n",
    "        for j in range(clique_size):\n",
    "            if i == j:\n",
    "                row.append(0)\n",
    "            else:\n",
    "                row.append(1)\n",
    "\n",
    "        clique.append(row)\n",
    "\n",
    "    indep_set = []\n",
    "    for i in range(independent_set_size):\n",
    "        row = []\n",
    "        for j in range(independent_set_size):\n",
    "            row.append(0)\n",
    "\n",
    "        indep_set.append(row)\n",
    "\n",
    "    clique = Graph(np.array(clique))\n",
    "    indep_set = Graph(np.array(indep_set))\n",
    "\n",
    "    num_graphs = int( 2**(graph_order * (graph_order - 1) / 2) )\n",
    "    for i in range(num_graphs):\n",
    "        graph_bitstring = bin(i)[2:].zfill(bitlength)\n",
    "        g = Graph(Graph.bitstring_to_adjacency_matrix(graph_bitstring))\n",
    "\n",
    "        if not (g.has_subgraph(clique) or g.has_subgraph(indep_set)):\n",
    "            return False\n",
    "\n",
    "    return True"
   ]
  },
  {
   "cell_type": "markdown",
   "metadata": {},
   "source": [
    "### Exhaustive $\\mathbb{H}(n)$ Search for $R(k,l)$"
   ]
  },
  {
   "cell_type": "code",
   "execution_count": 17,
   "metadata": {},
   "outputs": [],
   "source": [
    "def exH_ramsey_search(clique_size: int, independent_set_size: int, lower_bound: int, upper_bound: int) -> bool:\n",
    "    pass"
   ]
  },
  {
   "cell_type": "markdown",
   "metadata": {},
   "source": [
    "### Depth First $\\mathbb{G}(n)$ Search for $R(k,l)$"
   ]
  },
  {
   "cell_type": "code",
   "execution_count": 18,
   "metadata": {},
   "outputs": [],
   "source": [
    "def dfsG_ramsey_search(clique_size: int, independent_set_size: int, lower_bound: int, upper_bound: int) -> bool:\n",
    "    pass"
   ]
  },
  {
   "cell_type": "markdown",
   "metadata": {},
   "source": [
    "#### Tests\n",
    "\n",
    "| $k$ | $l$ | $n_a$ | | $n_b$ | | $n_c$ | |\n",
    "|-----|-----|-------|-|-------|-|-------|-|\n",
    "|  3  |  3  |   4   |F|   5   |T|   6   |T|\n",
    "|  3  |  4  |   8   |F|   9   |T|  10   |T|\n",
    "|  3  |  5  |  13   |F|  14   |T|  15   |T|\n",
    "|  3  |  6  |  17   |F|  18   |T|  19   |T|\n",
    "|  3  |  7  |  22   |F|  23   |T|  24   |T|\n",
    "|  3  |  8  |  27   |F|  28   |T|  29   |T|\n",
    "|  3  |  9  |  35   |F|  36   |T|  37   |T|\n",
    "|  4  |  4  |  17   |F|  18   |T|  19   |T|\n",
    "|  4  |  5  |  24   |F|  25   |T|  26   |T|"
   ]
  },
  {
   "cell_type": "code",
   "execution_count": 107,
   "metadata": {},
   "outputs": [],
   "source": [
    "test_cases = [\n",
    "    [3, 3, [(4, False), (5, True), (6, True)]],\n",
    "    [3, 4, [(8, False), (9, True), (10, True)]],\n",
    "    [3, 5, [(13, False), (14, True), (15, True)]],\n",
    "    [3, 6, [(17, False), (18, True), (19, True)]],\n",
    "    [3, 7, [(22, False), (23, True), (24, True)]],\n",
    "    [3, 8, [(27, False), (28, True), (29, True)]],\n",
    "    [3, 9, [(35, False), (36, True), (37, True)]],\n",
    "    [4, 4, [(17, False), (18, True), (19, True)]],\n",
    "    [4, 5, [(24, False), (25, True), (26, True)]]\n",
    "]\n",
    "\n",
    "test_results = {\n",
    "    \"Algorithm\": [],\n",
    "    \"Clique size\": [],\n",
    "    \"Independent Set size\": [],\n",
    "    \"Graph order\": [],\n",
    "    \"Expected Result\": [],\n",
    "    \"Actual Result\": [],\n",
    "    \"Correct\": [],\n",
    "    \"Execution Time (ms)\": []\n",
    "}"
   ]
  },
  {
   "cell_type": "code",
   "execution_count": 108,
   "metadata": {},
   "outputs": [],
   "source": [
    "# Exhaustive G(n) Search Tests\n",
    "\n",
    "for test_case in test_cases:\n",
    "    clique_size = test_case[0]\n",
    "    is_size = test_case[1]\n",
    "\n",
    "    if test_case[2][0][0] > 16:\n",
    "        continue\n",
    "\n",
    "    for tc in test_case[2]:\n",
    "        start_time = time.process_time()\n",
    "        result = exG_ramsey_search(clique_size, is_size, tc[0])\n",
    "        end_time = time.process_time()\n",
    "\n",
    "        test_results[\"Algorithm\"].append(\"Exhaustive G(n)\")\n",
    "        test_results[\"Clique size\"].append(clique_size)\n",
    "        test_results[\"Independent Set size\"].append(is_size)\n",
    "        test_results[\"Graph order\"].append(tc[0])\n",
    "        test_results[\"Expected Result\"].append(tc[1])\n",
    "        test_results[\"Actual Result\"].append(result)\n",
    "        test_results[\"Correct\"].append(result == tc[1])\n",
    "        test_results[\"Execution Time (ms)\"].append(float((end_time - start_time) * 1e3 ))"
   ]
  },
  {
   "cell_type": "code",
   "execution_count": 105,
   "metadata": {},
   "outputs": [
    {
     "name": "stdout",
     "output_type": "stream",
     "text": [
      "shape: (9, 8)\n",
      "┌────────────┬────────┬───────────────────┬───────┬──────────┬────────┬─────────┬──────────────────┐\n",
      "│ Algorithm  ┆ Clique ┆ Independent Set   ┆ Graph ┆ Expected ┆ Actual ┆ Correct ┆ Execution Time   │\n",
      "│ ---        ┆ size   ┆ size              ┆ order ┆ Result   ┆ Result ┆ ---     ┆ (ms)             │\n",
      "│ str        ┆ ---    ┆ ---               ┆ ---   ┆ ---      ┆ ---    ┆ bool    ┆ ---              │\n",
      "│            ┆ i64    ┆ i64               ┆ i64   ┆ bool     ┆ bool   ┆         ┆ f64              │\n",
      "╞════════════╪════════╪═══════════════════╪═══════╪══════════╪════════╪═════════╪══════════════════╡\n",
      "│ Exhaustive ┆ 3      ┆ 3                 ┆ 4     ┆ false    ┆ false  ┆ true    ┆ 0.0              │\n",
      "│ G(n)       ┆        ┆                   ┆       ┆          ┆        ┆         ┆                  │\n",
      "│ Exhaustive ┆ 3      ┆ 3                 ┆ 5     ┆ true     ┆ false  ┆ false   ┆ 0.0              │\n",
      "│ G(n)       ┆        ┆                   ┆       ┆          ┆        ┆         ┆                  │\n",
      "│ Exhaustive ┆ 3      ┆ 3                 ┆ 6     ┆ true     ┆ false  ┆ false   ┆ 0.0              │\n",
      "│ G(n)       ┆        ┆                   ┆       ┆          ┆        ┆         ┆                  │\n",
      "│ Exhaustive ┆ 3      ┆ 4                 ┆ 8     ┆ false    ┆ false  ┆ true    ┆ 0.0              │\n",
      "│ G(n)       ┆        ┆                   ┆       ┆          ┆        ┆         ┆                  │\n",
      "│ Exhaustive ┆ 3      ┆ 4                 ┆ 9     ┆ true     ┆ false  ┆ false   ┆ 0.0              │\n",
      "│ G(n)       ┆        ┆                   ┆       ┆          ┆        ┆         ┆                  │\n",
      "│ Exhaustive ┆ 3      ┆ 4                 ┆ 10    ┆ true     ┆ false  ┆ false   ┆ 0.0              │\n",
      "│ G(n)       ┆        ┆                   ┆       ┆          ┆        ┆         ┆                  │\n",
      "│ Exhaustive ┆ 3      ┆ 5                 ┆ 13    ┆ false    ┆ false  ┆ true    ┆ 0.0              │\n",
      "│ G(n)       ┆        ┆                   ┆       ┆          ┆        ┆         ┆                  │\n",
      "│ Exhaustive ┆ 3      ┆ 5                 ┆ 14    ┆ true     ┆ false  ┆ false   ┆ 0.0              │\n",
      "│ G(n)       ┆        ┆                   ┆       ┆          ┆        ┆         ┆                  │\n",
      "│ Exhaustive ┆ 3      ┆ 5                 ┆ 15    ┆ true     ┆ false  ┆ false   ┆ 0.0              │\n",
      "│ G(n)       ┆        ┆                   ┆       ┆          ┆        ┆         ┆                  │\n",
      "└────────────┴────────┴───────────────────┴───────┴──────────┴────────┴─────────┴──────────────────┘\n",
      "Correct Results 3 / 9\n"
     ]
    }
   ],
   "source": [
    "df = pl.DataFrame(test_results)\n",
    "\n",
    "print(df)\n",
    "print(f\"Correct Results {df.select('Correct').sum().item()} / {df.select('Correct').count().item()}\")\n"
   ]
  }
 ],
 "metadata": {
  "kernelspec": {
   "display_name": "Python 3",
   "language": "python",
   "name": "python3"
  },
  "language_info": {
   "codemirror_mode": {
    "name": "ipython",
    "version": 3
   },
   "file_extension": ".py",
   "mimetype": "text/x-python",
   "name": "python",
   "nbconvert_exporter": "python",
   "pygments_lexer": "ipython3",
   "version": "3.11.9"
  }
 },
 "nbformat": 4,
 "nbformat_minor": 2
}
