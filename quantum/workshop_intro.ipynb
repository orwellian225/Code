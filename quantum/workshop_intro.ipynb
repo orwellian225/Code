{
 "cells": [
  {
   "cell_type": "markdown",
   "metadata": {},
   "source": [
    "# Quantum Computing Workshop"
   ]
  },
  {
   "cell_type": "code",
   "execution_count": 1,
   "metadata": {},
   "outputs": [],
   "source": [
    "# Setup\n",
    "\n",
    "import qiskit"
   ]
  },
  {
   "cell_type": "markdown",
   "metadata": {},
   "source": [
    "## Demo"
   ]
  },
  {
   "cell_type": "markdown",
   "metadata": {},
   "source": [
    "### Stages\n",
    "\n",
    "1. Building\n",
    "    * Define the quantum circuit\n",
    "2. Transpiling\n",
    "    * Optimize your quantum circuit\n",
    "    * Reduces circuit depth\n",
    "    * Implements error mitigation technique\n",
    "3. Verify\n",
    "    * Run circuit locally for testing\n",
    "    * Debugging\n",
    "4. Run"
   ]
  },
  {
   "cell_type": "markdown",
   "metadata": {},
   "source": [
    "### Building\n",
    "\n",
    "Making Bell states\n",
    "\n",
    "> NOTE: CNOT gates are very expensive and most architectures must decompose it into several different gates, massively increasing circuit depth"
   ]
  },
  {
   "cell_type": "code",
   "execution_count": 13,
   "metadata": {},
   "outputs": [
    {
     "data": {
      "text/html": [
       "<pre style=\"word-wrap: normal;white-space: pre;background: #fff0;line-height: 1.1;font-family: &quot;Courier New&quot;,Courier,monospace\">     ┌───┐        ┌─┐\n",
       "  a: ┤ H ├──■─────┤M├\n",
       "     └───┘┌─┴─┐┌─┐└╥┘\n",
       "  b: ─────┤ X ├┤M├─╫─\n",
       "          └───┘└╥┘ ║ \n",
       "B: 1/═══════════╩══╬═\n",
       "                0  ║ \n",
       "A: 1/══════════════╩═\n",
       "                   0 </pre>"
      ],
      "text/plain": [
       "     ┌───┐        ┌─┐\n",
       "  a: ┤ H ├──■─────┤M├\n",
       "     └───┘┌─┴─┐┌─┐└╥┘\n",
       "  b: ─────┤ X ├┤M├─╫─\n",
       "          └───┘└╥┘ ║ \n",
       "B: 1/═══════════╩══╬═\n",
       "                0  ║ \n",
       "A: 1/══════════════╩═\n",
       "                   0 "
      ]
     },
     "metadata": {},
     "output_type": "display_data"
    }
   ],
   "source": [
    "from qiskit import QuantumCircuit, QuantumRegister, ClassicalRegister\n",
    "\n",
    "# Default of a qubit is ket-0\n",
    "a = QuantumRegister(1, \"a\")\n",
    "b = QuantumRegister(1, \"b\")\n",
    "A = ClassicalRegister(1, \"A\")\n",
    "B = ClassicalRegister(1, \"B\")\n",
    "\n",
    "bell_circuit = QuantumCircuit(a, b, B, A)\n",
    "\n",
    "# Gates\n",
    "bell_circuit.h(a)\n",
    "bell_circuit.cx(a,b)\n",
    "\n",
    "# Measures\n",
    "bell_circuit.measure(b, B)\n",
    "bell_circuit.measure(a, A)\n",
    "\n",
    "display(bell_circuit.draw())"
   ]
  },
  {
   "cell_type": "markdown",
   "metadata": {},
   "source": [
    "#### Qubit Ordering\n",
    "\n",
    "[QK Docs](https://docs.quantum.ibm.com/build/bit-ordering)\n",
    "\n",
    "* Ket: $\\left| q_{n-1}q_{n-2}...q_1q_0 \\right>$\n",
    "* Circuit Diagram: $q_{n-1}$ at the bottom line to $q_0$ is the top line"
   ]
  },
  {
   "cell_type": "markdown",
   "metadata": {},
   "source": [
    "#### Circuit Depth\n",
    "\n",
    "The number of gates that have to be applied sequentially"
   ]
  },
  {
   "cell_type": "code",
   "execution_count": 14,
   "metadata": {},
   "outputs": [
    {
     "name": "stdout",
     "output_type": "stream",
     "text": [
      "Circuit Depth: 3\n"
     ]
    }
   ],
   "source": [
    "print(f\"Circuit Depth: {bell_circuit.depth()}\")"
   ]
  },
  {
   "cell_type": "markdown",
   "metadata": {},
   "source": [
    "## Transpiling\n",
    "\n",
    "\n",
    "For running on an actual quantum computer "
   ]
  },
  {
   "cell_type": "markdown",
   "metadata": {},
   "source": [
    "### Architecture\n",
    "\n",
    "Modify circuit instructions to match the Instruction Set Architecture of the selected quantum device\n",
    "\n",
    "### Resilience\n",
    "\n",
    "Modifying circuit against interference and noise\n",
    "\n",
    "### Optimising\n",
    "\n",
    "Modifying circuit to reduce circuit depth"
   ]
  },
  {
   "cell_type": "code",
   "execution_count": null,
   "metadata": {},
   "outputs": [],
   "source": [
    "## below code is some of the code required to get it on an actual quantum computer\n",
    "\n",
    "# from qiskit_ibm_runtime import QiskitRuntimeService\n",
    "# from qiskit.transpiler.preset_passmanagers import generate_preset_pass_manager\n",
    "\n",
    "# service = QiskitRuntimeService()\n",
    "\n",
    "# pm = generate_preset_pass_manager(backend=backend, optimization_level=1)\n",
    "# isa_circuit = pm.run(bell_circuit)\n",
    "\n",
    "# display(isa_circuit.draw(idle_wires=False))"
   ]
  },
  {
   "cell_type": "markdown",
   "metadata": {},
   "source": [
    "#### Local Running"
   ]
  },
  {
   "cell_type": "code",
   "execution_count": 33,
   "metadata": {},
   "outputs": [
    {
     "data": {
      "text/html": [
       "<pre style=\"word-wrap: normal;white-space: pre;background: #fff0;line-height: 1.1;font-family: &quot;Courier New&quot;,Courier,monospace\">        ┌───┐      ░ ┌─┐   \n",
       "   q_0: ┤ H ├──■───░─┤M├───\n",
       "        └───┘┌─┴─┐ ░ └╥┘┌─┐\n",
       "   q_1: ─────┤ X ├─░──╫─┤M├\n",
       "             └───┘ ░  ║ └╥┘\n",
       "meas: 2/══════════════╩══╩═\n",
       "                      0  1 </pre>"
      ],
      "text/plain": [
       "        ┌───┐      ░ ┌─┐   \n",
       "   q_0: ┤ H ├──■───░─┤M├───\n",
       "        └───┘┌─┴─┐ ░ └╥┘┌─┐\n",
       "   q_1: ─────┤ X ├─░──╫─┤M├\n",
       "             └───┘ ░  ║ └╥┘\n",
       "meas: 2/══════════════╩══╩═\n",
       "                      0  1 "
      ]
     },
     "execution_count": 33,
     "metadata": {},
     "output_type": "execute_result"
    }
   ],
   "source": [
    "from qiskit.primitives import Sampler\n",
    "from qiskit.visualization import plot_histogram\n",
    "\n",
    "# circuit with 2 qubits\n",
    "qc = QuantumCircuit(2)\n",
    "qc.h(0) # h-gate on qbit 0\n",
    "qc.cx(0,1) # cnot-gate on qbit 0, 1\n",
    "\n",
    "qc.measure_all()\n",
    "qc.draw()"
   ]
  },
  {
   "cell_type": "code",
   "execution_count": 34,
   "metadata": {},
   "outputs": [
    {
     "data": {
      "image/png": "[encoded data removed]",
      "text/plain": [
       "<Figure size 700x500 with 1 Axes>"
      ]
     },
     "metadata": {},
     "output_type": "display_data"
    }
   ],
   "source": [
    "results = Sampler().run(qc).result() # default num_shots = 1024\n",
    "statistics = results.quasi_dists[0].binary_probabilities()\n",
    "display(plot_histogram(statistics))"
   ]
  }
 ],
 "metadata": {
  "kernelspec": {
   "display_name": "qcgt-code",
   "language": "python",
   "name": "python3"
  },
  "language_info": {
   "codemirror_mode": {
    "name": "ipython",
    "version": 3
   },
   "file_extension": ".py",
   "mimetype": "text/x-python",
   "name": "python",
   "nbconvert_exporter": "python",
   "pygments_lexer": "ipython3",
   "version": "3.11.7"
  }
 },
 "nbformat": 4,
 "nbformat_minor": 2
}
