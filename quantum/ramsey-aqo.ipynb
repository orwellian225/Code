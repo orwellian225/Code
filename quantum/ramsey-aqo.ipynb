{
 "cells": [
  {
   "cell_type": "code",
   "execution_count": 42,
   "metadata": {},
   "outputs": [],
   "source": [
    "import qiskit as qk\n",
    "from qiskit_aer import AerSimulator\n",
    "from qiskit_aer.primitives import EstimatorV2, SamplerV2\n",
    "import numpy as np\n",
    "import math as m\n",
    "\n",
    "from adiabatic_optimisation import AdiabaticOptimisationProblem"
   ]
  },
  {
   "cell_type": "code",
   "execution_count": 43,
   "metadata": {},
   "outputs": [],
   "source": [
    "from queue import LifoQueue\n",
    "from copy import deepcopy\n",
    "\n",
    "def pauli_at(pauli: str, index: int, length: int):\n",
    "    label = []\n",
    "    for i in range(length):\n",
    "        if (i + 1) == index:\n",
    "            label.append(pauli)\n",
    "        else:\n",
    "            label.append(\"I\")\n",
    "\n",
    "    return \"\".join(label)\n",
    "\n",
    "def enumerate_choices(n: int, r: int) -> list:\n",
    "    choices = []\n",
    "    stack = LifoQueue()\n",
    "    stack.put([])\n",
    "\n",
    "    while not stack.empty():\n",
    "        item = stack.get()\n",
    "\n",
    "        if len(item) == r:\n",
    "            choices.append(item)\n",
    "        else:\n",
    "            start_idx = (item[-1] + 1) if len(item) > 0 else 0\n",
    "            for i in range(start_idx, n):\n",
    "                new_item = deepcopy(item)\n",
    "                new_item.append(i)\n",
    "                stack.put(new_item)\n",
    "\n",
    "    return choices\n",
    "\n",
    "def generate_clique_hamiltonian(graph_order: int, clique_size: int) -> qk.quantum_info.operators.SparsePauliOp:\n",
    "    length = graph_order * (graph_order - 1) // 2\n",
    "    vertex_choices = enumerate_choices(graph_order, clique_size)\n",
    "    idx = lambda n,r,c: int(-0.5 * r**2 + (n - 0.5) * r + c - r)\n",
    "\n",
    "    # print(\"Vertex Choices:\", len(vertex_choices), vertex_choices)\n",
    "\n",
    "    result = qk.quantum_info.operators.SparsePauliOp([pauli_at(\"I\", 0, length)], [0.])\n",
    "    for vc in vertex_choices:\n",
    "        h_alpha = qk.quantum_info.operators.Pauli(pauli_at(\"I\", 0, length))\n",
    "        edge_choices = enumerate_choices(clique_size, 2)\n",
    "\n",
    "        for ec in edge_choices:\n",
    "            edge_idx = idx(graph_order, vc[ec[0]], vc[ec[1]])\n",
    "            # print(graph_order, vc[ec[0]], vc[ec[1]], edge_idx)\n",
    "            edge_pauli = qk.quantum_info.operators.SparsePauliOp([pauli_at(\"I\", edge_idx, length), pauli_at(\"Z\", edge_idx, length)], [0.5, -0.5])\n",
    "            h_alpha = edge_pauli.dot(h_alpha)\n",
    "\n",
    "        result += h_alpha\n",
    "\n",
    "    return result\n",
    "\n",
    "def generate_iset_hamiltonian(graph_order: int, iset_size: int) -> qk.quantum_info.operators.SparsePauliOp:\n",
    "    length = graph_order * (graph_order - 1) // 2\n",
    "    vertex_choices = enumerate_choices(graph_order, iset_size)\n",
    "    idx = lambda n,r,c: int(-0.5 * r**2 + (n - 0.5) * r + c - r)\n",
    "\n",
    "    # print(\"Vertex Choices:\", len(vertex_choices), vertex_choices)\n",
    "\n",
    "    result = qk.quantum_info.operators.SparsePauliOp([pauli_at(\"I\", 0, length)], [0.])\n",
    "    for vc in vertex_choices:\n",
    "        h_alpha = qk.quantum_info.operators.Pauli(pauli_at(\"I\", 0, length))\n",
    "        edge_choices = enumerate_choices(iset_size, 2)\n",
    "\n",
    "        for ec in edge_choices:\n",
    "            edge_idx = idx(graph_order, vc[ec[0]], vc[ec[1]])\n",
    "            # print(graph_order, vc[ec[0]], vc[ec[1]], edge_idx)\n",
    "            edge_pauli = qk.quantum_info.operators.SparsePauliOp([pauli_at(\"I\", edge_idx, length), pauli_at(\"Z\", edge_idx, length)], [0.5, 0.5])\n",
    "            h_alpha = edge_pauli.dot(h_alpha)\n",
    "\n",
    "        result += h_alpha\n",
    "\n",
    "    return result\n",
    "\n",
    "def generate_ramsey_hamiltonian(graph_order: int, clique_size: int, iset_size: int) -> qk.quantum_info.operators.SparsePauliOp:\n",
    "    clique_ham = generate_clique_hamiltonian(graph_order, clique_size)\n",
    "    iset_ham = generate_iset_hamiltonian(graph_order, iset_size)\n",
    "\n",
    "    # print(clique_ham.to_matrix().astype(np.float32))\n",
    "    # print(iset_ham.to_matrix().astype(np.float32))\n",
    "    # print((clique_ham + iset_ham).to_matrix().astype(np.float32))\n",
    "\n",
    "    return clique_ham + iset_ham"
   ]
  },
  {
   "cell_type": "code",
   "execution_count": 44,
   "metadata": {},
   "outputs": [],
   "source": [
    "def generate_initial_hamiltonian(graph_order: int) -> qk.quantum_info.operators.SparsePauliOp:\n",
    "    length = graph_order * (graph_order - 1) // 2\n",
    "    result = qk.quantum_info.operators.SparsePauliOp([pauli_at(\"I\", 0, length)], [0.])\n",
    "    for l in range(length):\n",
    "        result += qk.quantum_info.operators.SparsePauliOp([pauli_at(\"I\", l, length), pauli_at(\"X\", l, length)], [0.5, -0.5])\n",
    "\n",
    "    return result"
   ]
  },
  {
   "cell_type": "markdown",
   "metadata": {},
   "source": [
    "## Tests"
   ]
  },
  {
   "cell_type": "markdown",
   "metadata": {},
   "source": [
    "### R(2,5)"
   ]
  },
  {
   "cell_type": "code",
   "execution_count": 45,
   "metadata": {},
   "outputs": [],
   "source": [
    "# test_clique = 2\n",
    "# test_iset = 5\n",
    "# test_sizes = [2, 3, 4, 5]\n",
    "# test_problem_hamiltonians = []\n",
    "# test_initial_hamiltonians = []\n",
    "# for n in test_sizes:\n",
    "#     test_problem_hamiltonians.append(generate_ramsey_hamiltonian(n, test_clique, test_iset))\n",
    "#     test_initial_hamiltonians.append(generate_initial_hamiltonian(n))"
   ]
  },
  {
   "cell_type": "markdown",
   "metadata": {},
   "source": [
    "### R(2,2)"
   ]
  },
  {
   "cell_type": "code",
   "execution_count": 46,
   "metadata": {},
   "outputs": [],
   "source": [
    "# test_clique = 2\n",
    "# test_iset = 2\n",
    "# test_sizes = [2, 3, 4]\n",
    "# test_problem_hamiltonians = []\n",
    "# test_initial_hamiltonians = []\n",
    "# for n in test_sizes:\n",
    "#     test_problem_hamiltonians.append(generate_ramsey_hamiltonian(n, test_clique, test_iset))\n",
    "#     test_initial_hamiltonians.append(generate_initial_hamiltonian(n))"
   ]
  },
  {
   "cell_type": "markdown",
   "metadata": {},
   "source": [
    "### R(3,3)"
   ]
  },
  {
   "cell_type": "code",
   "execution_count": null,
   "metadata": {},
   "outputs": [],
   "source": [
    "test_clique = 3\n",
    "test_iset = 3\n",
    "test_sizes = [5, 6]\n",
    "test_problem_hamiltonians = []\n",
    "test_initial_hamiltonians = []\n",
    "for n in test_sizes:\n",
    "    test_problem_hamiltonians.append(generate_ramsey_hamiltonian(n, test_clique, test_iset))\n",
    "    test_initial_hamiltonians.append(generate_initial_hamiltonian(n))"
   ]
  },
  {
   "cell_type": "markdown",
   "metadata": {},
   "source": [
    "### Execution"
   ]
  },
  {
   "cell_type": "code",
   "execution_count": 47,
   "metadata": {},
   "outputs": [],
   "source": [
    "simulator = AerSimulator()\n",
    "estimator = EstimatorV2()\n",
    "\n",
    "def execute_circuit_estimator(aqo: AdiabaticOptimisationProblem, initial_state) -> np.ndarray:\n",
    "    aqo.generate(initial_state)\n",
    "    aqo.circuit = aqo.circuit.decompose()\n",
    "\n",
    "    observables = [aqo.problem_hamiltonian]\n",
    "    pub = (qk.transpile(aqo.circuit, simulator), observables)\n",
    "    job = estimator.run([pub])\n",
    "\n",
    "    return job.result()[0].data.evs[0]"
   ]
  },
  {
   "cell_type": "code",
   "execution_count": 48,
   "metadata": {},
   "outputs": [],
   "source": [
    "simulator = AerSimulator()\n",
    "sampler = SamplerV2()\n",
    "\n",
    "def execute_circuit_sampler(aqo: AdiabaticOptimisationProblem, initial_state) -> np.ndarray:\n",
    "    aqo.generate(initial_state)\n",
    "    aqo.circuit.measure_all()\n",
    "    aqo.circuit = aqo.circuit.decompose()\n",
    "\n",
    "    job = sampler.run([qk.transpile(aqo.circuit, simulator)], shots=1000)\n",
    "    return job.result()[0].data.meas.get_counts()"
   ]
  },
  {
   "cell_type": "code",
   "execution_count": 49,
   "metadata": {},
   "outputs": [],
   "source": [
    "test_result_energy = []\n",
    "test_result_states = []\n",
    "for i in range(len(test_sizes)):\n",
    "    aqop = AdiabaticOptimisationProblem(\n",
    "        initial_hamiltonian=test_initial_hamiltonians[i],\n",
    "        problem_hamiltonian=test_problem_hamiltonians[i],\n",
    "        time=5.,\n",
    "        steps=10\n",
    "    )\n",
    "\n",
    "    equal_prob = 1 / m.sqrt(2**aqop.num_qubits)\n",
    "    test_result_energy.append(execute_circuit_estimator(aqop, [equal_prob for _ in range(2**aqop.num_qubits)]))\n",
    "    test_result_states.append(execute_circuit_sampler(aqop, [equal_prob for _ in range(2**aqop.num_qubits)]))"
   ]
  },
  {
   "cell_type": "code",
   "execution_count": 50,
   "metadata": {},
   "outputs": [
    {
     "name": "stdout",
     "output_type": "stream",
     "text": [
      "================================================================\n",
      "R(2, 2) ?= 2\n",
      "------------\n",
      "Classical numpy Groundstate energy: (1+0j)\n",
      "Classical numpy Degeneracy: 2\n",
      "AQO output energy: 1.0000000000000002\n",
      "Approximate AQO output state:\n",
      "\tProbability sum: 1.0\n",
      "\t0.72|1> + 0.70|0>\n",
      "================================================================\n",
      "R(2, 2) ?= 3\n",
      "------------\n",
      "Classical numpy Groundstate energy: (3+0j)\n",
      "Classical numpy Degeneracy: 8\n",
      "AQO output energy: 3.000000000000001\n",
      "Approximate AQO output state:\n",
      "\tProbability sum: 1.0\n",
      "\t0.35|011> + 0.33|010> + 0.36|001> + 0.35|100> + 0.38|101> + 0.35|000> + 0.35|111> + 0.36|110>\n",
      "================================================================\n",
      "R(2, 2) ?= 4\n",
      "------------\n",
      "Classical numpy Groundstate energy: (6+0j)\n",
      "Classical numpy Degeneracy: 64\n",
      "AQO output energy: 6.000000000000336\n",
      "Approximate AQO output state:\n",
      "\tProbability sum: 1.0000000000000007\n",
      "\t0.13|010110> + 0.13|001001> + 0.14|000111> + 0.14|001011> + 0.13|000001> + 0.13|000011> + 0.14|010000> + 0.11|111110> + 0.11|011101> + 0.10|101101> + 0.13|111100> + 0.13|010001> + 0.12|011111> + 0.15|111011> + 0.12|111000> + 0.14|101110> + 0.12|000101> + 0.12|010010> + 0.13|000110> + 0.12|110010> + 0.10|001101> + 0.12|000000> + 0.13|101001> + 0.12|110011> + 0.14|000100> + 0.12|011000> + 0.13|110001> + 0.10|101111> + 0.16|011010> + 0.13|011011> + 0.11|001000> + 0.14|011100> + 0.10|100100> + 0.15|011110> + 0.11|110101> + 0.12|100101> + 0.10|010100> + 0.13|110110> + 0.09|001100> + 0.12|101000> + 0.10|110111> + 0.13|110000> + 0.12|100010> + 0.13|101100> + 0.11|001111> + 0.13|101010> + 0.13|010011> + 0.15|101011> + 0.15|001010> + 0.14|001110> + 0.15|110100> + 0.10|111111> + 0.12|010111> + 0.10|100000> + 0.14|111010> + 0.13|111101> + 0.09|100001> + 0.11|100011> + 0.11|010101> + 0.13|011001> + 0.12|100110> + 0.10|000010> + 0.13|111001> + 0.09|100111>\n",
      "================================================================\n"
     ]
    }
   ],
   "source": [
    "print(f\"{'':=<64}\")\n",
    "for i in range(len(test_sizes)):\n",
    "    print(f\"R({test_clique}, {test_iset}) ?= {test_sizes[i]}\")\n",
    "    print(f\"{'':-<12}\")\n",
    "\n",
    "    eigvals = np.linalg.eigvals(test_problem_hamiltonians[i])\n",
    "    groundstate_energy = np.min(eigvals)\n",
    "    groundstate_energy_degeneracy = np.sum(eigvals == groundstate_energy)\n",
    "\n",
    "    print(\"Classical numpy Groundstate energy:\", groundstate_energy)\n",
    "    print(\"Classical numpy Degeneracy:\", groundstate_energy_degeneracy)\n",
    "    print(\"AQO output energy:\", test_result_energy[i])\n",
    "    print(\"Approximate AQO output state:\")\n",
    "    prob_sum = 0.\n",
    "    state_kets = []\n",
    "    for key in test_result_states[i].keys():\n",
    "        prob = test_result_states[i][key] / 1000\n",
    "        prob_sum += prob\n",
    "        state_kets.append(f\"{m.sqrt(prob):.2f}|{key}>\")\n",
    "    print(\"\\tProbability sum:\", prob_sum)\n",
    "    print(f\"\\t{' + '.join(state_kets)}\")\n",
    "    print(f\"{'':=<64}\")"
   ]
  }
 ],
 "metadata": {
  "kernelspec": {
   "display_name": "env",
   "language": "python",
   "name": "python3"
  },
  "language_info": {
   "codemirror_mode": {
    "name": "ipython",
    "version": 3
   },
   "file_extension": ".py",
   "mimetype": "text/x-python",
   "name": "python",
   "nbconvert_exporter": "python",
   "pygments_lexer": "ipython3",
   "version": "3.11.9"
  }
 },
 "nbformat": 4,
 "nbformat_minor": 2
}
