{
 "cells": [
  {
   "cell_type": "markdown",
   "metadata": {},
   "source": [
    "# Adiabatic Quantum Optimisation on 3-SAT"
   ]
  },
  {
   "cell_type": "code",
   "execution_count": 623,
   "metadata": {},
   "outputs": [],
   "source": [
    "import qiskit.quantum_info.operators as qkqio\n",
    "import qiskit as qk\n",
    "import qiskit.circuit as qkc\n",
    "import qiskit_algorithms as qka\n",
    "import sympy as sp\n",
    "import numpy as np"
   ]
  },
  {
   "cell_type": "code",
   "execution_count": 624,
   "metadata": {},
   "outputs": [
    {
     "data": {
      "text/latex": [
       "$\\displaystyle \\left[\\begin{matrix}0 & 1.0 & 0 & 0\\\\1.0 & 0 & 0 & 0\\\\0 & 0 & 0 & 1.0\\\\0 & 0 & 1.0 & 0\\end{matrix}\\right]$"
      ],
      "text/plain": [
       "[[0, 1.0, 0, 0], [1.0, 0, 0, 0], [0, 0, 0, 1.0], [0, 0, 1.0, 0]]"
      ]
     },
     "metadata": {},
     "output_type": "display_data"
    },
    {
     "name": "stdout",
     "output_type": "stream",
     "text": [
      "X at 1 for 3 qubits: XII\n",
      "X at 2 for 3 qubits: IXI\n",
      "X at 3 for 3 qubits: IIX\n",
      "I at 1 for 3 qubits: III\n",
      "I at 2 for 3 qubits: III\n",
      "I at 3 for 3 qubits: III\n"
     ]
    }
   ],
   "source": [
    "display(sp.sympify(qkqio.Pauli(\"IX\").to_matrix()))\n",
    "\n",
    "\"\"\"\n",
    "pauli_label -> The Pauli Gate to insert\n",
    "num_qubits -> The total number of qubits in the hilbert space\n",
    "qubit_idx -> The position of the Pauli Gate (counts from 1)\n",
    "\"\"\"\n",
    "def pauli_at_qubit(pauli_label: str, num_qubits: int, qubit_idx: int):\n",
    "    label = []\n",
    "    for i in range(num_qubits):\n",
    "        if (i + 1) == qubit_idx:\n",
    "            label.append(pauli_label)\n",
    "        else:\n",
    "            label.append(\"I\")\n",
    "\n",
    "    return \"\".join(label)\n",
    "\n",
    "print(\"X at 1 for 3 qubits:\", pauli_at_qubit(\"X\", 3, 1))\n",
    "print(\"X at 2 for 3 qubits:\", pauli_at_qubit(\"X\", 3, 2))\n",
    "print(\"X at 3 for 3 qubits:\", pauli_at_qubit(\"X\", 3, 3))\n",
    "print(\"I at 1 for 3 qubits:\", pauli_at_qubit(\"I\", 3, 1))\n",
    "print(\"I at 2 for 3 qubits:\", pauli_at_qubit(\"I\", 3, 2))\n",
    "print(\"I at 3 for 3 qubits:\", pauli_at_qubit(\"I\", 3, 3))"
   ]
  },
  {
   "cell_type": "code",
   "execution_count": 625,
   "metadata": {},
   "outputs": [],
   "source": [
    "num_qubits = 1\n",
    "num_steps = 20\n",
    "max_T = 10."
   ]
  },
  {
   "cell_type": "code",
   "execution_count": 626,
   "metadata": {},
   "outputs": [],
   "source": [
    "initial_hamiltonian = qkqio.SparsePauliOp([pauli_at_qubit(\"I\", num_qubits, 1), pauli_at_qubit(\"X\", num_qubits, 1)], np.array([0.5, -0.5]))\n",
    "problem_hamiltonian = qkqio.SparsePauliOp([pauli_at_qubit(\"I\", num_qubits, 1), pauli_at_qubit(\"Z\", num_qubits, 1)], np.array([0.5, 0.5]))"
   ]
  },
  {
   "cell_type": "code",
   "execution_count": 627,
   "metadata": {},
   "outputs": [
    {
     "data": {
      "text/latex": [
       "$\\displaystyle \\left[\\begin{matrix}1.0 - \\frac{0.5 t}{T} & - \\frac{0.5 t}{T}\\\\- \\frac{0.5 t}{T} & \\frac{0.5 t}{T}\\end{matrix}\\right]$"
      ],
      "text/plain": [
       "Matrix([\n",
       "[1.0 - 0.5*t/T, -0.5*t/T],\n",
       "[     -0.5*t/T,  0.5*t/T]])"
      ]
     },
     "metadata": {},
     "output_type": "display_data"
    },
    {
     "data": {
      "text/latex": [
       "$\\displaystyle \\left[\\begin{matrix}1.0 - 0.5 s & - 0.5 s\\\\- 0.5 s & 0.5 s\\end{matrix}\\right]$"
      ],
      "text/plain": [
       "Matrix([\n",
       "[1.0 - 0.5*s, -0.5*s],\n",
       "[     -0.5*s,  0.5*s]])"
      ]
     },
     "metadata": {},
     "output_type": "display_data"
    }
   ],
   "source": [
    "from sympy.abc import t, s, T\n",
    "\n",
    "sp_initial_hamiltonian = sp.Matrix(initial_hamiltonian.to_matrix())\n",
    "sp_problem_hamiltonian = sp.Matrix(problem_hamiltonian.to_matrix())\n",
    "\n",
    "sp_hamiltonian_t = sp_initial_hamiltonian * t / T + (1 - t/T) * sp_problem_hamiltonian\n",
    "sp_hamiltonian_s = s * sp_initial_hamiltonian + (1 - s) * sp_problem_hamiltonian\n",
    "\n",
    "display(sp_hamiltonian_t)\n",
    "display(sp_hamiltonian_s)"
   ]
  },
  {
   "cell_type": "code",
   "execution_count": 628,
   "metadata": {},
   "outputs": [
    {
     "name": "stdout",
     "output_type": "stream",
     "text": [
      "Number of Discrete Hamiltonians: 20\n",
      "t Space Delta: 0.5263157894736842\n",
      "t Space: [ 0.          0.52631579  1.05263158  1.57894737  2.10526316  2.63157895\n",
      "  3.15789474  3.68421053  4.21052632  4.73684211  5.26315789  5.78947368\n",
      "  6.31578947  6.84210526  7.36842105  7.89473684  8.42105263  8.94736842\n",
      "  9.47368421 10.        ]\n"
     ]
    }
   ],
   "source": [
    "discrete_hamiltonians = []\n",
    "t_space = np.linspace(0., max_T, num_steps)\n",
    "# t_space = s_space * max_T\n",
    "t_space_delta = abs(t_space[1] - t_space[0])\n",
    "for t_val in t_space:\n",
    "    discrete_hamiltonians.append(t_val / max_T * initial_hamiltonian + (1 - t_val / max_T) * problem_hamiltonian)\n",
    "\n",
    "print('Number of Discrete Hamiltonians:', len(discrete_hamiltonians))\n",
    "print('t Space Delta:', t_space_delta)\n",
    "print('t Space:', t_space)\n",
    "# for i in range(num_hamiltonians):\n",
    "#     display(sp.Matrix(discrete_hamiltonians[i].to_matrix()))"
   ]
  },
  {
   "cell_type": "code",
   "execution_count": 629,
   "metadata": {},
   "outputs": [
    {
     "name": "stdout",
     "output_type": "stream",
     "text": [
      "Number of qubits: 1\n"
     ]
    }
   ],
   "source": [
    "aqo_circuit = qk.QuantumCircuit(num_qubits)\n",
    "print(\"Number of qubits:\", aqo_circuit.num_qubits)\n",
    "\n",
    "aqo_circuit.h([x for x in range(num_qubits)])\n",
    "for i in range(num_steps):\n",
    "    new_unitary = qkc.library.HamiltonianGate(discrete_hamiltonians[i], t_space_delta, label=f\"H({t_space[i]:.2f})\")\n",
    "    aqo_circuit.append(new_unitary, qargs=[x for x in range(num_qubits)])"
   ]
  },
  {
   "cell_type": "code",
   "execution_count": 630,
   "metadata": {},
   "outputs": [
    {
     "data": {
      "text/html": [
       "<pre style=\"word-wrap: normal;white-space: pre;background: #fff0;line-height: 1.1;font-family: &quot;Courier New&quot;,Courier,monospace\">   ┌───┐┌─────────┐┌─────────┐┌─────────┐┌─────────┐┌─────────┐┌─────────┐»\n",
       "q: ┤ H ├┤ H(0.00) ├┤ H(0.53) ├┤ H(1.05) ├┤ H(1.58) ├┤ H(2.11) ├┤ H(2.63) ├»\n",
       "   └───┘└─────────┘└─────────┘└─────────┘└─────────┘└─────────┘└─────────┘»\n",
       "«   ┌─────────┐┌─────────┐┌─────────┐┌─────────┐┌─────────┐┌─────────┐»\n",
       "«q: ┤ H(3.16) ├┤ H(3.68) ├┤ H(4.21) ├┤ H(4.74) ├┤ H(5.26) ├┤ H(5.79) ├»\n",
       "«   └─────────┘└─────────┘└─────────┘└─────────┘└─────────┘└─────────┘»\n",
       "«   ┌─────────┐┌─────────┐┌─────────┐┌─────────┐┌─────────┐┌─────────┐»\n",
       "«q: ┤ H(6.32) ├┤ H(6.84) ├┤ H(7.37) ├┤ H(7.89) ├┤ H(8.42) ├┤ H(8.95) ├»\n",
       "«   └─────────┘└─────────┘└─────────┘└─────────┘└─────────┘└─────────┘»\n",
       "«   ┌─────────┐┌──────────┐\n",
       "«q: ┤ H(9.47) ├┤ H(10.00) ├\n",
       "«   └─────────┘└──────────┘</pre>"
      ],
      "text/plain": [
       "   ┌───┐┌─────────┐┌─────────┐┌─────────┐┌─────────┐┌─────────┐┌─────────┐»\n",
       "q: ┤ H ├┤ H(0.00) ├┤ H(0.53) ├┤ H(1.05) ├┤ H(1.58) ├┤ H(2.11) ├┤ H(2.63) ├»\n",
       "   └───┘└─────────┘└─────────┘└─────────┘└─────────┘└─────────┘└─────────┘»\n",
       "«   ┌─────────┐┌─────────┐┌─────────┐┌─────────┐┌─────────┐┌─────────┐»\n",
       "«q: ┤ H(3.16) ├┤ H(3.68) ├┤ H(4.21) ├┤ H(4.74) ├┤ H(5.26) ├┤ H(5.79) ├»\n",
       "«   └─────────┘└─────────┘└─────────┘└─────────┘└─────────┘└─────────┘»\n",
       "«   ┌─────────┐┌─────────┐┌─────────┐┌─────────┐┌─────────┐┌─────────┐»\n",
       "«q: ┤ H(6.32) ├┤ H(6.84) ├┤ H(7.37) ├┤ H(7.89) ├┤ H(8.42) ├┤ H(8.95) ├»\n",
       "«   └─────────┘└─────────┘└─────────┘└─────────┘└─────────┘└─────────┘»\n",
       "«   ┌─────────┐┌──────────┐\n",
       "«q: ┤ H(9.47) ├┤ H(10.00) ├\n",
       "«   └─────────┘└──────────┘"
      ]
     },
     "execution_count": 630,
     "metadata": {},
     "output_type": "execute_result"
    }
   ],
   "source": [
    "aqo_estimate = aqo_circuit\n",
    "aqo_estimate.draw()"
   ]
  },
  {
   "cell_type": "code",
   "execution_count": 631,
   "metadata": {},
   "outputs": [
    {
     "data": {
      "text/html": [
       "<pre style=\"word-wrap: normal;white-space: pre;background: #fff0;line-height: 1.1;font-family: &quot;Courier New&quot;,Courier,monospace\">        ┌───┐┌─────────┐┌─────────┐┌─────────┐┌─────────┐┌─────────┐┌─────────┐»\n",
       "     q: ┤ H ├┤ H(0.00) ├┤ H(0.53) ├┤ H(1.05) ├┤ H(1.58) ├┤ H(2.11) ├┤ H(2.63) ├»\n",
       "        └───┘└─────────┘└─────────┘└─────────┘└─────────┘└─────────┘└─────────┘»\n",
       "meas: 1/═══════════════════════════════════════════════════════════════════════»\n",
       "                                                                               »\n",
       "«        ┌─────────┐┌─────────┐┌─────────┐┌─────────┐┌─────────┐┌─────────┐»\n",
       "«     q: ┤ H(3.16) ├┤ H(3.68) ├┤ H(4.21) ├┤ H(4.74) ├┤ H(5.26) ├┤ H(5.79) ├»\n",
       "«        └─────────┘└─────────┘└─────────┘└─────────┘└─────────┘└─────────┘»\n",
       "«meas: 1/══════════════════════════════════════════════════════════════════»\n",
       "«                                                                          »\n",
       "«        ┌─────────┐┌─────────┐┌─────────┐┌─────────┐┌─────────┐┌─────────┐»\n",
       "«     q: ┤ H(6.32) ├┤ H(6.84) ├┤ H(7.37) ├┤ H(7.89) ├┤ H(8.42) ├┤ H(8.95) ├»\n",
       "«        └─────────┘└─────────┘└─────────┘└─────────┘└─────────┘└─────────┘»\n",
       "«meas: 1/══════════════════════════════════════════════════════════════════»\n",
       "«                                                                          »\n",
       "«        ┌─────────┐┌──────────┐ ░ ┌─┐\n",
       "«     q: ┤ H(9.47) ├┤ H(10.00) ├─░─┤M├\n",
       "«        └─────────┘└──────────┘ ░ └╥┘\n",
       "«meas: 1/═══════════════════════════╩═\n",
       "«                                   0 </pre>"
      ],
      "text/plain": [
       "        ┌───┐┌─────────┐┌─────────┐┌─────────┐┌─────────┐┌─────────┐┌─────────┐»\n",
       "     q: ┤ H ├┤ H(0.00) ├┤ H(0.53) ├┤ H(1.05) ├┤ H(1.58) ├┤ H(2.11) ├┤ H(2.63) ├»\n",
       "        └───┘└─────────┘└─────────┘└─────────┘└─────────┘└─────────┘└─────────┘»\n",
       "meas: 1/═══════════════════════════════════════════════════════════════════════»\n",
       "                                                                               »\n",
       "«        ┌─────────┐┌─────────┐┌─────────┐┌─────────┐┌─────────┐┌─────────┐»\n",
       "«     q: ┤ H(3.16) ├┤ H(3.68) ├┤ H(4.21) ├┤ H(4.74) ├┤ H(5.26) ├┤ H(5.79) ├»\n",
       "«        └─────────┘└─────────┘└─────────┘└─────────┘└─────────┘└─────────┘»\n",
       "«meas: 1/══════════════════════════════════════════════════════════════════»\n",
       "«                                                                          »\n",
       "«        ┌─────────┐┌─────────┐┌─────────┐┌─────────┐┌─────────┐┌─────────┐»\n",
       "«     q: ┤ H(6.32) ├┤ H(6.84) ├┤ H(7.37) ├┤ H(7.89) ├┤ H(8.42) ├┤ H(8.95) ├»\n",
       "«        └─────────┘└─────────┘└─────────┘└─────────┘└─────────┘└─────────┘»\n",
       "«meas: 1/══════════════════════════════════════════════════════════════════»\n",
       "«                                                                          »\n",
       "«        ┌─────────┐┌──────────┐ ░ ┌─┐\n",
       "«     q: ┤ H(9.47) ├┤ H(10.00) ├─░─┤M├\n",
       "«        └─────────┘└──────────┘ ░ └╥┘\n",
       "«meas: 1/═══════════════════════════╩═\n",
       "«                                   0 "
      ]
     },
     "execution_count": 631,
     "metadata": {},
     "output_type": "execute_result"
    }
   ],
   "source": [
    "aqo_sample = aqo_circuit.copy()\n",
    "aqo_sample.measure_all()\n",
    "aqo_sample.draw()"
   ]
  },
  {
   "cell_type": "code",
   "execution_count": 632,
   "metadata": {},
   "outputs": [
    {
     "name": "stdout",
     "output_type": "stream",
     "text": [
      "Energy ground state? 0.08646891771507342\n"
     ]
    }
   ],
   "source": [
    "estimator = qk.primitives.StatevectorEstimator()\n",
    "observables = [problem_hamiltonian]\n",
    "pub = (aqo_estimate, observables)\n",
    "job = estimator.run([pub])\n",
    "\n",
    "print(\"Energy ground state?\", job.result()[0].data.evs[0])"
   ]
  },
  {
   "cell_type": "code",
   "execution_count": 633,
   "metadata": {},
   "outputs": [
    {
     "name": "stdout",
     "output_type": "stream",
     "text": [
      "Number of times in each state {'1': 94, '0': 6}\n"
     ]
    }
   ],
   "source": [
    "sampler = qk.primitives.StatevectorSampler()\n",
    "job = sampler.run([(aqo_sample)], shots=100)\n",
    "result = job.result()[0]\n",
    "print(\"Number of times in each state\", result.data.meas.get_counts())"
   ]
  }
 ],
 "metadata": {
  "kernelspec": {
   "display_name": "env",
   "language": "python",
   "name": "python3"
  },
  "language_info": {
   "codemirror_mode": {
    "name": "ipython",
    "version": 3
   },
   "file_extension": ".py",
   "mimetype": "text/x-python",
   "name": "python",
   "nbconvert_exporter": "python",
   "pygments_lexer": "ipython3",
   "version": "3.11.9"
  }
 },
 "nbformat": 4,
 "nbformat_minor": 2
}
